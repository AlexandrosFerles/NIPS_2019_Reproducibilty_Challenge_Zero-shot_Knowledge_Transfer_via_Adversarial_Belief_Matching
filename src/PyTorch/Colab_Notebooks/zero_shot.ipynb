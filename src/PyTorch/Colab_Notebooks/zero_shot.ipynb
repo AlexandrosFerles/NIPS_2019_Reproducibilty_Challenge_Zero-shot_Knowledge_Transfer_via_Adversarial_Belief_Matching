{
  "nbformat": 4,
  "nbformat_minor": 0,
  "metadata": {
    "colab": {
      "name": "zero-shot.ipynb",
      "provenance": [],
      "collapsed_sections": [],
      "toc_visible": true
    },
    "kernelspec": {
      "name": "python3",
      "display_name": "Python 3"
    },
    "accelerator": "GPU"
  },
  "cells": [
    {
      "cell_type": "markdown",
      "metadata": {
        "id": "VZrjOZodoSNw",
        "colab_type": "text"
      },
      "source": [
        "#### Get Scratches from Google Drive"
      ]
    },
    {
      "cell_type": "code",
      "metadata": {
        "id": "dHdhy4B4pdn8",
        "colab_type": "code",
        "collapsed": true,
        "outputId": "6124af4b-ca04-44b2-a787-394e681dae9e",
        "colab": {
          "base_uri": "https://localhost:8080/",
          "height": 1000
        }
      },
      "source": [
        "!wget -O Zero_Shot --no-check-certificate https://www.dropbox.com/sh/kh0rpm7f52xhrkz/AACqSpx4Yc5BS9ByGpLApr68a?dl=0\n",
        "!unzip Zero_Shot\n",
        "!rm Zero_Shot\n",
        "!rm -r CIFAR10-Generators/\n",
        "!rm -r SVHN-Generators/"
      ],
      "execution_count": 1,
      "outputs": [
        {
          "output_type": "stream",
          "text": [
            "--2019-11-06 19:09:10--  https://www.dropbox.com/sh/kh0rpm7f52xhrkz/AACqSpx4Yc5BS9ByGpLApr68a?dl=0\n",
            "Resolving www.dropbox.com (www.dropbox.com)... 162.125.8.1, 2620:100:6018:1::a27d:301\n",
            "Connecting to www.dropbox.com (www.dropbox.com)|162.125.8.1|:443... connected.\n",
            "HTTP request sent, awaiting response... 301 Moved Permanently\n",
            "Location: /sh/raw/kh0rpm7f52xhrkz/AACqSpx4Yc5BS9ByGpLApr68a [following]\n",
            "--2019-11-06 19:09:15--  https://www.dropbox.com/sh/raw/kh0rpm7f52xhrkz/AACqSpx4Yc5BS9ByGpLApr68a\n",
            "Reusing existing connection to www.dropbox.com:443.\n",
            "HTTP request sent, awaiting response... 302 Found\n",
            "Location: https://uc690c0182e5a04c59db5b4665e8.dl.dropboxusercontent.com/zip_by_token_key?key=Ar2qV3fqtkjPUzdNtyL47hbe_y0RG5iw727Y_iOa8dkApXgEg1aHKcJFpKQi6_UZ2DL5mTrgc3wBrs-SMsz40Ty8pbhCJ-yd9xodwA81scizGeVZeSFeaiw9mkoqn-YoaYsMEAflnGyrC0eqDx_-cvO9LewAcywIDhfN873hWXLATYsmAwu-7a8YZg824zGUmifLtBwxKqJhDcT_Umx42sDBeKXF7ZhfPAjs25S1CuEQ-w [following]\n",
            "--2019-11-06 19:09:16--  https://uc690c0182e5a04c59db5b4665e8.dl.dropboxusercontent.com/zip_by_token_key?key=Ar2qV3fqtkjPUzdNtyL47hbe_y0RG5iw727Y_iOa8dkApXgEg1aHKcJFpKQi6_UZ2DL5mTrgc3wBrs-SMsz40Ty8pbhCJ-yd9xodwA81scizGeVZeSFeaiw9mkoqn-YoaYsMEAflnGyrC0eqDx_-cvO9LewAcywIDhfN873hWXLATYsmAwu-7a8YZg824zGUmifLtBwxKqJhDcT_Umx42sDBeKXF7ZhfPAjs25S1CuEQ-w\n",
            "Resolving uc690c0182e5a04c59db5b4665e8.dl.dropboxusercontent.com (uc690c0182e5a04c59db5b4665e8.dl.dropboxusercontent.com)... 162.125.8.6, 2620:100:601b:6::a27d:806\n",
            "Connecting to uc690c0182e5a04c59db5b4665e8.dl.dropboxusercontent.com (uc690c0182e5a04c59db5b4665e8.dl.dropboxusercontent.com)|162.125.8.6|:443... connected.\n",
            "HTTP request sent, awaiting response... 200 OK\n",
            "Length: unspecified [application/zip]\n",
            "Saving to: ‘Zero_Shot’\n",
            "\n",
            "Zero_Shot               [          <=>       ] 203.56M  10.9MB/s    in 20s     \n",
            "\n",
            "2019-11-06 19:09:37 (9.99 MB/s) - ‘Zero_Shot’ saved [213449294]\n",
            "\n",
            "Archive:  Zero_Shot\n",
            "warning:  stripped absolute path spec from /\n",
            "mapname:  conversion of  failed\n",
            "   creating: SVHN/\n",
            "   creating: CIFAR10/\n",
            "   creating: SVHN-Generators/\n",
            "   creating: CIFAR10-Generators/\n",
            "   creating: CIFAR10/WRN-40-1-WRN-16-2/\n",
            "   creating: CIFAR10/WRN-40-1-WRN-16-1/\n",
            "   creating: CIFAR10/WRN-16-2-WRN-16-1/\n",
            "   creating: CIFAR10/WRN-40-2-WRN-40-1/\n",
            "   creating: CIFAR10/WRN-40-2-WRN-16-2/\n",
            "   creating: CIFAR10/WRN-40-2-WRN-16-1/\n",
            "   creating: CIFAR10/WRN-40-1-WRN-16-2/Seed-2/\n",
            "   creating: CIFAR10/WRN-40-1-WRN-16-2/Seed-1/\n",
            "   creating: CIFAR10/WRN-40-1-WRN-16-2/Seed-0/\n",
            "   creating: CIFAR10/WRN-40-2-WRN-16-2/Seed-0/\n",
            "   creating: CIFAR10/WRN-40-2-WRN-16-2/Seed-1/\n",
            "   creating: CIFAR10/WRN-40-2-WRN-16-2/Seed-2/\n",
            "   creating: CIFAR10/WRN-16-2-WRN-16-1/Seed-0/\n",
            "   creating: CIFAR10/WRN-16-2-WRN-16-1/Seed-1/\n",
            "   creating: CIFAR10/WRN-16-2-WRN-16-1/Seed-2/\n",
            "   creating: CIFAR10/WRN-40-2-WRN-40-1/Seed-0/\n",
            "   creating: CIFAR10/WRN-40-1-WRN-16-1/Seed-2/\n",
            "   creating: CIFAR10/WRN-40-1-WRN-16-1/Seed-0/\n",
            "   creating: CIFAR10/WRN-40-1-WRN-16-1/Seed-1/\n",
            "   creating: CIFAR10/WRN-40-2-WRN-40-1/Seed-2/\n",
            "   creating: CIFAR10/WRN-40-2-WRN-40-1/Seed-1/\n",
            "   creating: CIFAR10/WRN-40-2-WRN-16-1/Seed-1/\n",
            "   creating: CIFAR10/WRN-40-2-WRN-16-1/Seed-0/\n",
            "   creating: CIFAR10/WRN-40-2-WRN-16-1/Seed-2/\n",
            "   creating: CIFAR10-Generators/middle-generators/\n",
            " extracting: SVHN/zero_shot_teacher_wrn-40-2_student_wrn-16-1-M-0-seed-2-SVHN-dict.pth  \n",
            " extracting: SVHN/zero_shot_teacher_wrn-40-2_student_wrn-16-1-M-0-seed-0-SVHN-dict.pth  \n",
            " extracting: SVHN/zero_shot_teacher_wrn-40-2_student_wrn-16-1-M-0-seed-1-SVHN-dict.pth  \n",
            " extracting: SVHN-Generators/zero_shot_teacher_wrn-40-2_student_wrn-16-1-M-0-seed-2-SVHN-generator-dict.pth  \n",
            " extracting: SVHN-Generators/zero_shot_teacher_wrn-40-2_student_wrn-16-1-M-0-seed-1-SVHN-generator-dict.pth  \n",
            " extracting: SVHN-Generators/zero_shot_teacher_wrn-40-2_student_wrn-16-1-M-0-seed-0-SVHN-generator-dict.pth  \n",
            " extracting: reproducibility_zero_shot_teacher_wrn-40-2_student_wrn-16-1-M-0-seed-2-CIFAR10-generator-dict.pth  \n",
            " extracting: CIFAR10-Generators/reproducibility_zero_shot_teacher_wrn-40-2_student_wrn-16-2-M-0-seed-0-CIFAR10-generator-dict.pth  \n",
            " extracting: CIFAR10-Generators/reproducibility_zero_shot_teacher_wrn-16-2_student_wrn-16-1-M-0-seed-2-CIFAR10-generator-dict.pth  \n",
            " extracting: CIFAR10-Generators/reproducibility_zero_shot_teacher_wrn-40-2_student_wrn-16-1-M-0-seed-2-CIFAR10-generator-dict.pth  \n",
            " extracting: CIFAR10-Generators/reproducibility_zero_shot_teacher_wrn-40-2_student_wrn-16-1-M-0-seed-1-CIFAR10-generator-dict.pth  \n",
            " extracting: CIFAR10-Generators/reproducibility_zero_shot_teacher_wrn-40-1_student_wrn-16-1-M-0-seed-2-CIFAR10-generator-dict.pth  \n",
            " extracting: CIFAR10-Generators/reproducibility_zero_shot_teacher_wrn-40-1_student_wrn-16-2-M-0-seed-1-CIFAR10-generator-dict.pth  \n",
            " extracting: CIFAR10-Generators/reproducibility_zero_shot_teacher_wrn-40-2_student_wrn-40-1-M-0-seed-1-CIFAR10-generator-dict.pth  \n",
            " extracting: CIFAR10-Generators/reproducibility_zero_shot_teacher_wrn-40-2_student_wrn-16-2-M-0-seed-2-CIFAR10-generator-dict.pth  \n",
            " extracting: CIFAR10-Generators/reproducibility_zero_shot_teacher_wrn-40-2_student_wrn-16-1-M-0-seed-0-CIFAR10-generator-dict.pth  \n",
            " extracting: CIFAR10-Generators/reproducibility_zero_shot_teacher_wrn-40-2_student_wrn-16-2-M-0-seed-1-CIFAR10-generator-dict.pth  \n",
            " extracting: CIFAR10-Generators/reproducibility_zero_shot_teacher_wrn-16-2_student_wrn-16-1-M-0-seed-0-CIFAR10-generator-dict.pth  \n",
            " extracting: CIFAR10-Generators/reproducibility_zero_shot_teacher_wrn-16-2_student_wrn-16-1-M-0-seed-1-CIFAR10-generator-dict.pth  \n",
            " extracting: CIFAR10-Generators/reproducibility_zero_shot_teacher_wrn-40-2_student_wrn-40-1-M-0-seed-0-CIFAR10-generator-dict.pth  \n",
            " extracting: CIFAR10-Generators/reproducibility_zero_shot_teacher_wrn-40-1_student_wrn-16-1-M-0-seed-0-CIFAR10-generator-dict.pth  \n",
            " extracting: CIFAR10-Generators/reproducibility_zero_shot_teacher_wrn-40-2_student_wrn-40-1-M-0-seed-2-CIFAR10-generator-dict.pth  \n",
            " extracting: CIFAR10-Generators/reproducibility_zero_shot_teacher_wrn-40-1_student_wrn-16-2-M-0-seed-0-CIFAR10-generator-dict.pth  \n",
            " extracting: CIFAR10-Generators/reproducibility_zero_shot_teacher_wrn-40-1_student_wrn-16-2-M-0-seed-2-CIFAR10-generator-dict.pth  \n",
            " extracting: CIFAR10-Generators/reproducibility_zero_shot_teacher_wrn-40-1_student_wrn-16-1-M-0-seed-1-CIFAR10-generator-dict.pth  \n",
            " extracting: CIFAR10/WRN-40-1-WRN-16-2/Seed-0/reproducibility_zero_shot_teacher_wrn-40-1_student_wrn-16-2-M-0-seed-0-CIFAR10-dict.pth  \n",
            " extracting: CIFAR10/WRN-16-2-WRN-16-1/Seed-2/reproducibility_zero_shot_teacher_wrn-16-2_student_wrn-16-1-M-0-seed-2-CIFAR10-dict.pth  \n",
            " extracting: CIFAR10/WRN-16-2-WRN-16-1/Seed-0/reproducibility_zero_shot_teacher_wrn-16-2_student_wrn-16-1-M-0-seed-0-CIFAR10-dict.pth  \n",
            " extracting: CIFAR10/WRN-40-2-WRN-16-1/Seed-2/reproducibility_zero_shot_teacher_wrn-40-2_student_wrn-16-1-M-0-seed-2-CIFAR10-dict.pth  \n",
            " extracting: CIFAR10/WRN-40-2-WRN-40-1/Seed-1/reproducibility_zero_shot_teacher_wrn-40-2_student_wrn-40-1-M-0-seed-1-CIFAR10-dict.pth  \n",
            " extracting: CIFAR10/WRN-40-1-WRN-16-1/Seed-0/reproducibility_zero_shot_teacher_wrn-40-1_student_wrn-16-1-M-0-seed-0-CIFAR10-dict.pth  \n",
            " extracting: CIFAR10/WRN-40-2-WRN-16-2/Seed-1/reproducibility_zero_shot_teacher_wrn-40-2_student_wrn-16-2-M-0-seed-1-CIFAR10-dict.pth  \n",
            " extracting: CIFAR10/WRN-40-2-WRN-16-2/Seed-0/reproducibility_zero_shot_teacher_wrn-40-2_student_wrn-16-2-M-0-seed-0-CIFAR10-dict.pth  \n",
            " extracting: CIFAR10/WRN-40-2-WRN-16-2/Seed-2/reproducibility_zero_shot_teacher_wrn-40-2_student_wrn-16-2-M-0-seed-2-CIFAR10-dict.pth  \n",
            " extracting: CIFAR10/WRN-40-2-WRN-40-1/Seed-0/reproducibility_zero_shot_teacher_wrn-40-2_student_wrn-40-1-M-0-seed-0-CIFAR10-dict.pth  \n",
            " extracting: CIFAR10/WRN-40-1-WRN-16-1/Seed-1/reproducibility_zero_shot_teacher_wrn-40-1_student_wrn-16-1-M-0-seed-1-CIFAR10-dict.pth  \n",
            " extracting: CIFAR10/WRN-40-1-WRN-16-1/Seed-2/reproducibility_zero_shot_teacher_wrn-40-1_student_wrn-16-1-M-0-seed-2-CIFAR10-dict.pth  \n",
            " extracting: CIFAR10/WRN-40-1-WRN-16-2/Seed-1/reproducibility_zero_shot_teacher_wrn-40-1_student_wrn-16-2-M-0-seed-1-CIFAR10-dict.pth  \n",
            " extracting: CIFAR10/WRN-40-2-WRN-40-1/Seed-2/reproducibility_zero_shot_teacher_wrn-40-2_student_wrn-40-1-M-0-seed-2-CIFAR10-dict.pth  \n",
            " extracting: CIFAR10/WRN-40-1-WRN-16-2/Seed-2/reproducibility_zero_shot_teacher_wrn-40-1_student_wrn-16-2-M-0-seed-2-CIFAR10-dict.pth  \n",
            " extracting: CIFAR10/WRN-16-2-WRN-16-1/Seed-1/reproducibility_zero_shot_teacher_wrn-16-2_student_wrn-16-1-M-0-seed-1-CIFAR10-dict.pth  \n",
            " extracting: CIFAR10/WRN-40-2-WRN-16-1/Seed-0/reproducibility_zero_shot_teacher_wrn-40-2_student_wrn-16-1-M-0-seed-0-CIFAR10-dict.pth  \n",
            " extracting: CIFAR10/WRN-40-2-WRN-16-1/Seed-1/reproducibility_zero_shot_teacher_wrn-40-2_student_wrn-16-1-M-0-seed-1-CIFAR10-dict.pth  \n",
            " extracting: CIFAR10-Generators/middle-generators/reproducibility_zero_shot_teacher_wrn-40-1_student_wrn-16-2-M-0-seed-2-CIFAR10-generator-dict-0.pth  \n",
            " extracting: CIFAR10-Generators/middle-generators/reproducibility_zero_shot_teacher_wrn-40-1_student_wrn-16-1-M-0-seed-1-CIFAR10-generator-dict-0.pth  \n",
            " extracting: CIFAR10-Generators/middle-generators/reproducibility_zero_shot_teacher_wrn-16-2_student_wrn-16-1-M-0-seed-0-CIFAR10-generator-dict-0.pth  \n",
            " extracting: CIFAR10-Generators/middle-generators/reproducibility_zero_shot_teacher_wrn-40-1_student_wrn-16-2-M-0-seed-2-CIFAR10-generator-dict-8000.pth  \n",
            " extracting: CIFAR10-Generators/middle-generators/reproducibility_zero_shot_teacher_wrn-40-1_student_wrn-16-1-M-0-seed-1-CIFAR10-generator-dict-2000.pth  \n",
            " extracting: CIFAR10-Generators/middle-generators/reproducibility_zero_shot_teacher_wrn-40-1_student_wrn-16-1-M-0-seed-1-CIFAR10-generator-dict-8000.pth  \n",
            " extracting: CIFAR10-Generators/middle-generators/reproducibility_zero_shot_teacher_wrn-40-1_student_wrn-16-2-M-0-seed-2-CIFAR10-generator-dict-3000.pth  \n",
            " extracting: CIFAR10-Generators/middle-generators/reproducibility_zero_shot_teacher_wrn-40-1_student_wrn-16-2-M-0-seed-2-CIFAR10-generator-dict-5000.pth  \n",
            " extracting: CIFAR10-Generators/middle-generators/reproducibility_zero_shot_teacher_wrn-40-1_student_wrn-16-1-M-0-seed-1-CIFAR10-generator-dict-5000.pth  \n",
            " extracting: CIFAR10-Generators/middle-generators/reproducibility_zero_shot_teacher_wrn-16-2_student_wrn-16-1-M-0-seed-0-CIFAR10-generator-dict-5000.pth  \n",
            " extracting: CIFAR10-Generators/middle-generators/reproducibility_zero_shot_teacher_wrn-16-2_student_wrn-16-1-M-0-seed-0-CIFAR10-generator-dict-1000.pth  \n",
            " extracting: CIFAR10-Generators/middle-generators/reproducibility_zero_shot_teacher_wrn-16-2_student_wrn-16-1-M-0-seed-0-CIFAR10-generator-dict-8000.pth  \n",
            " extracting: CIFAR10-Generators/middle-generators/reproducibility_zero_shot_teacher_wrn-16-2_student_wrn-16-1-M-0-seed-0-CIFAR10-generator-dict-20000.pth  \n",
            " extracting: CIFAR10-Generators/middle-generators/reproducibility_zero_shot_teacher_wrn-16-2_student_wrn-16-1-M-0-seed-0-CIFAR10-generator-dict-15000.pth  \n",
            " extracting: CIFAR10-Generators/middle-generators/reproducibility_zero_shot_teacher_wrn-40-1_student_wrn-16-1-M-0-seed-1-CIFAR10-generator-dict-20000.pth  \n",
            " extracting: CIFAR10-Generators/middle-generators/reproducibility_zero_shot_teacher_wrn-16-2_student_wrn-16-1-M-0-seed-0-CIFAR10-generator-dict-10000.pth  \n",
            " extracting: CIFAR10-Generators/middle-generators/reproducibility_zero_shot_teacher_wrn-40-1_student_wrn-16-2-M-0-seed-2-CIFAR10-generator-dict-15000.pth  \n",
            " extracting: CIFAR10-Generators/middle-generators/reproducibility_zero_shot_teacher_wrn-40-1_student_wrn-16-2-M-0-seed-2-CIFAR10-generator-dict-20000.pth  \n",
            " extracting: CIFAR10-Generators/middle-generators/reproducibility_zero_shot_teacher_wrn-40-1_student_wrn-16-1-M-0-seed-1-CIFAR10-generator-dict-15000.pth  \n",
            " extracting: CIFAR10-Generators/middle-generators/reproducibility_zero_shot_teacher_wrn-40-1_student_wrn-16-1-M-0-seed-1-CIFAR10-generator-dict-10000.pth  \n",
            " extracting: CIFAR10-Generators/middle-generators/reproducibility_zero_shot_teacher_wrn-40-1_student_wrn-16-2-M-0-seed-2-CIFAR10-generator-dict-10000.pth  \n"
          ],
          "name": "stdout"
        }
      ]
    },
    {
      "cell_type": "code",
      "metadata": {
        "id": "fyzdJlvY1f0b",
        "colab_type": "code",
        "colab": {}
      },
      "source": [
        "import torch\n",
        "import torchvision\n",
        "from torch import nn as nn\n",
        "from torchvision import transforms\n",
        "device = torch.device('cuda:0')"
      ],
      "execution_count": 0,
      "outputs": []
    },
    {
      "cell_type": "code",
      "metadata": {
        "id": "04rUOR8D2J8K",
        "colab_type": "code",
        "colab": {}
      },
      "source": [
        "class IndividualBlock1(nn.Module):\n",
        "\n",
        "    def __init__(self, input_features, output_features, stride, subsample_input=True, increase_filters=True):\n",
        "        super(IndividualBlock1, self).__init__()\n",
        "\n",
        "        self.activation = nn.ReLU(inplace=True)\n",
        "\n",
        "        self.batch_norm1 = nn.BatchNorm2d(input_features)\n",
        "        self.batch_norm2 = nn.BatchNorm2d(output_features)\n",
        "\n",
        "        self.conv1 = nn.Conv2d(input_features, output_features, kernel_size=3, stride=stride, padding=1, bias=False)\n",
        "        self.conv2 = nn.Conv2d(output_features, output_features, kernel_size=3, stride=1, padding=1, bias=False)\n",
        "\n",
        "        self.subsample_input = subsample_input\n",
        "        self.increase_filters = increase_filters\n",
        "        if subsample_input:\n",
        "            self.conv_inp = nn.Conv2d(input_features, output_features, kernel_size=1, stride=2, padding=0, bias=False)\n",
        "        elif increase_filters:\n",
        "            self.conv_inp = nn.Conv2d(input_features, output_features, kernel_size=1, stride=1, padding=0, bias=False)\n",
        "\n",
        "    def forward(self, x):\n",
        "\n",
        "        if self.subsample_input or self.increase_filters:\n",
        "            x = self.batch_norm1(x)\n",
        "            x = self.activation(x)\n",
        "            x1 = self.conv1(x)\n",
        "        else:\n",
        "            x1 = self.batch_norm1(x)\n",
        "            x1 = self.activation(x1)\n",
        "            x1 = self.conv1(x1)\n",
        "        x1 = self.batch_norm2(x1)\n",
        "        x1 = self.activation(x1)\n",
        "        x1 = self.conv2(x1)\n",
        "\n",
        "        if self.subsample_input or self.increase_filters:\n",
        "            return self.conv_inp(x) + x1\n",
        "        else:\n",
        "            return x + x1\n",
        "\n",
        "\n",
        "class IndividualBlockN(nn.Module):\n",
        "\n",
        "    def __init__(self, input_features, output_features, stride):\n",
        "        super(IndividualBlockN, self).__init__()\n",
        "\n",
        "        self.activation = nn.ReLU(inplace=True)\n",
        "\n",
        "        self.batch_norm1 = nn.BatchNorm2d(input_features)\n",
        "        self.batch_norm2 = nn.BatchNorm2d(output_features)\n",
        "\n",
        "        self.conv1 = nn.Conv2d(input_features, output_features, kernel_size=3, stride=stride, padding=1, bias=False)\n",
        "        self.conv2 = nn.Conv2d(output_features, output_features, kernel_size=3, stride=stride, padding=1, bias=False)\n",
        "\n",
        "    def forward(self, x):\n",
        "        x1 = self.batch_norm1(x)\n",
        "        x1 = self.activation(x1)\n",
        "        x1 = self.conv1(x1)\n",
        "        x1 = self.batch_norm2(x1)\n",
        "        x1 = self.activation(x1)\n",
        "        x1 = self.conv2(x1)\n",
        "\n",
        "        return x1 + x\n",
        "\n",
        "\n",
        "class Nblock(nn.Module):\n",
        "\n",
        "    def __init__(self, N, input_features, output_features, stride, subsample_input=True, increase_filters=True):\n",
        "        super(Nblock, self).__init__()\n",
        "\n",
        "        layers = []\n",
        "        for i in range(N):\n",
        "            if i == 0:\n",
        "                layers.append(IndividualBlock1(input_features, output_features, stride, subsample_input, increase_filters))\n",
        "            else:\n",
        "                layers.append(IndividualBlockN(output_features, output_features, stride=1))\n",
        "\n",
        "        self.nblockLayer = nn.Sequential(*layers)\n",
        "\n",
        "    def forward(self, x):\n",
        "        return self.nblockLayer(x)\n",
        "\n",
        "\n",
        "class WideResNet(nn.Module):\n",
        "\n",
        "    def __init__(self, d, k, n_classes, input_features, output_features, strides):\n",
        "        super(WideResNet, self).__init__()\n",
        "\n",
        "        self.conv1 = nn.Conv2d(input_features, output_features, kernel_size=3, stride=strides[0], padding=1, bias=False)\n",
        "\n",
        "        filters = [16 * k, 32 * k, 64 * k]\n",
        "        self.out_filters = filters[-1]\n",
        "        N = (d - 4) // 6\n",
        "        increase_filters = k > 1\n",
        "        self.block1 = Nblock(N, input_features=output_features, output_features=filters[0], stride=strides[1], subsample_input=False, increase_filters=increase_filters)\n",
        "        self.block2 = Nblock(N, input_features=filters[0], output_features=filters[1], stride=strides[2])\n",
        "        self.block3 = Nblock(N, input_features=filters[1], output_features=filters[2], stride=strides[3])\n",
        "\n",
        "        self.batch_norm = nn.BatchNorm2d(filters[-1])\n",
        "        self.activation = nn.ReLU(inplace=True)\n",
        "        self.avg_pool = nn.AvgPool2d(kernel_size=8)\n",
        "        self.fc = nn.Linear(filters[-1], n_classes)\n",
        "\n",
        "    def forward(self, x):\n",
        "\n",
        "        x = self.conv1(x)\n",
        "        attention1 = self.block1(x)\n",
        "        attention2 = self.block2(attention1)\n",
        "        attention3 = self.block3(attention2)\n",
        "        out = self.batch_norm(attention3)\n",
        "        out = self.activation(out)\n",
        "        out = self.avg_pool(out)\n",
        "        out = out.view(-1, self.out_filters)\n",
        "\n",
        "        return self.fc(out), attention1, attention2, attention3"
      ],
      "execution_count": 0,
      "outputs": []
    },
    {
      "cell_type": "code",
      "metadata": {
        "id": "uy3VXdQX2y_X",
        "colab_type": "code",
        "colab": {}
      },
      "source": [
        "def _test_set_eval(net, device, test_loader):\n",
        "    with torch.no_grad():\n",
        "        correct, total = 0, 0\n",
        "        net.eval()\n",
        "\n",
        "        for data in test_loader:\n",
        "            images, labels = data\n",
        "            images = images.to(device)\n",
        "            labels = labels.to(device)\n",
        "\n",
        "            outputs = net(images)[0]\n",
        "            _, predicted = torch.max(outputs.data, 1)\n",
        "            total += labels.size(0)\n",
        "            correct += (predicted == labels).sum().item()\n",
        "\n",
        "        accuracy = correct / total\n",
        "        accuracy = round(100 * accuracy, 2)\n",
        "\n",
        "        return accuracy"
      ],
      "execution_count": 0,
      "outputs": []
    },
    {
      "cell_type": "markdown",
      "metadata": {
        "id": "AMjBJnv8zrX5",
        "colab_type": "text"
      },
      "source": [
        "# SVHN"
      ]
    },
    {
      "cell_type": "code",
      "metadata": {
        "id": "n91SCkbQ1tZw",
        "colab_type": "code",
        "outputId": "111194a3-001c-450a-95ac-4da60dad8fe4",
        "colab": {
          "base_uri": "https://localhost:8080/",
          "height": 71
        }
      },
      "source": [
        "svhn_normalize = transforms.Normalize((0.4377, 0.4438, 0.4728), (0.1980, 0.2010, 0.1970))\n",
        "\n",
        "svhn_transform = transforms.Compose([\n",
        "    transforms.ToTensor(),\n",
        "    svhn_normalize,\n",
        "])\n",
        "\n",
        "svhn_test_set = torchvision.datasets.SVHN(root='./data', split='test', download=True, transform=svhn_transform)\n",
        "svhn_test_loader = testloader = torch.utils.data.DataLoader(svhn_test_set, batch_size=100, shuffle=False, num_workers=0)"
      ],
      "execution_count": 5,
      "outputs": [
        {
          "output_type": "stream",
          "text": [
            "  0%|          | 0/64275384 [00:00<?, ?it/s]"
          ],
          "name": "stderr"
        },
        {
          "output_type": "stream",
          "text": [
            "Downloading http://ufldl.stanford.edu/housenumbers/test_32x32.mat to ./data/test_32x32.mat\n"
          ],
          "name": "stdout"
        },
        {
          "output_type": "stream",
          "text": [
            "64282624it [00:02, 30634797.62it/s]                              \n"
          ],
          "name": "stderr"
        }
      ]
    },
    {
      "cell_type": "markdown",
      "metadata": {
        "id": "wxHiXxW7w5Iw",
        "colab_type": "text"
      },
      "source": [
        "#### Zero Shot - Teacher WRN-40-2 Student WRN-16-1 "
      ]
    },
    {
      "cell_type": "markdown",
      "metadata": {
        "id": "TiiU4WbG0Ku6",
        "colab_type": "text"
      },
      "source": [
        "#### Seed 0"
      ]
    },
    {
      "cell_type": "code",
      "metadata": {
        "id": "OUqmQHvj3U6F",
        "colab_type": "code",
        "outputId": "2b8510e4-52c8-42a5-a56f-6476e3d39953",
        "colab": {
          "base_uri": "https://localhost:8080/",
          "height": 34
        }
      },
      "source": [
        "d = 16\n",
        "k = 1\n",
        "strides = [1, 1, 2, 2]\n",
        "net = WideResNet(d=d, k=k, n_classes=10, input_features=3, output_features=16, strides=strides).to(device)\n",
        "net.load_state_dict(torch.load('./SVHN/zero_shot_teacher_wrn-40-2_student_wrn-16-1-M-0-seed-0-SVHN-dict.pth'))\n",
        "accuracy = _test_set_eval(net, device, svhn_test_loader)\n",
        "accuracy  "
      ],
      "execution_count": 6,
      "outputs": [
        {
          "output_type": "execute_result",
          "data": {
            "text/plain": [
              "94.21"
            ]
          },
          "metadata": {
            "tags": []
          },
          "execution_count": 6
        }
      ]
    },
    {
      "cell_type": "markdown",
      "metadata": {
        "id": "DyfhQ87B0UKI",
        "colab_type": "text"
      },
      "source": [
        "#### Seed 1"
      ]
    },
    {
      "cell_type": "code",
      "metadata": {
        "id": "p7AwLJkfpF7S",
        "colab_type": "code",
        "outputId": "6587c382-4ac1-436f-dc53-b645d688287d",
        "colab": {
          "base_uri": "https://localhost:8080/",
          "height": 34
        }
      },
      "source": [
        "d = 16\n",
        "k = 1\n",
        "strides = [1, 1, 2, 2]\n",
        "net = WideResNet(d=d, k=k, n_classes=10, input_features=3, output_features=16, strides=strides).to(device)\n",
        "net.load_state_dict(torch.load('./SVHN/zero_shot_teacher_wrn-40-2_student_wrn-16-1-M-0-seed-1-SVHN-dict.pth'))\n",
        "accuracy = _test_set_eval(net, device, svhn_test_loader)\n",
        "accuracy  "
      ],
      "execution_count": 7,
      "outputs": [
        {
          "output_type": "execute_result",
          "data": {
            "text/plain": [
              "93.85"
            ]
          },
          "metadata": {
            "tags": []
          },
          "execution_count": 7
        }
      ]
    },
    {
      "cell_type": "markdown",
      "metadata": {
        "id": "05mXKxCF3DHw",
        "colab_type": "text"
      },
      "source": [
        "#### Seed 2"
      ]
    },
    {
      "cell_type": "code",
      "metadata": {
        "id": "Q1VapgsmpKhD",
        "colab_type": "code",
        "outputId": "d11a77aa-340c-49d2-b8aa-77a871432c2e",
        "colab": {
          "base_uri": "https://localhost:8080/",
          "height": 34
        }
      },
      "source": [
        "d = 16\n",
        "k = 1\n",
        "strides = [1, 1, 2, 2]\n",
        "net = WideResNet(d=d, k=k, n_classes=10, input_features=3, output_features=16, strides=strides).to(device)\n",
        "net.load_state_dict(torch.load('./SVHN/zero_shot_teacher_wrn-40-2_student_wrn-16-1-M-0-seed-2-SVHN-dict.pth'))\n",
        "accuracy = _test_set_eval(net, device, svhn_test_loader)\n",
        "accuracy  "
      ],
      "execution_count": 8,
      "outputs": [
        {
          "output_type": "execute_result",
          "data": {
            "text/plain": [
              "93.94"
            ]
          },
          "metadata": {
            "tags": []
          },
          "execution_count": 8
        }
      ]
    },
    {
      "cell_type": "markdown",
      "metadata": {
        "id": "m_rP6paD6S_k",
        "colab_type": "text"
      },
      "source": [
        "# CIFAR10"
      ]
    },
    {
      "cell_type": "code",
      "metadata": {
        "id": "mIvlP9yx6WiV",
        "colab_type": "code",
        "outputId": "d4fce69b-3bd0-4569-d2f8-c7d7d78cac7a",
        "colab": {
          "base_uri": "https://localhost:8080/",
          "height": 88
        }
      },
      "source": [
        "cifar_normalize = transforms.Normalize((0.4914, 0.4822, 0.4465), (0.2023, 0.1994, 0.2010))\n",
        "\n",
        "cifar_transform = transforms.Compose([\n",
        "  transforms.ToTensor(),\n",
        "  cifar_normalize,\n",
        "])\n",
        "\n",
        "cifar_testset = torchvision.datasets.CIFAR10(root='./data', train=False, download=True, transform=cifar_transform)\n",
        "cifar_testloader = torch.utils.data.DataLoader(cifar_testset, batch_size=100, shuffle=False, num_workers=0)"
      ],
      "execution_count": 9,
      "outputs": [
        {
          "output_type": "stream",
          "text": [
            "  0%|          | 0/170498071 [00:00<?, ?it/s]"
          ],
          "name": "stderr"
        },
        {
          "output_type": "stream",
          "text": [
            "Downloading https://www.cs.toronto.edu/~kriz/cifar-10-python.tar.gz to ./data/cifar-10-python.tar.gz\n"
          ],
          "name": "stdout"
        },
        {
          "output_type": "stream",
          "text": [
            "170500096it [00:02, 80991321.64it/s]                               \n"
          ],
          "name": "stderr"
        },
        {
          "output_type": "stream",
          "text": [
            "Extracting ./data/cifar-10-python.tar.gz to ./data\n"
          ],
          "name": "stdout"
        }
      ]
    },
    {
      "cell_type": "markdown",
      "metadata": {
        "id": "8h3Aq-LasWZs",
        "colab_type": "text"
      },
      "source": [
        "#### Zero Shot - Teacher WRN-16-2  Student WRN-16-1"
      ]
    },
    {
      "cell_type": "markdown",
      "metadata": {
        "id": "dIxYH1SXscsr",
        "colab_type": "text"
      },
      "source": [
        "#### Seed 0"
      ]
    },
    {
      "cell_type": "code",
      "metadata": {
        "id": "u9jxQeshtG9f",
        "colab_type": "code",
        "outputId": "b3441adc-b301-4317-a2bd-741a1ee04283",
        "colab": {
          "base_uri": "https://localhost:8080/",
          "height": 34
        }
      },
      "source": [
        "seed=\"0\"\n",
        "Teacher=\"WRN-16-2\"\n",
        "Student=\"WRN-16-1\"\n",
        "d = 16\n",
        "k = 1\n",
        "strides = [1, 1, 2, 2]\n",
        "net = WideResNet(d=d, k=k, n_classes=10, input_features=3, output_features=16, strides=strides).to(device)\n",
        "net.load_state_dict(torch.load('./CIFAR10/'+Teacher+'-'+Student+'/Seed-'+seed+'/reproducibility_zero_shot_teacher_'+Teacher.lower()+'_student_'+Student.lower()+'-M-0-seed-'+seed+'-CIFAR10-dict.pth',map_location=device))\n",
        "accuracy = _test_set_eval(net, device, cifar_testloader)\n",
        "accuracy  "
      ],
      "execution_count": 10,
      "outputs": [
        {
          "output_type": "execute_result",
          "data": {
            "text/plain": [
              "80.59"
            ]
          },
          "metadata": {
            "tags": []
          },
          "execution_count": 10
        }
      ]
    },
    {
      "cell_type": "markdown",
      "metadata": {
        "id": "oniCRSM_sfT0",
        "colab_type": "text"
      },
      "source": [
        "#### Seed 1"
      ]
    },
    {
      "cell_type": "code",
      "metadata": {
        "id": "DtpEV8VGuwKZ",
        "colab_type": "code",
        "outputId": "9549bcd6-ac2a-4d9c-c328-84e5321b2e32",
        "colab": {
          "base_uri": "https://localhost:8080/",
          "height": 34
        }
      },
      "source": [
        "seed=\"1\"\n",
        "Teacher=\"WRN-16-2\"\n",
        "Student=\"WRN-16-1\"\n",
        "d = 16\n",
        "k = 1\n",
        "strides = [1, 1, 2, 2]\n",
        "net = WideResNet(d=d, k=k, n_classes=10, input_features=3, output_features=16, strides=strides).to(device)\n",
        "net.load_state_dict(torch.load('./CIFAR10/'+Teacher+'-'+Student+'/Seed-'+seed+'/reproducibility_zero_shot_teacher_'+Teacher.lower()+'_student_'+Student.lower()+'-M-0-seed-'+seed+'-CIFAR10-dict.pth',map_location=device))\n",
        "accuracy = _test_set_eval(net, device, cifar_testloader)\n",
        "accuracy  "
      ],
      "execution_count": 11,
      "outputs": [
        {
          "output_type": "execute_result",
          "data": {
            "text/plain": [
              "80.7"
            ]
          },
          "metadata": {
            "tags": []
          },
          "execution_count": 11
        }
      ]
    },
    {
      "cell_type": "markdown",
      "metadata": {
        "id": "gIownnzZshnH",
        "colab_type": "text"
      },
      "source": [
        "#### Seed 2"
      ]
    },
    {
      "cell_type": "code",
      "metadata": {
        "id": "abryDa5TuxrW",
        "colab_type": "code",
        "outputId": "7fddcf74-83f3-42da-a889-8db8463bf359",
        "colab": {
          "base_uri": "https://localhost:8080/",
          "height": 34
        }
      },
      "source": [
        "seed=\"2\"\n",
        "Teacher=\"WRN-16-2\"\n",
        "Student=\"WRN-16-1\"\n",
        "d = 16\n",
        "k = 1\n",
        "strides = [1, 1, 2, 2]\n",
        "net = WideResNet(d=d, k=k, n_classes=10, input_features=3, output_features=16, strides=strides).to(device)\n",
        "net.load_state_dict(torch.load('./CIFAR10/'+Teacher+'-'+Student+'/Seed-'+seed+'/reproducibility_zero_shot_teacher_'+Teacher.lower()+'_student_'+Student.lower()+'-M-0-seed-'+seed+'-CIFAR10-dict.pth',map_location=device))\n",
        "accuracy = _test_set_eval(net, device, cifar_testloader)\n",
        "accuracy  "
      ],
      "execution_count": 12,
      "outputs": [
        {
          "output_type": "execute_result",
          "data": {
            "text/plain": [
              "82.48"
            ]
          },
          "metadata": {
            "tags": []
          },
          "execution_count": 12
        }
      ]
    },
    {
      "cell_type": "markdown",
      "metadata": {
        "colab_type": "text",
        "id": "_r79JuMssjZW"
      },
      "source": [
        "#### Zero Shot - Teacher WRN-40-1  Student WRN-16-1"
      ]
    },
    {
      "cell_type": "markdown",
      "metadata": {
        "id": "rQanqeOfuzUC",
        "colab_type": "text"
      },
      "source": [
        "#### Seed 0"
      ]
    },
    {
      "cell_type": "code",
      "metadata": {
        "colab_type": "code",
        "id": "NUFsE9FxvLcg",
        "outputId": "000b09a0-857d-41e5-b9c5-0a662fa0ada1",
        "colab": {
          "base_uri": "https://localhost:8080/",
          "height": 34
        }
      },
      "source": [
        "seed=\"0\"\n",
        "Teacher=\"WRN-40-1\"\n",
        "Student=\"WRN-16-1\"\n",
        "d = 16\n",
        "k = 1\n",
        "strides = [1, 1, 2, 2]\n",
        "net = WideResNet(d=d, k=k, n_classes=10, input_features=3, output_features=16, strides=strides).to(device)\n",
        "net.load_state_dict(torch.load('./CIFAR10/'+Teacher+'-'+Student+'/Seed-'+seed+'/reproducibility_zero_shot_teacher_'+Teacher.lower()+'_student_'+Student.lower()+'-M-0-seed-'+seed+'-CIFAR10-dict.pth',map_location=device))\n",
        "accuracy = _test_set_eval(net, device, cifar_testloader)\n",
        "accuracy  "
      ],
      "execution_count": 13,
      "outputs": [
        {
          "output_type": "execute_result",
          "data": {
            "text/plain": [
              "77.4"
            ]
          },
          "metadata": {
            "tags": []
          },
          "execution_count": 13
        }
      ]
    },
    {
      "cell_type": "markdown",
      "metadata": {
        "colab_type": "text",
        "id": "ur3wSt8hu3Yp"
      },
      "source": [
        "#### Seed 1"
      ]
    },
    {
      "cell_type": "code",
      "metadata": {
        "colab_type": "code",
        "id": "866KkPiEvLx_",
        "outputId": "b9308542-d127-4b32-e573-5bdc293b194a",
        "colab": {
          "base_uri": "https://localhost:8080/",
          "height": 34
        }
      },
      "source": [
        "seed=\"1\"\n",
        "Teacher=\"WRN-40-1\"\n",
        "Student=\"WRN-16-1\"\n",
        "d = 16\n",
        "k = 1\n",
        "strides = [1, 1, 2, 2]\n",
        "net = WideResNet(d=d, k=k, n_classes=10, input_features=3, output_features=16, strides=strides).to(device)\n",
        "net.load_state_dict(torch.load('./CIFAR10/'+Teacher+'-'+Student+'/Seed-'+seed+'/reproducibility_zero_shot_teacher_'+Teacher.lower()+'_student_'+Student.lower()+'-M-0-seed-'+seed+'-CIFAR10-dict.pth',map_location=device))\n",
        "accuracy = _test_set_eval(net, device, cifar_testloader)\n",
        "accuracy  "
      ],
      "execution_count": 14,
      "outputs": [
        {
          "output_type": "execute_result",
          "data": {
            "text/plain": [
              "80.61"
            ]
          },
          "metadata": {
            "tags": []
          },
          "execution_count": 14
        }
      ]
    },
    {
      "cell_type": "markdown",
      "metadata": {
        "colab_type": "text",
        "id": "JGlO3o13u3iR"
      },
      "source": [
        "#### Seed 2"
      ]
    },
    {
      "cell_type": "code",
      "metadata": {
        "colab_type": "code",
        "id": "X5ff52gOvMGS",
        "outputId": "deae923a-e9bc-4011-941d-d056b9f02b1b",
        "colab": {
          "base_uri": "https://localhost:8080/",
          "height": 34
        }
      },
      "source": [
        "seed=\"2\"\n",
        "Teacher=\"WRN-40-1\"\n",
        "Student=\"WRN-16-1\"\n",
        "d = 16\n",
        "k = 1\n",
        "strides = [1, 1, 2, 2]\n",
        "net = WideResNet(d=d, k=k, n_classes=10, input_features=3, output_features=16, strides=strides).to(device)\n",
        "net.load_state_dict(torch.load('./CIFAR10/'+Teacher+'-'+Student+'/Seed-'+seed+'/reproducibility_zero_shot_teacher_'+Teacher.lower()+'_student_'+Student.lower()+'-M-0-seed-'+seed+'-CIFAR10-dict.pth',map_location=device))\n",
        "accuracy = _test_set_eval(net, device, cifar_testloader)\n",
        "accuracy  "
      ],
      "execution_count": 15,
      "outputs": [
        {
          "output_type": "execute_result",
          "data": {
            "text/plain": [
              "81.7"
            ]
          },
          "metadata": {
            "tags": []
          },
          "execution_count": 15
        }
      ]
    },
    {
      "cell_type": "markdown",
      "metadata": {
        "colab_type": "text",
        "id": "hlulwynoskDF"
      },
      "source": [
        "#### Zero Shot - Teacher WRN-40-1  Student WRN-16-2"
      ]
    },
    {
      "cell_type": "markdown",
      "metadata": {
        "colab_type": "text",
        "id": "l87AUnzIu3yx"
      },
      "source": [
        "#### Seed 0"
      ]
    },
    {
      "cell_type": "code",
      "metadata": {
        "colab_type": "code",
        "id": "ZkO0m0yevMZA",
        "outputId": "9ac71f55-1e6d-4898-bccb-3097e90e79c5",
        "colab": {
          "base_uri": "https://localhost:8080/",
          "height": 34
        }
      },
      "source": [
        "seed=\"0\"\n",
        "Teacher=\"WRN-40-1\"\n",
        "Student=\"WRN-16-2\"\n",
        "d = 16\n",
        "k = 2\n",
        "\n",
        "strides = [1, 1, 2, 2]\n",
        "net = WideResNet(d=d, k=k, n_classes=10, input_features=3, output_features=16, strides=strides).to(device)\n",
        "net.load_state_dict(torch.load('./CIFAR10/'+Teacher+'-'+Student+'/Seed-'+seed+'/reproducibility_zero_shot_teacher_'+Teacher.lower()+'_student_'+Student.lower()+'-M-0-seed-'+seed+'-CIFAR10-dict.pth',map_location=device))\n",
        "accuracy = _test_set_eval(net, device, cifar_testloader)\n",
        "accuracy  "
      ],
      "execution_count": 16,
      "outputs": [
        {
          "output_type": "execute_result",
          "data": {
            "text/plain": [
              "88.71"
            ]
          },
          "metadata": {
            "tags": []
          },
          "execution_count": 16
        }
      ]
    },
    {
      "cell_type": "markdown",
      "metadata": {
        "colab_type": "text",
        "id": "WaEcYDfDu343"
      },
      "source": [
        "#### Seed 1"
      ]
    },
    {
      "cell_type": "code",
      "metadata": {
        "colab_type": "code",
        "id": "9bzl8NThvMrc",
        "outputId": "6b3e5b77-917a-4254-9bd1-bd72d05abbad",
        "colab": {
          "base_uri": "https://localhost:8080/",
          "height": 34
        }
      },
      "source": [
        "seed=\"1\"\n",
        "Teacher=\"WRN-40-1\"\n",
        "Student=\"WRN-16-2\"\n",
        "d = 16\n",
        "k = 2\n",
        "strides = [1, 1, 2, 2]\n",
        "net = WideResNet(d=d, k=k, n_classes=10, input_features=3, output_features=16, strides=strides).to(device)\n",
        "net.load_state_dict(torch.load('./CIFAR10/'+Teacher+'-'+Student+'/Seed-'+seed+'/reproducibility_zero_shot_teacher_'+Teacher.lower()+'_student_'+Student.lower()+'-M-0-seed-'+seed+'-CIFAR10-dict.pth',map_location=device))\n",
        "accuracy = _test_set_eval(net, device, cifar_testloader)\n",
        "accuracy  "
      ],
      "execution_count": 17,
      "outputs": [
        {
          "output_type": "execute_result",
          "data": {
            "text/plain": [
              "87.34"
            ]
          },
          "metadata": {
            "tags": []
          },
          "execution_count": 17
        }
      ]
    },
    {
      "cell_type": "markdown",
      "metadata": {
        "colab_type": "text",
        "id": "QZ2JxbDGu38x"
      },
      "source": [
        "#### Seed 2"
      ]
    },
    {
      "cell_type": "code",
      "metadata": {
        "colab_type": "code",
        "id": "RKlkoY0pvM8Y",
        "outputId": "f8b4f273-bcc7-4d55-e118-840abc263eda",
        "colab": {
          "base_uri": "https://localhost:8080/",
          "height": 34
        }
      },
      "source": [
        "seed=\"2\"\n",
        "Teacher=\"WRN-40-1\"\n",
        "Student=\"WRN-16-2\"\n",
        "d = 16\n",
        "k = 2\n",
        "strides = [1, 1, 2, 2]\n",
        "net = WideResNet(d=d, k=k, n_classes=10, input_features=3, output_features=16, strides=strides).to(device)\n",
        "net.load_state_dict(torch.load('./CIFAR10/'+Teacher+'-'+Student+'/Seed-'+seed+'/reproducibility_zero_shot_teacher_'+Teacher.lower()+'_student_'+Student.lower()+'-M-0-seed-'+seed+'-CIFAR10-dict.pth',map_location=device))\n",
        "accuracy = _test_set_eval(net, device, cifar_testloader)\n",
        "accuracy  "
      ],
      "execution_count": 18,
      "outputs": [
        {
          "output_type": "execute_result",
          "data": {
            "text/plain": [
              "87.08"
            ]
          },
          "metadata": {
            "tags": []
          },
          "execution_count": 18
        }
      ]
    },
    {
      "cell_type": "markdown",
      "metadata": {
        "colab_type": "text",
        "id": "UGJW-oqHskK1"
      },
      "source": [
        "#### Zero Shot - Teacher WRN-40-2  Student WRN-16-1"
      ]
    },
    {
      "cell_type": "markdown",
      "metadata": {
        "colab_type": "text",
        "id": "XiFa_M3bu4LY"
      },
      "source": [
        "#### Seed 0"
      ]
    },
    {
      "cell_type": "code",
      "metadata": {
        "colab_type": "code",
        "id": "GndU7cFNvNMP",
        "outputId": "d44449de-3d38-4a8a-d103-c81a378cc562",
        "colab": {
          "base_uri": "https://localhost:8080/",
          "height": 34
        }
      },
      "source": [
        "seed=\"0\"\n",
        "Teacher=\"WRN-40-2\"\n",
        "Student=\"WRN-16-1\"\n",
        "d = 16\n",
        "k = 1\n",
        "strides = [1, 1, 2, 2]\n",
        "net = WideResNet(d=d, k=k, n_classes=10, input_features=3, output_features=16, strides=strides).to(device)\n",
        "net.load_state_dict(torch.load('./CIFAR10/'+Teacher+'-'+Student+'/Seed-'+seed+'/reproducibility_zero_shot_teacher_'+Teacher.lower()+'_student_'+Student.lower()+'-M-0-seed-'+seed+'-CIFAR10-dict.pth',map_location=device))\n",
        "accuracy = _test_set_eval(net, device, cifar_testloader)\n",
        "accuracy  "
      ],
      "execution_count": 19,
      "outputs": [
        {
          "output_type": "execute_result",
          "data": {
            "text/plain": [
              "83.73"
            ]
          },
          "metadata": {
            "tags": []
          },
          "execution_count": 19
        }
      ]
    },
    {
      "cell_type": "markdown",
      "metadata": {
        "colab_type": "text",
        "id": "PGVx8TGau4Pg"
      },
      "source": [
        "#### Seed 1"
      ]
    },
    {
      "cell_type": "code",
      "metadata": {
        "colab_type": "code",
        "id": "K0AbrkFdvNdF",
        "outputId": "9a289001-76ec-4252-b065-889165fe62bf",
        "colab": {
          "base_uri": "https://localhost:8080/",
          "height": 34
        }
      },
      "source": [
        "seed=\"1\"\n",
        "Teacher=\"WRN-40-2\"\n",
        "Student=\"WRN-16-1\"\n",
        "d = 16\n",
        "k = 1\n",
        "strides = [1, 1, 2, 2]\n",
        "net = WideResNet(d=d, k=k, n_classes=10, input_features=3, output_features=16, strides=strides).to(device)\n",
        "net.load_state_dict(torch.load('./CIFAR10/'+Teacher+'-'+Student+'/Seed-'+seed+'/reproducibility_zero_shot_teacher_'+Teacher.lower()+'_student_'+Student.lower()+'-M-0-seed-'+seed+'-CIFAR10-dict.pth',map_location=device))\n",
        "accuracy = _test_set_eval(net, device, cifar_testloader)\n",
        "accuracy  "
      ],
      "execution_count": 20,
      "outputs": [
        {
          "output_type": "execute_result",
          "data": {
            "text/plain": [
              "83.76"
            ]
          },
          "metadata": {
            "tags": []
          },
          "execution_count": 20
        }
      ]
    },
    {
      "cell_type": "markdown",
      "metadata": {
        "colab_type": "text",
        "id": "8INjPBlsu4TL"
      },
      "source": [
        "#### Seed 2"
      ]
    },
    {
      "cell_type": "code",
      "metadata": {
        "colab_type": "code",
        "id": "GD8ilK7cvNvl",
        "outputId": "761c1ef2-874c-43dd-809f-a2f4281100c5",
        "colab": {
          "base_uri": "https://localhost:8080/",
          "height": 34
        }
      },
      "source": [
        "seed=\"2\"\n",
        "Teacher=\"WRN-40-2\"\n",
        "Student=\"WRN-16-1\"\n",
        "d = 16\n",
        "k = 1\n",
        "strides = [1, 1, 2, 2]\n",
        "net = WideResNet(d=d, k=k, n_classes=10, input_features=3, output_features=16, strides=strides).to(device)\n",
        "net.load_state_dict(torch.load('./CIFAR10/'+Teacher+'-'+Student+'/Seed-'+seed+'/reproducibility_zero_shot_teacher_'+Teacher.lower()+'_student_'+Student.lower()+'-M-0-seed-'+seed+'-CIFAR10-dict.pth',map_location=device))\n",
        "accuracy = _test_set_eval(net, device, cifar_testloader)\n",
        "accuracy  "
      ],
      "execution_count": 21,
      "outputs": [
        {
          "output_type": "execute_result",
          "data": {
            "text/plain": [
              "83.42"
            ]
          },
          "metadata": {
            "tags": []
          },
          "execution_count": 21
        }
      ]
    },
    {
      "cell_type": "markdown",
      "metadata": {
        "colab_type": "text",
        "id": "J1gyKMXMskSI"
      },
      "source": [
        "#### Zero Shot - Teacher WRN-40-2  Student WRN-16-2"
      ]
    },
    {
      "cell_type": "markdown",
      "metadata": {
        "colab_type": "text",
        "id": "-4ICC_X1u4lI"
      },
      "source": [
        "#### Seed 0"
      ]
    },
    {
      "cell_type": "code",
      "metadata": {
        "colab_type": "code",
        "id": "lGdN4LHbvOC8",
        "outputId": "abd62114-1195-472d-a25e-163436547c47",
        "colab": {
          "base_uri": "https://localhost:8080/",
          "height": 34
        }
      },
      "source": [
        "seed=\"0\"\n",
        "Teacher=\"WRN-40-2\"\n",
        "Student=\"WRN-16-2\"\n",
        "d = 16\n",
        "k = 2\n",
        "strides = [1, 1, 2, 2]\n",
        "net = WideResNet(d=d, k=k, n_classes=10, input_features=3, output_features=16, strides=strides).to(device)\n",
        "net.load_state_dict(torch.load('./CIFAR10/'+Teacher+'-'+Student+'/Seed-'+seed+'/reproducibility_zero_shot_teacher_'+Teacher.lower()+'_student_'+Student.lower()+'-M-0-seed-'+seed+'-CIFAR10-dict.pth',map_location=device))\n",
        "accuracy = _test_set_eval(net, device, cifar_testloader)\n",
        "accuracy  "
      ],
      "execution_count": 22,
      "outputs": [
        {
          "output_type": "execute_result",
          "data": {
            "text/plain": [
              "89.13"
            ]
          },
          "metadata": {
            "tags": []
          },
          "execution_count": 22
        }
      ]
    },
    {
      "cell_type": "markdown",
      "metadata": {
        "colab_type": "text",
        "id": "fN1TL9w-u4pJ"
      },
      "source": [
        "#### Seed 1"
      ]
    },
    {
      "cell_type": "code",
      "metadata": {
        "colab_type": "code",
        "id": "LxE2CZznvObM",
        "outputId": "28d5c268-8c24-4812-c181-97eeb4ef6509",
        "colab": {
          "base_uri": "https://localhost:8080/",
          "height": 34
        }
      },
      "source": [
        "seed=\"1\"\n",
        "Teacher=\"WRN-40-2\"\n",
        "Student=\"WRN-16-2\"\n",
        "d = 16\n",
        "k = 2\n",
        "strides = [1, 1, 2, 2]\n",
        "net = WideResNet(d=d, k=k, n_classes=10, input_features=3, output_features=16, strides=strides).to(device)\n",
        "net.load_state_dict(torch.load('./CIFAR10/'+Teacher+'-'+Student+'/Seed-'+seed+'/reproducibility_zero_shot_teacher_'+Teacher.lower()+'_student_'+Student.lower()+'-M-0-seed-'+seed+'-CIFAR10-dict.pth',map_location=device))\n",
        "accuracy = _test_set_eval(net, device, cifar_testloader)\n",
        "accuracy  "
      ],
      "execution_count": 23,
      "outputs": [
        {
          "output_type": "execute_result",
          "data": {
            "text/plain": [
              "89.48"
            ]
          },
          "metadata": {
            "tags": []
          },
          "execution_count": 23
        }
      ]
    },
    {
      "cell_type": "markdown",
      "metadata": {
        "colab_type": "text",
        "id": "iDSkDdUMu4sr"
      },
      "source": [
        "#### Seed 2"
      ]
    },
    {
      "cell_type": "code",
      "metadata": {
        "colab_type": "code",
        "id": "MiMxzI83vOrD",
        "outputId": "46031946-24d1-4dab-cf6c-be02de46529b",
        "colab": {
          "base_uri": "https://localhost:8080/",
          "height": 34
        }
      },
      "source": [
        "seed=\"2\"\n",
        "Teacher=\"WRN-40-2\"\n",
        "Student=\"WRN-16-2\"\n",
        "d = 16\n",
        "k = 2\n",
        "strides = [1, 1, 2, 2]\n",
        "net = WideResNet(d=d, k=k, n_classes=10, input_features=3, output_features=16, strides=strides).to(device)\n",
        "net.load_state_dict(torch.load('./CIFAR10/'+Teacher+'-'+Student+'/Seed-'+seed+'/reproducibility_zero_shot_teacher_'+Teacher.lower()+'_student_'+Student.lower()+'-M-0-seed-'+seed+'-CIFAR10-dict.pth',map_location=device))\n",
        "accuracy = _test_set_eval(net, device, cifar_testloader)\n",
        "accuracy  "
      ],
      "execution_count": 24,
      "outputs": [
        {
          "output_type": "execute_result",
          "data": {
            "text/plain": [
              "89.32"
            ]
          },
          "metadata": {
            "tags": []
          },
          "execution_count": 24
        }
      ]
    },
    {
      "cell_type": "markdown",
      "metadata": {
        "colab_type": "text",
        "id": "Mh0l4h1_skcj"
      },
      "source": [
        "#### Zero Shot - Teacher WRN-40-2  Student WRN-40-1"
      ]
    },
    {
      "cell_type": "markdown",
      "metadata": {
        "colab_type": "text",
        "id": "URhlI9K9u48L"
      },
      "source": [
        "#### Seed 0"
      ]
    },
    {
      "cell_type": "code",
      "metadata": {
        "colab_type": "code",
        "id": "U1tDyRDMvO-9",
        "outputId": "53a47e5b-3ad8-448f-c81e-49d65c4556df",
        "colab": {
          "base_uri": "https://localhost:8080/",
          "height": 34
        }
      },
      "source": [
        "seed=\"0\"\n",
        "Teacher=\"WRN-40-2\"\n",
        "Student=\"WRN-40-1\"\n",
        "d = 40\n",
        "k = 1\n",
        "strides = [1, 1, 2, 2]\n",
        "net = WideResNet(d=d, k=k, n_classes=10, input_features=3, output_features=16, strides=strides).to(device)\n",
        "net.load_state_dict(torch.load('./CIFAR10/'+Teacher+'-'+Student+'/Seed-'+seed+'/reproducibility_zero_shot_teacher_'+Teacher.lower()+'_student_'+Student.lower()+'-M-0-seed-'+seed+'-CIFAR10-dict.pth',map_location=device))\n",
        "accuracy = _test_set_eval(net, device, cifar_testloader)\n",
        "accuracy  "
      ],
      "execution_count": 25,
      "outputs": [
        {
          "output_type": "execute_result",
          "data": {
            "text/plain": [
              "87.94"
            ]
          },
          "metadata": {
            "tags": []
          },
          "execution_count": 25
        }
      ]
    },
    {
      "cell_type": "markdown",
      "metadata": {
        "colab_type": "text",
        "id": "-tvj0PA3u4_4"
      },
      "source": [
        "#### Seed 1"
      ]
    },
    {
      "cell_type": "code",
      "metadata": {
        "colab_type": "code",
        "id": "3k7eUGAQvPQd",
        "outputId": "606d9aec-f1bd-4097-eef5-702f60c83461",
        "colab": {
          "base_uri": "https://localhost:8080/",
          "height": 34
        }
      },
      "source": [
        "seed=\"1\"\n",
        "Teacher=\"WRN-40-2\"\n",
        "Student=\"WRN-40-1\"\n",
        "d = 40\n",
        "k = 1\n",
        "strides = [1, 1, 2, 2]\n",
        "net = WideResNet(d=d, k=k, n_classes=10, input_features=3, output_features=16, strides=strides).to(device)\n",
        "net.load_state_dict(torch.load('./CIFAR10/'+Teacher+'-'+Student+'/Seed-'+seed+'/reproducibility_zero_shot_teacher_'+Teacher.lower()+'_student_'+Student.lower()+'-M-0-seed-'+seed+'-CIFAR10-dict.pth',map_location=device))\n",
        "accuracy = _test_set_eval(net, device, cifar_testloader)\n",
        "accuracy  "
      ],
      "execution_count": 26,
      "outputs": [
        {
          "output_type": "execute_result",
          "data": {
            "text/plain": [
              "87.28"
            ]
          },
          "metadata": {
            "tags": []
          },
          "execution_count": 26
        }
      ]
    },
    {
      "cell_type": "markdown",
      "metadata": {
        "colab_type": "text",
        "id": "Fpz7VFsNu5Dn"
      },
      "source": [
        "#### Seed 2"
      ]
    },
    {
      "cell_type": "code",
      "metadata": {
        "colab_type": "code",
        "id": "RgmYLxOnvPf8",
        "outputId": "434b61bd-df86-42a6-ab39-869a4c5667cd",
        "colab": {
          "base_uri": "https://localhost:8080/",
          "height": 34
        }
      },
      "source": [
        "seed=\"2\"\n",
        "Teacher=\"WRN-40-2\"\n",
        "Student=\"WRN-40-1\"\n",
        "d = 40\n",
        "k = 1\n",
        "strides = [1, 1, 2, 2]\n",
        "net = WideResNet(d=d, k=k, n_classes=10, input_features=3, output_features=16, strides=strides).to(device)\n",
        "net.load_state_dict(torch.load('./CIFAR10/'+Teacher+'-'+Student+'/Seed-'+seed+'/reproducibility_zero_shot_teacher_'+Teacher.lower()+'_student_'+Student.lower()+'-M-0-seed-'+seed+'-CIFAR10-dict.pth',map_location=device))\n",
        "accuracy = _test_set_eval(net, device, cifar_testloader)\n",
        "accuracy  "
      ],
      "execution_count": 27,
      "outputs": [
        {
          "output_type": "execute_result",
          "data": {
            "text/plain": [
              "87.18"
            ]
          },
          "metadata": {
            "tags": []
          },
          "execution_count": 27
        }
      ]
    }
  ]
}