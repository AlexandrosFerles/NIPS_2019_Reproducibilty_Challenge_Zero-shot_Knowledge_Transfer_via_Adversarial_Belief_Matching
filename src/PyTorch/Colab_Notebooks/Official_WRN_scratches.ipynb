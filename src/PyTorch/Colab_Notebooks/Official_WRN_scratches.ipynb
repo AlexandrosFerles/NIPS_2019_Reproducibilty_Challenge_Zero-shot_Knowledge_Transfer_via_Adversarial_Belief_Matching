{
  "nbformat": 4,
  "nbformat_minor": 0,
  "metadata": {
    "colab": {
      "name": "Official WRN scratches.ipynb",
      "provenance": []
    },
    "kernelspec": {
      "name": "python3",
      "display_name": "Python 3"
    },
    "accelerator": "GPU"
  },
  "cells": [
    {
      "cell_type": "code",
      "metadata": {
        "id": "T1kF9JrSSrti",
        "colab_type": "code",
        "colab": {}
      },
      "source": [
        "import torch\n",
        "import torch.nn as nn\n",
        "import torch.nn.functional as F\n",
        "import torch.nn.parallel\n",
        "import torch.backends.cudnn as cudnn\n",
        "import torch.optim\n",
        "import torch.utils.data\n",
        "import torchvision.transforms as transforms\n",
        "import torchvision.datasets as datasets\n",
        "from torch.autograd import Variable\n",
        "import torchvision\n",
        "from torchsummary import summary\n",
        "import math\n",
        "import numpy as np\n",
        "import random"
      ],
      "execution_count": 0,
      "outputs": []
    },
    {
      "cell_type": "code",
      "metadata": {
        "id": "5dNuvNqvXk5I",
        "colab_type": "code",
        "colab": {}
      },
      "source": [
        "class BasicBlock(nn.Module):\n",
        "    def __init__(self, in_planes, out_planes, stride, dropRate=0.0):\n",
        "        super(BasicBlock, self).__init__()\n",
        "        self.bn1 = nn.BatchNorm2d(in_planes)\n",
        "        self.relu1 = nn.ReLU(inplace=True)\n",
        "        self.conv1 = nn.Conv2d(in_planes, out_planes, kernel_size=3, stride=stride,\n",
        "                               padding=1, bias=False)\n",
        "        self.bn2 = nn.BatchNorm2d(out_planes)\n",
        "        self.relu2 = nn.ReLU(inplace=True)\n",
        "        self.conv2 = nn.Conv2d(out_planes, out_planes, kernel_size=3, stride=1,\n",
        "                               padding=1, bias=False)\n",
        "        self.droprate = dropRate\n",
        "        self.equalInOut = (in_planes == out_planes)\n",
        "        self.convShortcut = (not self.equalInOut) and nn.Conv2d(in_planes, out_planes, kernel_size=1, stride=stride,\n",
        "                               padding=0, bias=False) or None\n",
        "\n",
        "    def forward(self, x):\n",
        "        if not self.equalInOut:\n",
        "            x = self.relu1(self.bn1(x))\n",
        "        else:\n",
        "            out = self.relu1(self.bn1(x))\n",
        "        out = self.relu2(self.bn2(self.conv1(out if self.equalInOut else x)))\n",
        "        if self.droprate > 0:\n",
        "            out = F.dropout(out, p=self.droprate, training=self.training)\n",
        "        out = self.conv2(out)\n",
        "        return torch.add(x if self.equalInOut else self.convShortcut(x), out)\n",
        "\n",
        "class NetworkBlock(nn.Module):\n",
        "    def __init__(self, nb_layers, in_planes, out_planes, block, stride, dropRate=0.0):\n",
        "        super(NetworkBlock, self).__init__()\n",
        "        self.layer = self._make_layer(block, in_planes, out_planes, nb_layers, stride, dropRate)\n",
        "\n",
        "    def _make_layer(self, block, in_planes, out_planes, nb_layers, stride, dropRate):\n",
        "        layers = []\n",
        "        for i in range(int(nb_layers)):\n",
        "            layers.append(block(i == 0 and in_planes or out_planes, out_planes, i == 0 and stride or 1, dropRate))\n",
        "        return nn.Sequential(*layers)\n",
        "\n",
        "    def forward(self, x):\n",
        "        return self.layer(x)\n",
        "\n",
        "class WideResNet(nn.Module):\n",
        "    def __init__(self, depth, num_classes, widen_factor=1, dropRate=0.0):\n",
        "        super(WideResNet, self).__init__()\n",
        "        nChannels = [16, 16*widen_factor, 32*widen_factor, 64*widen_factor]\n",
        "        assert((depth - 4) % 6 == 0)\n",
        "        n = (depth - 4) / 6\n",
        "        block = BasicBlock\n",
        "        # 1st conv before any network block\n",
        "        self.conv1 = nn.Conv2d(3, nChannels[0], kernel_size=3, stride=1,\n",
        "                               padding=1, bias=False)\n",
        "        # 1st block\n",
        "        self.block1 = NetworkBlock(n, nChannels[0], nChannels[1], block, 1, dropRate)\n",
        "        # 2nd block\n",
        "        self.block2 = NetworkBlock(n, nChannels[1], nChannels[2], block, 2, dropRate)\n",
        "        # 3rd block\n",
        "        self.block3 = NetworkBlock(n, nChannels[2], nChannels[3], block, 2, dropRate)\n",
        "        # global average pooling and classifier\n",
        "        self.bn1 = nn.BatchNorm2d(nChannels[3])\n",
        "        self.relu = nn.ReLU(inplace=True)\n",
        "        self.fc = nn.Linear(nChannels[3], num_classes)\n",
        "        self.nChannels = nChannels[3]\n",
        "\n",
        "        for m in self.modules():\n",
        "            if isinstance(m, nn.Conv2d):\n",
        "                n = m.kernel_size[0] * m.kernel_size[1] * m.out_channels\n",
        "                m.weight.data.normal_(0, math.sqrt(2. / n))\n",
        "            elif isinstance(m, nn.BatchNorm2d):\n",
        "                m.weight.data.fill_(1)\n",
        "                m.bias.data.zero_()\n",
        "            elif isinstance(m, nn.Linear):\n",
        "                m.bias.data.zero_()\n",
        "\n",
        "\n",
        "    def forward(self, x):\n",
        "        out = self.conv1(x)\n",
        "        out = self.block1(out)\n",
        "        activation1 = out\n",
        "        out = self.block2(out)\n",
        "        activation2 = out\n",
        "        out = self.block3(out)\n",
        "        activation3 = out\n",
        "        out = self.relu(self.bn1(out))\n",
        "        out = F.avg_pool2d(out, 8)\n",
        "        out = out.view(-1, self.nChannels)\n",
        "        return self.fc(out), activation1, activation2, activation3"
      ],
      "execution_count": 0,
      "outputs": []
    },
    {
      "cell_type": "code",
      "metadata": {
        "id": "3EaZPB0LWig8",
        "colab_type": "code",
        "colab": {
          "base_uri": "https://localhost:8080/",
          "height": 34
        },
        "outputId": "370b1725-58f2-4510-8d0a-0f7fb2d05aa6"
      },
      "source": [
        "normalize = transforms.Normalize((0.4914, 0.4822, 0.4465), (0.2023, 0.1994, 0.2010))\n",
        "\n",
        "transform_test = transforms.Compose([\n",
        "    transforms.ToTensor(),\n",
        "    normalize\n",
        "    ])\n",
        "\n",
        "testset = torchvision.datasets.CIFAR10(root='./data', train=False, download=True, transform=transform_test)\n",
        "testloader = torch.utils.data.DataLoader(testset, batch_size=200, shuffle=False)"
      ],
      "execution_count": 3,
      "outputs": [
        {
          "output_type": "stream",
          "text": [
            "Files already downloaded and verified\n"
          ],
          "name": "stdout"
        }
      ]
    },
    {
      "cell_type": "code",
      "metadata": {
        "id": "NydQ1zYaSxXe",
        "colab_type": "code",
        "colab": {
          "base_uri": "https://localhost:8080/",
          "height": 34
        },
        "outputId": "3ecde728-4e74-4d57-b5ef-d6dfec570243"
      },
      "source": [
        "from google.colab import drive\n",
        "drive.mount('/content/gdrive', force_remount=True)"
      ],
      "execution_count": 4,
      "outputs": [
        {
          "output_type": "stream",
          "text": [
            "Mounted at /content/gdrive\n"
          ],
          "name": "stdout"
        }
      ]
    },
    {
      "cell_type": "markdown",
      "metadata": {
        "id": "igBVyZc6oZK5",
        "colab_type": "text"
      },
      "source": [
        "### WRN-16-1"
      ]
    },
    {
      "cell_type": "code",
      "metadata": {
        "id": "4VDPJNMGWplI",
        "colab_type": "code",
        "colab": {
          "base_uri": "https://localhost:8080/",
          "height": 34
        },
        "outputId": "ddd3d3b8-25ea-4b78-802b-a362f3c546af"
      },
      "source": [
        "accuracies = []\n",
        "\n",
        "for seed in ([1, 2, 3]):\n",
        "\n",
        "  random.seed(seed)\n",
        "  np.random.seed(seed)\n",
        "  torch.manual_seed(seed)\n",
        "  torch.cuda.manual_seed(seed)\n",
        "  \n",
        "  wrn_16_1 = WideResNet(16, 10)\n",
        "  wrn_16_1_load = torch.load(\"/content/gdrive/My Drive/CIFAR10/WRN-16-1/last.pth.tar\")\n",
        "  wrn_16_1.load_state_dict(wrn_16_1_load['state_dict'])\n",
        "  device = torch.device('cuda:0')\n",
        "  wrn_16_1 = wrn_16_1.to(device)\n",
        "  wrn_16_1.eval()\n",
        "\n",
        "  with torch.no_grad():\n",
        "\n",
        "      correct = 0\n",
        "      total = 0\n",
        "\n",
        "      for data in testloader:\n",
        "          images, labels = data\n",
        "          images = images.to(device)\n",
        "          labels = labels.to(device)\n",
        "\n",
        "          outputs = wrn_16_1(images)\n",
        "          _, predicted = torch.max(outputs[0].data, 1)\n",
        "          total += labels.size(0)\n",
        "          correct += (predicted == labels).sum().item() \n",
        "\n",
        "      epoch_accuracy = round(correct / total *100, 4)\n",
        "      accuracies.append(epoch_accuracy)\n",
        "      \n",
        "print(f'Mean accuracy is {np.mean(accuracies)} with standard deviation equal to {np.std(accuracies)}')"
      ],
      "execution_count": 9,
      "outputs": [
        {
          "output_type": "stream",
          "text": [
            "Mean accuracy is 91.08999999999999 with standard deviation equal to 1.4210854715202004e-14\n"
          ],
          "name": "stdout"
        }
      ]
    },
    {
      "cell_type": "code",
      "metadata": {
        "id": "UiTNbkLRifJx",
        "colab_type": "code",
        "colab": {
          "base_uri": "https://localhost:8080/",
          "height": 34
        },
        "outputId": "2842e651-3eec-4318-dcf9-59e2ba154013"
      },
      "source": [
        "accuracies = []\n",
        "\n",
        "for seed in ([1, 2, 3]):\n",
        "  \n",
        "  random.seed(seed)\n",
        "  np.random.seed(seed)\n",
        "  torch.manual_seed(seed)\n",
        "  torch.cuda.manual_seed(seed)\n",
        "  \n",
        "  wrn_16_2 = WideResNet(16, 10, widen_factor=2)\n",
        "  wrn_16_2_load = torch.load(\"/content/gdrive/My Drive/CIFAR10/WRN-16-2/last.pth.tar\")\n",
        "  wrn_16_2.load_state_dict(wrn_16_2_load['state_dict'])\n",
        "  device = torch.device('cuda:0')\n",
        "  wrn_16_2 = wrn_16_2.to(device)\n",
        "  wrn_16_2.eval()\n",
        "\n",
        "  with torch.no_grad():\n",
        "\n",
        "      correct = 0\n",
        "      total = 0\n",
        "\n",
        "      for data in testloader:\n",
        "          images, labels = data\n",
        "          images = images.to(device)\n",
        "          labels = labels.to(device)\n",
        "\n",
        "          outputs = wrn_16_2(images)\n",
        "          _, predicted = torch.max(outputs[0].data, 1)\n",
        "          total += labels.size(0)\n",
        "          correct += (predicted == labels).sum().item() \n",
        "\n",
        "      epoch_accuracy = round(correct / total *100, 4)\n",
        "      accuracies.append(epoch_accuracy)\n",
        "      \n",
        "print(f'Mean accuracy is {np.mean(accuracies)} with standard deviation equal to {np.std(accuracies)}')"
      ],
      "execution_count": 12,
      "outputs": [
        {
          "output_type": "stream",
          "text": [
            "Mean accuracy is 94.08999999999999 with standard deviation equal to 1.4210854715202004e-14\n"
          ],
          "name": "stdout"
        }
      ]
    },
    {
      "cell_type": "code",
      "metadata": {
        "id": "WV9JNd20lq6h",
        "colab_type": "code",
        "colab": {
          "base_uri": "https://localhost:8080/",
          "height": 34
        },
        "outputId": "8c9053b7-cfcd-4969-c378-0e66ae1e134e"
      },
      "source": [
        "accuracies = []\n",
        "\n",
        "for seed in ([1, 2, 3]):\n",
        "  \n",
        "  random.seed(seed)\n",
        "  np.random.seed(seed)\n",
        "  torch.manual_seed(seed)\n",
        "  torch.cuda.manual_seed(seed)\n",
        "  \n",
        "  wrn_40_1 = WideResNet(40, 10)\n",
        "  wrn_40_1_load = torch.load(\"/content/gdrive/My Drive/CIFAR10/WRN-40-1/last.pth.tar\")\n",
        "  wrn_40_1.load_state_dict(wrn_40_1_load['state_dict'])\n",
        "  device = torch.device('cuda:0')\n",
        "  wrn_40_1 = wrn_40_1.to(device)\n",
        "  wrn_40_1.eval()\n",
        "\n",
        "  with torch.no_grad():\n",
        "\n",
        "      correct = 0\n",
        "      total = 0\n",
        "\n",
        "      for data in testloader:\n",
        "          images, labels = data\n",
        "          images = images.to(device)\n",
        "          labels = labels.to(device)\n",
        "\n",
        "          outputs = wrn_40_1(images)\n",
        "          _, predicted = torch.max(outputs[0].data, 1)\n",
        "          total += labels.size(0)\n",
        "          correct += (predicted == labels).sum().item() \n",
        "\n",
        "      epoch_accuracy = round(correct / total *100, 4)\n",
        "      accuracies.append(epoch_accuracy)\n",
        "      \n",
        "print(f'Mean accuracy is {np.mean(accuracies)} with standard deviation equal to {np.std(accuracies)}')"
      ],
      "execution_count": 15,
      "outputs": [
        {
          "output_type": "stream",
          "text": [
            "Mean accuracy is 93.13 with standard deviation equal to 0.0\n"
          ],
          "name": "stdout"
        }
      ]
    },
    {
      "cell_type": "code",
      "metadata": {
        "id": "8WryM7mQiOPo",
        "colab_type": "code",
        "colab": {
          "base_uri": "https://localhost:8080/",
          "height": 34
        },
        "outputId": "608b46dd-2757-49d1-d85b-4ea0394f7267"
      },
      "source": [
        "accuracies = []\n",
        "\n",
        "for seed in ([1, 2, 3]):\n",
        "  \n",
        "  random.seed(seed)\n",
        "  np.random.seed(seed)\n",
        "  torch.manual_seed(seed)\n",
        "  torch.cuda.manual_seed(seed)\n",
        "  \n",
        "  wrn_40_2 = WideResNet(40, 10, widen_factor=2)\n",
        "  wrn_40_2_load = torch.load(\"/content/gdrive/My Drive/CIFAR10/WRN-40-2/last.pth.tar\")\n",
        "  wrn_40_2.load_state_dict(wrn_40_2_load['state_dict'])\n",
        "  device = torch.device('cuda:0')\n",
        "  wrn_40_2 = wrn_40_2.to(device)\n",
        "  wrn_40_2.eval()\n",
        "\n",
        "  with torch.no_grad():\n",
        "\n",
        "      correct = 0\n",
        "      total = 0\n",
        "\n",
        "      for data in testloader:\n",
        "          images, labels = data\n",
        "          images = images.to(device)\n",
        "          labels = labels.to(device)\n",
        "\n",
        "          outputs = wrn_40_2(images)\n",
        "          _, predicted = torch.max(outputs[0].data, 1)\n",
        "          total += labels.size(0)\n",
        "          correct += (predicted == labels).sum().item() \n",
        "\n",
        "      epoch_accuracy = round(correct / total *100, 4)\n",
        "      accuracies.append(epoch_accuracy)\n",
        "      \n",
        "print(f'Mean accuracy is {np.mean(accuracies)} with standard deviation equal to {np.std(accuracies)}')"
      ],
      "execution_count": 16,
      "outputs": [
        {
          "output_type": "stream",
          "text": [
            "Mean accuracy is 94.71999999999998 with standard deviation equal to 1.4210854715202004e-14\n"
          ],
          "name": "stdout"
        }
      ]
    },
    {
      "cell_type": "code",
      "metadata": {
        "id": "TAOuO1_jlc8H",
        "colab_type": "code",
        "colab": {}
      },
      "source": [
        ""
      ],
      "execution_count": 0,
      "outputs": []
    }
  ]
}