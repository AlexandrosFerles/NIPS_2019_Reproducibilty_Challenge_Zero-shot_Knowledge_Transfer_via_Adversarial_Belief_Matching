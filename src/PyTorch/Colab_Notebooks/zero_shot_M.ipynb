{
  "nbformat": 4,
  "nbformat_minor": 0,
  "metadata": {
    "colab": {
      "name": "zero_shot_M.ipynb",
      "provenance": [],
      "collapsed_sections": [],
      "toc_visible": true
    },
    "kernelspec": {
      "name": "python3",
      "display_name": "Python 3"
    },
    "accelerator": "GPU"
  },
  "cells": [
    {
      "cell_type": "markdown",
      "metadata": {
        "id": "UK9rybLhPv_b",
        "colab_type": "text"
      },
      "source": [
        "#### Get models from Google Drive"
      ]
    },
    {
      "cell_type": "code",
      "metadata": {
        "id": "8S8mncF_Ocj3",
        "colab_type": "code",
        "outputId": "01123403-1126-4741-a9b3-22936f1d7a59",
        "colab": {
          "base_uri": "https://localhost:8080/",
          "height": 904
        }
      },
      "source": [
        "!wget -O Zero-Shot-M --no-check-certificate https://www.dropbox.com/sh/g6itjt8bep6ftg5/AABSZeQNUxVnpnTtQk327h6Ja?dl=0\n",
        "!unzip Zero-Shot-M\n",
        "!rm Zero-Shot-M"
      ],
      "execution_count": 1,
      "outputs": [
        {
          "output_type": "stream",
          "text": [
            "--2019-11-06 19:20:00--  https://www.dropbox.com/sh/g6itjt8bep6ftg5/AABSZeQNUxVnpnTtQk327h6Ja?dl=0\n",
            "Resolving www.dropbox.com (www.dropbox.com)... 162.125.82.1, 2620:100:6032:1::a27d:5201\n",
            "Connecting to www.dropbox.com (www.dropbox.com)|162.125.82.1|:443... connected.\n",
            "HTTP request sent, awaiting response... 301 Moved Permanently\n",
            "Location: /sh/raw/g6itjt8bep6ftg5/AABSZeQNUxVnpnTtQk327h6Ja [following]\n",
            "--2019-11-06 19:20:01--  https://www.dropbox.com/sh/raw/g6itjt8bep6ftg5/AABSZeQNUxVnpnTtQk327h6Ja\n",
            "Reusing existing connection to www.dropbox.com:443.\n",
            "HTTP request sent, awaiting response... 302 Found\n",
            "Location: https://uc9f8073ef5f096f99aa059d954a.dl.dropboxusercontent.com/zip_by_token_key?key=Ar0ya4Ybz6BucEtVZn4QzMOB5YXsgkjbniXcuEQ7ye1lBjWCDdwRuGkcKD_HDTqLmBssENOEtNvTgBz9tR4ug3GWUhDykpiOIGTAwZ1TN_hesNW5VyNF-_WMfRdzewyuU2BQrNne4Pkc-B8zXc56d8UQzsiV9fxEFv39gUIevH3JM7aYTQ0JmMc2QWqNP8vVLT-A-50E_9SpE-S2unVg96nJmiPL2SguR40In3VZFY2Y2w [following]\n",
            "--2019-11-06 19:20:01--  https://uc9f8073ef5f096f99aa059d954a.dl.dropboxusercontent.com/zip_by_token_key?key=Ar0ya4Ybz6BucEtVZn4QzMOB5YXsgkjbniXcuEQ7ye1lBjWCDdwRuGkcKD_HDTqLmBssENOEtNvTgBz9tR4ug3GWUhDykpiOIGTAwZ1TN_hesNW5VyNF-_WMfRdzewyuU2BQrNne4Pkc-B8zXc56d8UQzsiV9fxEFv39gUIevH3JM7aYTQ0JmMc2QWqNP8vVLT-A-50E_9SpE-S2unVg96nJmiPL2SguR40In3VZFY2Y2w\n",
            "Resolving uc9f8073ef5f096f99aa059d954a.dl.dropboxusercontent.com (uc9f8073ef5f096f99aa059d954a.dl.dropboxusercontent.com)... 162.125.82.6, 2620:100:6032:6::a27d:5206\n",
            "Connecting to uc9f8073ef5f096f99aa059d954a.dl.dropboxusercontent.com (uc9f8073ef5f096f99aa059d954a.dl.dropboxusercontent.com)|162.125.82.6|:443... connected.\n",
            "HTTP request sent, awaiting response... 200 OK\n",
            "Length: unspecified [application/zip]\n",
            "Saving to: ‘Zero-Shot-M’\n",
            "\n",
            "Zero-Shot-M             [             <=>    ]  19.22M  7.15MB/s    in 2.7s    \n",
            "\n",
            "2019-11-06 19:20:05 (7.15 MB/s) - ‘Zero-Shot-M’ saved [20157438]\n",
            "\n",
            "Archive:  Zero-Shot-M\n",
            "warning:  stripped absolute path spec from /\n",
            "mapname:  conversion of  failed\n",
            " extracting: Checkpoint_Extra_M_samples_Reproducibility_Zero_Shot_Teacher-WideResNet-40-2-Student-WideResNet-16-1-SVHN-M-75-Zero-Shot-seed-1.pth  \n",
            " extracting: Checkpoint_Extra_M_samples_Reproducibility_Zero_Shot_Teacher-WideResNet-40-2-Student-WideResNet-16-1-SVHN-M-75-Zero-Shot-seed-0.pth  \n",
            " extracting: Checkpoint_Extra_M_samples_Reproducibility_Zero_Shot_Teacher-WideResNet-40-2-Student-WideResNet-16-1-SVHN-M-10-Zero-Shot-seed-0.pth  \n",
            " extracting: Checkpoint_Extra_M_samples_Reproducibility_Zero_Shot_Teacher-WideResNet-40-2-Student-WideResNet-16-1-SVHN-M-10-Zero-Shot-seed-1.pth  \n",
            " extracting: Checkpoint_Extra_M_samples_Reproducibility_Zero_Shot_Teacher-WideResNet-40-2-Student-WideResNet-16-1-SVHN-M-25-Zero-Shot-seed-1.pth  \n",
            " extracting: Checkpoint_Extra_M_samples_Reproducibility_Zero_Shot_Teacher-WideResNet-40-2-Student-WideResNet-16-1-SVHN-M-25-Zero-Shot-seed-2.pth  \n",
            " extracting: Checkpoint_Extra_M_samples_Reproducibility_Zero_Shot_Teacher-WideResNet-40-2-Student-WideResNet-16-1-SVHN-M-50-Zero-Shot-seed-0.pth  \n",
            " extracting: Checkpoint_Extra_M_samples_Reproducibility_Zero_Shot_Teacher-WideResNet-40-2-Student-WideResNet-16-1-SVHN-M-10-Zero-Shot-seed-2.pth  \n",
            " extracting: Checkpoint_Extra_M_samples_Reproducibility_Zero_Shot_Teacher-WideResNet-40-2-Student-WideResNet-16-1-SVHN-M-50-Zero-Shot-seed-2.pth  \n",
            " extracting: Checkpoint_Extra_M_samples_Reproducibility_Zero_Shot_Teacher-WideResNet-40-2-Student-WideResNet-16-1-SVHN-M-25-Zero-Shot-seed-0.pth  \n",
            " extracting: Checkpoint_Extra_M_samples_Reproducibility_Zero_Shot_Teacher-WideResNet-40-2-Student-WideResNet-16-1-SVHN-M-50-Zero-Shot-seed-1.pth  \n",
            " extracting: Checkpoint_Extra_M_samples_Reproducibility_Zero_Shot_Teacher-WideResNet-40-2-Student-WideResNet-16-1-SVHN-M-100-Zero-Shot-seed-0.pth  \n",
            " extracting: Checkpoint_Extra_M_samples_Reproducibility_Zero_Shot_Teacher-WideResNet-40-2-Student-WideResNet-16-1-SVHN-M-100-Zero-Shot-seed-1.pth  \n",
            " extracting: Checkpoint_Extra_M_samples_Reproducibility_Zero_Shot_Teacher-WideResNet-40-2-Student-WideResNet-16-1-CIFAR10-M-75-Zero-Shot-seed-2.pth  \n",
            " extracting: Checkpoint_Extra_M_samples_Reproducibility_Zero_Shot_Teacher-WideResNet-40-2-Student-WideResNet-16-1-CIFAR10-M-75-Zero-Shot-seed-0.pth  \n",
            " extracting: Checkpoint_Extra_M_samples_Reproducibility_Zero_Shot_Teacher-WideResNet-40-2-Student-WideResNet-16-1-CIFAR10-M-10-Zero-Shot-seed-2.pth  \n",
            " extracting: Checkpoint_Extra_M_samples_Reproducibility_Zero_Shot_Teacher-WideResNet-40-2-Student-WideResNet-16-1-CIFAR10-M-50-Zero-Shot-seed-0.pth  \n",
            " extracting: Checkpoint_Extra_M_samples_Reproducibility_Zero_Shot_Teacher-WideResNet-40-2-Student-WideResNet-16-1-CIFAR10-M-25-Zero-Shot-seed-0.pth  \n",
            " extracting: Checkpoint_Extra_M_samples_Reproducibility_Zero_Shot_Teacher-WideResNet-40-2-Student-WideResNet-16-1-CIFAR10-M-50-Zero-Shot-seed-1.pth  \n",
            " extracting: Checkpoint_Extra_M_samples_Reproducibility_Zero_Shot_Teacher-WideResNet-40-2-Student-WideResNet-16-1-CIFAR10-M-10-Zero-Shot-seed-1.pth  \n",
            " extracting: Checkpoint_Extra_M_samples_Reproducibility_Zero_Shot_Teacher-WideResNet-40-2-Student-WideResNet-16-1-CIFAR10-M-10-Zero-Shot-seed-0.pth  \n",
            " extracting: Checkpoint_Extra_M_samples_Reproducibility_Zero_Shot_Teacher-WideResNet-40-2-Student-WideResNet-16-1-CIFAR10-M-25-Zero-Shot-seed-2.pth  \n",
            " extracting: Checkpoint_Extra_M_samples_Reproducibility_Zero_Shot_Teacher-WideResNet-40-2-Student-WideResNet-16-1-CIFAR10-M-75-Zero-Shot-seed-1.pth  \n",
            " extracting: Checkpoint_Extra_M_samples_Reproducibility_Zero_Shot_Teacher-WideResNet-40-2-Student-WideResNet-16-1-CIFAR10-M-50-Zero-Shot-seed-2.pth  \n",
            " extracting: Checkpoint_Extra_M_samples_Reproducibility_Zero_Shot_Teacher-WideResNet-40-2-Student-WideResNet-16-1-CIFAR10-M-25-Zero-Shot-seed-1.pth  \n",
            " extracting: Checkpoint_Extra_M_samples_Reproducibility_Zero_Shot_Teacher-WideResNet-40-2-Student-WideResNet-16-1-CIFAR10-M-100-Zero-Shot-seed-0.pth  \n",
            " extracting: Checkpoint_Extra_M_samples_Reproducibility_Zero_Shot_Teacher-WideResNet-40-2-Student-WideResNet-16-1-CIFAR10-M-100-Zero-Shot-seed-2.pth  \n",
            " extracting: Checkpoint_Extra_M_samples_Reproducibility_Zero_Shot_Teacher-WideResNet-40-2-Student-WideResNet-16-1-CIFAR10-M-100-Zero-Shot-seed-1.pth  \n"
          ],
          "name": "stdout"
        }
      ]
    },
    {
      "cell_type": "code",
      "metadata": {
        "id": "8azlAN7rPMLB",
        "colab_type": "code",
        "colab": {}
      },
      "source": [
        "import torch\n",
        "import torchvision\n",
        "from torch import nn as nn\n",
        "from torchvision import transforms\n",
        "device = torch.device('cuda:0')"
      ],
      "execution_count": 0,
      "outputs": []
    },
    {
      "cell_type": "code",
      "metadata": {
        "id": "pYvgDL-oPV13",
        "colab_type": "code",
        "colab": {}
      },
      "source": [
        "class IndividualBlock1(nn.Module):\n",
        "\n",
        "    def __init__(self, input_features, output_features, stride, subsample_input=True, increase_filters=True):\n",
        "        super(IndividualBlock1, self).__init__()\n",
        "\n",
        "        self.activation = nn.ReLU(inplace=True)\n",
        "\n",
        "        self.batch_norm1 = nn.BatchNorm2d(input_features)\n",
        "        self.batch_norm2 = nn.BatchNorm2d(output_features)\n",
        "\n",
        "        self.conv1 = nn.Conv2d(input_features, output_features, kernel_size=3, stride=stride, padding=1, bias=False)\n",
        "        self.conv2 = nn.Conv2d(output_features, output_features, kernel_size=3, stride=1, padding=1, bias=False)\n",
        "\n",
        "        self.subsample_input = subsample_input\n",
        "        self.increase_filters = increase_filters\n",
        "        if subsample_input:\n",
        "            self.conv_inp = nn.Conv2d(input_features, output_features, kernel_size=1, stride=2, padding=0, bias=False)\n",
        "        elif increase_filters:\n",
        "            self.conv_inp = nn.Conv2d(input_features, output_features, kernel_size=1, stride=1, padding=0, bias=False)\n",
        "\n",
        "    def forward(self, x):\n",
        "\n",
        "        if self.subsample_input or self.increase_filters:\n",
        "            x = self.batch_norm1(x)\n",
        "            x = self.activation(x)\n",
        "            x1 = self.conv1(x)\n",
        "        else:\n",
        "            x1 = self.batch_norm1(x)\n",
        "            x1 = self.activation(x1)\n",
        "            x1 = self.conv1(x1)\n",
        "        x1 = self.batch_norm2(x1)\n",
        "        x1 = self.activation(x1)\n",
        "        x1 = self.conv2(x1)\n",
        "\n",
        "        if self.subsample_input or self.increase_filters:\n",
        "            return self.conv_inp(x) + x1\n",
        "        else:\n",
        "            return x + x1\n",
        "\n",
        "\n",
        "class IndividualBlockN(nn.Module):\n",
        "\n",
        "    def __init__(self, input_features, output_features, stride):\n",
        "        super(IndividualBlockN, self).__init__()\n",
        "\n",
        "        self.activation = nn.ReLU(inplace=True)\n",
        "\n",
        "        self.batch_norm1 = nn.BatchNorm2d(input_features)\n",
        "        self.batch_norm2 = nn.BatchNorm2d(output_features)\n",
        "\n",
        "        self.conv1 = nn.Conv2d(input_features, output_features, kernel_size=3, stride=stride, padding=1, bias=False)\n",
        "        self.conv2 = nn.Conv2d(output_features, output_features, kernel_size=3, stride=stride, padding=1, bias=False)\n",
        "\n",
        "    def forward(self, x):\n",
        "        x1 = self.batch_norm1(x)\n",
        "        x1 = self.activation(x1)\n",
        "        x1 = self.conv1(x1)\n",
        "        x1 = self.batch_norm2(x1)\n",
        "        x1 = self.activation(x1)\n",
        "        x1 = self.conv2(x1)\n",
        "\n",
        "        return x1 + x\n",
        "\n",
        "\n",
        "class Nblock(nn.Module):\n",
        "\n",
        "    def __init__(self, N, input_features, output_features, stride, subsample_input=True, increase_filters=True):\n",
        "        super(Nblock, self).__init__()\n",
        "\n",
        "        layers = []\n",
        "        for i in range(N):\n",
        "            if i == 0:\n",
        "                layers.append(IndividualBlock1(input_features, output_features, stride, subsample_input, increase_filters))\n",
        "            else:\n",
        "                layers.append(IndividualBlockN(output_features, output_features, stride=1))\n",
        "\n",
        "        self.nblockLayer = nn.Sequential(*layers)\n",
        "\n",
        "    def forward(self, x):\n",
        "        return self.nblockLayer(x)\n",
        "\n",
        "\n",
        "class WideResNet(nn.Module):\n",
        "\n",
        "    def __init__(self, d, k, n_classes, input_features, output_features, strides):\n",
        "        super(WideResNet, self).__init__()\n",
        "\n",
        "        self.conv1 = nn.Conv2d(input_features, output_features, kernel_size=3, stride=strides[0], padding=1, bias=False)\n",
        "\n",
        "        filters = [16 * k, 32 * k, 64 * k]\n",
        "        self.out_filters = filters[-1]\n",
        "        N = (d - 4) // 6\n",
        "        increase_filters = k > 1\n",
        "        self.block1 = Nblock(N, input_features=output_features, output_features=filters[0], stride=strides[1], subsample_input=False, increase_filters=increase_filters)\n",
        "        self.block2 = Nblock(N, input_features=filters[0], output_features=filters[1], stride=strides[2])\n",
        "        self.block3 = Nblock(N, input_features=filters[1], output_features=filters[2], stride=strides[3])\n",
        "\n",
        "        self.batch_norm = nn.BatchNorm2d(filters[-1])\n",
        "        self.activation = nn.ReLU(inplace=True)\n",
        "        self.avg_pool = nn.AvgPool2d(kernel_size=8)\n",
        "        self.fc = nn.Linear(filters[-1], n_classes)\n",
        "\n",
        "    def forward(self, x):\n",
        "\n",
        "        x = self.conv1(x)\n",
        "        attention1 = self.block1(x)\n",
        "        attention2 = self.block2(attention1)\n",
        "        attention3 = self.block3(attention2)\n",
        "        out = self.batch_norm(attention3)\n",
        "        out = self.activation(out)\n",
        "        out = self.avg_pool(out)\n",
        "        out = out.view(-1, self.out_filters)\n",
        "\n",
        "        return self.fc(out), attention1, attention2, attention3"
      ],
      "execution_count": 0,
      "outputs": []
    },
    {
      "cell_type": "code",
      "metadata": {
        "id": "_sxoYugYPbRM",
        "colab_type": "code",
        "colab": {}
      },
      "source": [
        "def _test_set_eval(net, device, test_loader):\n",
        "    with torch.no_grad():\n",
        "        correct, total = 0, 0\n",
        "        net.eval()\n",
        "\n",
        "        for data in test_loader:\n",
        "            images, labels = data\n",
        "            images = images.to(device)\n",
        "            labels = labels.to(device)\n",
        "\n",
        "            outputs = net(images)[0]\n",
        "            _, predicted = torch.max(outputs.data, 1)\n",
        "            total += labels.size(0)\n",
        "            correct += (predicted == labels).sum().item()\n",
        "\n",
        "        accuracy = correct / total\n",
        "        accuracy = round(100 * accuracy, 2)\n",
        "\n",
        "        return accuracy"
      ],
      "execution_count": 0,
      "outputs": []
    },
    {
      "cell_type": "markdown",
      "metadata": {
        "id": "TGdwUiaqP4h8",
        "colab_type": "text"
      },
      "source": [
        "# SVHN"
      ]
    },
    {
      "cell_type": "code",
      "metadata": {
        "id": "HNApf_cHPikb",
        "colab_type": "code",
        "outputId": "bada51a2-946a-463f-e094-eacac03ce94b",
        "colab": {
          "base_uri": "https://localhost:8080/",
          "height": 51
        }
      },
      "source": [
        "svhn_normalize = transforms.Normalize((0.4377, 0.4438, 0.4728), (0.1980, 0.2010, 0.1970))\n",
        "\n",
        "svhn_transform = transforms.Compose([\n",
        "    transforms.ToTensor(),\n",
        "    svhn_normalize,\n",
        "])\n",
        "\n",
        "svhn_test_set = torchvision.datasets.SVHN(root='./data', split='test', download=True, transform=svhn_transform)\n",
        "svhn_test_loader = testloader = torch.utils.data.DataLoader(svhn_test_set, batch_size=100, shuffle=False, num_workers=0)"
      ],
      "execution_count": 5,
      "outputs": [
        {
          "output_type": "stream",
          "text": [
            "\r0it [00:00, ?it/s]"
          ],
          "name": "stderr"
        },
        {
          "output_type": "stream",
          "text": [
            "Downloading http://ufldl.stanford.edu/housenumbers/test_32x32.mat to ./data/test_32x32.mat\n"
          ],
          "name": "stdout"
        },
        {
          "output_type": "stream",
          "text": [
            "64282624it [00:06, 9560399.85it/s]                               \n"
          ],
          "name": "stderr"
        }
      ]
    },
    {
      "cell_type": "markdown",
      "metadata": {
        "id": "gtiun6l6QEip",
        "colab_type": "text"
      },
      "source": [
        "#### Zero-Shot-M - Teacher WRN-40-2 Student WRN-16-1 for different values of fine-tuned M"
      ]
    },
    {
      "cell_type": "markdown",
      "metadata": {
        "colab_type": "text",
        "id": "Y4ya1L8Cn2ZW"
      },
      "source": [
        "#### M=10 samples"
      ]
    },
    {
      "cell_type": "markdown",
      "metadata": {
        "colab_type": "text",
        "id": "tplM46rzn2Zr"
      },
      "source": [
        "#### Seed 0"
      ]
    },
    {
      "cell_type": "code",
      "metadata": {
        "colab_type": "code",
        "outputId": "c9916a24-c11b-4260-9b58-d776e62c6dc1",
        "id": "txZkSTO1n2Z5",
        "colab": {
          "base_uri": "https://localhost:8080/",
          "height": 34
        }
      },
      "source": [
        "seed=\"0\"\n",
        "M=\"10\"\n",
        "d = 16\n",
        "k = 1\n",
        "strides = [1, 1, 2, 2]\n",
        "net = WideResNet(d=d, k=k, n_classes=10, input_features=3, output_features=16, strides=strides).to(device)\n",
        "net.load_state_dict(torch.load('./Checkpoint_Extra_M_samples_Reproducibility_Zero_Shot_Teacher-WideResNet-40-2-Student-WideResNet-16-1-SVHN-M-'+M+'-Zero-Shot-seed-'+seed+'.pth', map_location=device))\n",
        "accuracy = _test_set_eval(net, device, svhn_test_loader)\n",
        "accuracy  "
      ],
      "execution_count": 6,
      "outputs": [
        {
          "output_type": "execute_result",
          "data": {
            "text/plain": [
              "94.29"
            ]
          },
          "metadata": {
            "tags": []
          },
          "execution_count": 6
        }
      ]
    },
    {
      "cell_type": "markdown",
      "metadata": {
        "colab_type": "text",
        "id": "dKtLTye-n2aL"
      },
      "source": [
        "#### Seed 1"
      ]
    },
    {
      "cell_type": "code",
      "metadata": {
        "colab_type": "code",
        "outputId": "86f9a96c-1769-45d4-d897-3cec36e83b3f",
        "id": "K_P80IpWn2aP",
        "colab": {
          "base_uri": "https://localhost:8080/",
          "height": 34
        }
      },
      "source": [
        "seed=\"1\"\n",
        "M=\"10\"\n",
        "d = 16\n",
        "k = 1\n",
        "strides = [1, 1, 2, 2]\n",
        "net = WideResNet(d=d, k=k, n_classes=10, input_features=3, output_features=16, strides=strides).to(device)\n",
        "net.load_state_dict(torch.load('./Checkpoint_Extra_M_samples_Reproducibility_Zero_Shot_Teacher-WideResNet-40-2-Student-WideResNet-16-1-SVHN-M-'+M+'-Zero-Shot-seed-'+seed+'.pth', map_location=device))\n",
        "accuracy = _test_set_eval(net, device, svhn_test_loader)\n",
        "accuracy  "
      ],
      "execution_count": 7,
      "outputs": [
        {
          "output_type": "execute_result",
          "data": {
            "text/plain": [
              "93.9"
            ]
          },
          "metadata": {
            "tags": []
          },
          "execution_count": 7
        }
      ]
    },
    {
      "cell_type": "markdown",
      "metadata": {
        "colab_type": "text",
        "id": "3BmaprSXn2ab"
      },
      "source": [
        "#### Seed 2"
      ]
    },
    {
      "cell_type": "code",
      "metadata": {
        "colab_type": "code",
        "outputId": "a02834ac-1399-4c96-9617-4230c26cd61c",
        "id": "RFYzOHhbn2ad",
        "colab": {
          "base_uri": "https://localhost:8080/",
          "height": 34
        }
      },
      "source": [
        "seed=\"2\"\n",
        "M=\"10\"\n",
        "d = 16\n",
        "k = 1\n",
        "strides = [1, 1, 2, 2]\n",
        "net = WideResNet(d=d, k=k, n_classes=10, input_features=3, output_features=16, strides=strides).to(device)\n",
        "net.load_state_dict(torch.load('./Checkpoint_Extra_M_samples_Reproducibility_Zero_Shot_Teacher-WideResNet-40-2-Student-WideResNet-16-1-SVHN-M-'+M+'-Zero-Shot-seed-'+seed+'.pth', map_location=device))\n",
        "accuracy = _test_set_eval(net, device, svhn_test_loader)\n",
        "accuracy  "
      ],
      "execution_count": 8,
      "outputs": [
        {
          "output_type": "execute_result",
          "data": {
            "text/plain": [
              "94.0"
            ]
          },
          "metadata": {
            "tags": []
          },
          "execution_count": 8
        }
      ]
    },
    {
      "cell_type": "markdown",
      "metadata": {
        "id": "KuEV8cJDz5Q4",
        "colab_type": "text"
      },
      "source": [
        "#### M=25 samples"
      ]
    },
    {
      "cell_type": "markdown",
      "metadata": {
        "colab_type": "text",
        "id": "vmUPNqVwzwim"
      },
      "source": [
        "#### Seed 0"
      ]
    },
    {
      "cell_type": "code",
      "metadata": {
        "colab_type": "code",
        "outputId": "798fe00d-540d-407f-aaf7-7a3aea43f171",
        "id": "GJNHFgJuzwjK",
        "colab": {
          "base_uri": "https://localhost:8080/",
          "height": 34
        }
      },
      "source": [
        "seed=\"0\"\n",
        "M=\"25\"\n",
        "d = 16\n",
        "k = 1\n",
        "strides = [1, 1, 2, 2]\n",
        "net = WideResNet(d=d, k=k, n_classes=10, input_features=3, output_features=16, strides=strides).to(device)\n",
        "net.load_state_dict(torch.load('./Checkpoint_Extra_M_samples_Reproducibility_Zero_Shot_Teacher-WideResNet-40-2-Student-WideResNet-16-1-SVHN-M-'+M+'-Zero-Shot-seed-'+seed+'.pth', map_location=device))\n",
        "accuracy = _test_set_eval(net, device, svhn_test_loader)\n",
        "accuracy  "
      ],
      "execution_count": 9,
      "outputs": [
        {
          "output_type": "execute_result",
          "data": {
            "text/plain": [
              "94.26"
            ]
          },
          "metadata": {
            "tags": []
          },
          "execution_count": 9
        }
      ]
    },
    {
      "cell_type": "markdown",
      "metadata": {
        "colab_type": "text",
        "id": "g0CUgzrizwjc"
      },
      "source": [
        "#### Seed 1"
      ]
    },
    {
      "cell_type": "code",
      "metadata": {
        "colab_type": "code",
        "outputId": "a4dc4d0c-c90c-4fdb-f74b-e0eae3f5a71a",
        "id": "GaE3vFNuzwje",
        "colab": {
          "base_uri": "https://localhost:8080/",
          "height": 34
        }
      },
      "source": [
        "seed=\"1\"\n",
        "M=\"25\"\n",
        "d = 16\n",
        "k = 1\n",
        "strides = [1, 1, 2, 2]\n",
        "net = WideResNet(d=d, k=k, n_classes=10, input_features=3, output_features=16, strides=strides).to(device)\n",
        "net.load_state_dict(torch.load('./Checkpoint_Extra_M_samples_Reproducibility_Zero_Shot_Teacher-WideResNet-40-2-Student-WideResNet-16-1-SVHN-M-'+M+'-Zero-Shot-seed-'+seed+'.pth', map_location=device))\n",
        "accuracy = _test_set_eval(net, device, svhn_test_loader)\n",
        "accuracy  "
      ],
      "execution_count": 10,
      "outputs": [
        {
          "output_type": "execute_result",
          "data": {
            "text/plain": [
              "93.97"
            ]
          },
          "metadata": {
            "tags": []
          },
          "execution_count": 10
        }
      ]
    },
    {
      "cell_type": "markdown",
      "metadata": {
        "colab_type": "text",
        "id": "SLVZ8IRszwjp"
      },
      "source": [
        "#### Seed 2"
      ]
    },
    {
      "cell_type": "code",
      "metadata": {
        "colab_type": "code",
        "outputId": "3b1e6cbb-aa5a-48ce-f858-9c8c73d4bb9a",
        "id": "qWONTxgQzwjs",
        "colab": {
          "base_uri": "https://localhost:8080/",
          "height": 34
        }
      },
      "source": [
        "seed=\"2\"\n",
        "M=\"25\"\n",
        "d = 16\n",
        "k = 1\n",
        "strides = [1, 1, 2, 2]\n",
        "net = WideResNet(d=d, k=k, n_classes=10, input_features=3, output_features=16, strides=strides).to(device)\n",
        "net.load_state_dict(torch.load('./Checkpoint_Extra_M_samples_Reproducibility_Zero_Shot_Teacher-WideResNet-40-2-Student-WideResNet-16-1-SVHN-M-'+M+'-Zero-Shot-seed-'+seed+'.pth', map_location=device))\n",
        "accuracy = _test_set_eval(net, device, svhn_test_loader)\n",
        "accuracy  "
      ],
      "execution_count": 11,
      "outputs": [
        {
          "output_type": "execute_result",
          "data": {
            "text/plain": [
              "93.98"
            ]
          },
          "metadata": {
            "tags": []
          },
          "execution_count": 11
        }
      ]
    },
    {
      "cell_type": "markdown",
      "metadata": {
        "colab_type": "text",
        "id": "1h-wOp2r0QPN"
      },
      "source": [
        "#### M=50 samples"
      ]
    },
    {
      "cell_type": "markdown",
      "metadata": {
        "colab_type": "text",
        "id": "JdTGCWS90QPf"
      },
      "source": [
        "#### Seed 0"
      ]
    },
    {
      "cell_type": "code",
      "metadata": {
        "colab_type": "code",
        "outputId": "a029c132-e5c0-4095-d192-8b3899718fbe",
        "id": "Nieyb1S00QPm",
        "colab": {
          "base_uri": "https://localhost:8080/",
          "height": 34
        }
      },
      "source": [
        "seed=\"0\"\n",
        "M=\"50\"\n",
        "d = 16\n",
        "k = 1\n",
        "strides = [1, 1, 2, 2]\n",
        "net = WideResNet(d=d, k=k, n_classes=10, input_features=3, output_features=16, strides=strides).to(device)\n",
        "net.load_state_dict(torch.load('./Checkpoint_Extra_M_samples_Reproducibility_Zero_Shot_Teacher-WideResNet-40-2-Student-WideResNet-16-1-SVHN-M-'+M+'-Zero-Shot-seed-'+seed+'.pth', map_location=device))\n",
        "accuracy = _test_set_eval(net, device, svhn_test_loader)\n",
        "accuracy  "
      ],
      "execution_count": 12,
      "outputs": [
        {
          "output_type": "execute_result",
          "data": {
            "text/plain": [
              "94.26"
            ]
          },
          "metadata": {
            "tags": []
          },
          "execution_count": 12
        }
      ]
    },
    {
      "cell_type": "markdown",
      "metadata": {
        "colab_type": "text",
        "id": "xVl4JlSh0QP0"
      },
      "source": [
        "#### Seed 1"
      ]
    },
    {
      "cell_type": "code",
      "metadata": {
        "colab_type": "code",
        "outputId": "60bf73a9-a2e8-49dc-f74f-6df793c26994",
        "id": "HR1GuOEd0QP5",
        "colab": {
          "base_uri": "https://localhost:8080/",
          "height": 34
        }
      },
      "source": [
        "seed=\"1\"\n",
        "M=\"50\"\n",
        "d = 16\n",
        "k = 1\n",
        "strides = [1, 1, 2, 2]\n",
        "net = WideResNet(d=d, k=k, n_classes=10, input_features=3, output_features=16, strides=strides).to(device)\n",
        "net.load_state_dict(torch.load('./Checkpoint_Extra_M_samples_Reproducibility_Zero_Shot_Teacher-WideResNet-40-2-Student-WideResNet-16-1-SVHN-M-'+M+'-Zero-Shot-seed-'+seed+'.pth', map_location=device))\n",
        "accuracy = _test_set_eval(net, device, svhn_test_loader)\n",
        "accuracy  "
      ],
      "execution_count": 13,
      "outputs": [
        {
          "output_type": "execute_result",
          "data": {
            "text/plain": [
              "93.94"
            ]
          },
          "metadata": {
            "tags": []
          },
          "execution_count": 13
        }
      ]
    },
    {
      "cell_type": "markdown",
      "metadata": {
        "colab_type": "text",
        "id": "wvAIEr6a0QQC"
      },
      "source": [
        "#### Seed 2"
      ]
    },
    {
      "cell_type": "code",
      "metadata": {
        "colab_type": "code",
        "outputId": "21434747-a3ea-4590-b765-77fbb387b5d4",
        "id": "U0GH36bR0QQD",
        "colab": {
          "base_uri": "https://localhost:8080/",
          "height": 34
        }
      },
      "source": [
        "seed=\"2\"\n",
        "M=\"50\"\n",
        "d = 16\n",
        "k = 1\n",
        "strides = [1, 1, 2, 2]\n",
        "net = WideResNet(d=d, k=k, n_classes=10, input_features=3, output_features=16, strides=strides).to(device)\n",
        "net.load_state_dict(torch.load('./Checkpoint_Extra_M_samples_Reproducibility_Zero_Shot_Teacher-WideResNet-40-2-Student-WideResNet-16-1-SVHN-M-'+M+'-Zero-Shot-seed-'+seed+'.pth', map_location=device))\n",
        "accuracy = _test_set_eval(net, device, svhn_test_loader)\n",
        "accuracy  "
      ],
      "execution_count": 14,
      "outputs": [
        {
          "output_type": "execute_result",
          "data": {
            "text/plain": [
              "93.97"
            ]
          },
          "metadata": {
            "tags": []
          },
          "execution_count": 14
        }
      ]
    },
    {
      "cell_type": "markdown",
      "metadata": {
        "colab_type": "text",
        "id": "sh2vT7et0dLj"
      },
      "source": [
        "#### M=75 samples"
      ]
    },
    {
      "cell_type": "markdown",
      "metadata": {
        "colab_type": "text",
        "id": "p1ZfVKuY0dL4"
      },
      "source": [
        "#### Seed 0"
      ]
    },
    {
      "cell_type": "code",
      "metadata": {
        "colab_type": "code",
        "outputId": "15dc54ad-5cbb-42a1-ae3a-b8abbd4587c6",
        "id": "-4sDGWaB0dMA",
        "colab": {
          "base_uri": "https://localhost:8080/",
          "height": 34
        }
      },
      "source": [
        "seed=\"0\"\n",
        "M=\"75\"\n",
        "d = 16\n",
        "k = 1\n",
        "strides = [1, 1, 2, 2]\n",
        "net = WideResNet(d=d, k=k, n_classes=10, input_features=3, output_features=16, strides=strides).to(device)\n",
        "net.load_state_dict(torch.load('./Checkpoint_Extra_M_samples_Reproducibility_Zero_Shot_Teacher-WideResNet-40-2-Student-WideResNet-16-1-SVHN-M-'+M+'-Zero-Shot-seed-'+seed+'.pth', map_location=device))\n",
        "accuracy = _test_set_eval(net, device, svhn_test_loader)\n",
        "accuracy  "
      ],
      "execution_count": 15,
      "outputs": [
        {
          "output_type": "execute_result",
          "data": {
            "text/plain": [
              "94.27"
            ]
          },
          "metadata": {
            "tags": []
          },
          "execution_count": 15
        }
      ]
    },
    {
      "cell_type": "markdown",
      "metadata": {
        "colab_type": "text",
        "id": "AsMosrFh0dMS"
      },
      "source": [
        "#### Seed 1"
      ]
    },
    {
      "cell_type": "code",
      "metadata": {
        "colab_type": "code",
        "outputId": "9ba3212f-33b9-440e-d5ab-848d7fca28a2",
        "id": "oZ3BsHQD0dMY",
        "colab": {
          "base_uri": "https://localhost:8080/",
          "height": 34
        }
      },
      "source": [
        "seed=\"1\"\n",
        "M=\"75\"\n",
        "d = 16\n",
        "k = 1\n",
        "strides = [1, 1, 2, 2]\n",
        "net = WideResNet(d=d, k=k, n_classes=10, input_features=3, output_features=16, strides=strides).to(device)\n",
        "net.load_state_dict(torch.load('./Checkpoint_Extra_M_samples_Reproducibility_Zero_Shot_Teacher-WideResNet-40-2-Student-WideResNet-16-1-SVHN-M-'+M+'-Zero-Shot-seed-'+seed+'.pth', map_location=device))\n",
        "accuracy = _test_set_eval(net, device, svhn_test_loader)\n",
        "accuracy  "
      ],
      "execution_count": 16,
      "outputs": [
        {
          "output_type": "execute_result",
          "data": {
            "text/plain": [
              "93.95"
            ]
          },
          "metadata": {
            "tags": []
          },
          "execution_count": 16
        }
      ]
    },
    {
      "cell_type": "markdown",
      "metadata": {
        "colab_type": "text",
        "id": "TbeuK2wG0dMg"
      },
      "source": [
        "#### Seed 2 - Did not improve initial model!"
      ]
    },
    {
      "cell_type": "markdown",
      "metadata": {
        "colab_type": "text",
        "id": "nTKDkB8k024h"
      },
      "source": [
        "#### M=100 samples"
      ]
    },
    {
      "cell_type": "markdown",
      "metadata": {
        "colab_type": "text",
        "id": "gPO3CNU6024y"
      },
      "source": [
        "#### Seed 0"
      ]
    },
    {
      "cell_type": "code",
      "metadata": {
        "colab_type": "code",
        "outputId": "79ef76ac-701a-49f4-fb95-5a4b2907b55f",
        "id": "U5gW7xLP0249",
        "colab": {
          "base_uri": "https://localhost:8080/",
          "height": 34
        }
      },
      "source": [
        "seed=\"0\"\n",
        "M=\"100\"\n",
        "d = 16\n",
        "k = 1\n",
        "strides = [1, 1, 2, 2]\n",
        "net = WideResNet(d=d, k=k, n_classes=10, input_features=3, output_features=16, strides=strides).to(device)\n",
        "net.load_state_dict(torch.load('./Checkpoint_Extra_M_samples_Reproducibility_Zero_Shot_Teacher-WideResNet-40-2-Student-WideResNet-16-1-SVHN-M-'+M+'-Zero-Shot-seed-'+seed+'.pth', map_location=device))\n",
        "accuracy = _test_set_eval(net, device, svhn_test_loader)\n",
        "accuracy  "
      ],
      "execution_count": 17,
      "outputs": [
        {
          "output_type": "execute_result",
          "data": {
            "text/plain": [
              "94.24"
            ]
          },
          "metadata": {
            "tags": []
          },
          "execution_count": 17
        }
      ]
    },
    {
      "cell_type": "markdown",
      "metadata": {
        "colab_type": "text",
        "id": "uodUK2vC025N"
      },
      "source": [
        "#### Seed 1"
      ]
    },
    {
      "cell_type": "code",
      "metadata": {
        "colab_type": "code",
        "outputId": "1dbcf0a8-cbef-4b06-f778-1ef5ae90827a",
        "id": "abIwdDUb025T",
        "colab": {
          "base_uri": "https://localhost:8080/",
          "height": 34
        }
      },
      "source": [
        "seed=\"1\"\n",
        "M=\"100\"\n",
        "d = 16\n",
        "k = 1\n",
        "strides = [1, 1, 2, 2]\n",
        "net = WideResNet(d=d, k=k, n_classes=10, input_features=3, output_features=16, strides=strides).to(device)\n",
        "net.load_state_dict(torch.load('./Checkpoint_Extra_M_samples_Reproducibility_Zero_Shot_Teacher-WideResNet-40-2-Student-WideResNet-16-1-SVHN-M-'+M+'-Zero-Shot-seed-'+seed+'.pth', map_location=device))\n",
        "accuracy = _test_set_eval(net, device, svhn_test_loader)\n",
        "accuracy  "
      ],
      "execution_count": 18,
      "outputs": [
        {
          "output_type": "execute_result",
          "data": {
            "text/plain": [
              "93.97"
            ]
          },
          "metadata": {
            "tags": []
          },
          "execution_count": 18
        }
      ]
    },
    {
      "cell_type": "markdown",
      "metadata": {
        "colab_type": "text",
        "id": "A7K2CbgB025c"
      },
      "source": [
        "#### Seed 2 - Did not improve initial model!"
      ]
    },
    {
      "cell_type": "markdown",
      "metadata": {
        "colab_type": "text",
        "id": "jEIBKBmNnoIL"
      },
      "source": [
        "# CIFAR10"
      ]
    },
    {
      "cell_type": "code",
      "metadata": {
        "id": "36nL1ncsYJKo",
        "colab_type": "code",
        "outputId": "3d0c2d79-e3c2-4ae3-8779-3bdd8b1295b3",
        "colab": {
          "base_uri": "https://localhost:8080/",
          "height": 71
        }
      },
      "source": [
        "cifar_normalize = transforms.Normalize((0.4914, 0.4822, 0.4465), (0.2023, 0.1994, 0.2010))\n",
        "\n",
        "cifar_transform = transforms.Compose([\n",
        "  transforms.ToTensor(),\n",
        "  cifar_normalize,\n",
        "])\n",
        "\n",
        "cifar_testset = torchvision.datasets.CIFAR10(root='./data', train=False, download=True, transform=cifar_transform)\n",
        "cifar_testloader = torch.utils.data.DataLoader(cifar_testset, batch_size=100, shuffle=False, num_workers=0)"
      ],
      "execution_count": 19,
      "outputs": [
        {
          "output_type": "stream",
          "text": [
            "\r0it [00:00, ?it/s]"
          ],
          "name": "stderr"
        },
        {
          "output_type": "stream",
          "text": [
            "Downloading https://www.cs.toronto.edu/~kriz/cifar-10-python.tar.gz to ./data/cifar-10-python.tar.gz\n"
          ],
          "name": "stdout"
        },
        {
          "output_type": "stream",
          "text": [
            " 99%|█████████▉| 168894464/170498071 [00:12<00:00, 17695885.57it/s]"
          ],
          "name": "stderr"
        },
        {
          "output_type": "stream",
          "text": [
            "Extracting ./data/cifar-10-python.tar.gz to ./data\n"
          ],
          "name": "stdout"
        }
      ]
    },
    {
      "cell_type": "markdown",
      "metadata": {
        "id": "dyw7gSAcX57V",
        "colab_type": "text"
      },
      "source": [
        "#### Zero-Shot-M - Teacher WRN-40-2 Student WRN-16-1 for different values of fine-tuned M"
      ]
    },
    {
      "cell_type": "markdown",
      "metadata": {
        "id": "FnLh2ENNYVG6",
        "colab_type": "text"
      },
      "source": [
        "#### M=10 samples"
      ]
    },
    {
      "cell_type": "markdown",
      "metadata": {
        "id": "zkDtx7THYW06",
        "colab_type": "text"
      },
      "source": [
        "#### Seed 0"
      ]
    },
    {
      "cell_type": "code",
      "metadata": {
        "id": "vLOweEomcp39",
        "colab_type": "code",
        "outputId": "c4d4e46d-8fbf-44e1-cc1f-fc33ce7e91dc",
        "colab": {
          "base_uri": "https://localhost:8080/",
          "height": 34
        }
      },
      "source": [
        "seed=\"0\"\n",
        "M=\"10\"\n",
        "d = 16\n",
        "k = 1\n",
        "strides = [1, 1, 2, 2]\n",
        "net = WideResNet(d=d, k=k, n_classes=10, input_features=3, output_features=16, strides=strides).to(device)\n",
        "net.load_state_dict(torch.load('./Checkpoint_Extra_M_samples_Reproducibility_Zero_Shot_Teacher-WideResNet-40-2-Student-WideResNet-16-1-CIFAR10-M-'+M+'-Zero-Shot-seed-'+seed+'.pth', map_location=device))\n",
        "accuracy = _test_set_eval(net, device, cifar_testloader)\n",
        "accuracy  "
      ],
      "execution_count": 20,
      "outputs": [
        {
          "output_type": "execute_result",
          "data": {
            "text/plain": [
              "83.89"
            ]
          },
          "metadata": {
            "tags": []
          },
          "execution_count": 20
        }
      ]
    },
    {
      "cell_type": "markdown",
      "metadata": {
        "id": "aFOrUnXOYnNH",
        "colab_type": "text"
      },
      "source": [
        "#### Seed 1"
      ]
    },
    {
      "cell_type": "code",
      "metadata": {
        "id": "vIxuWVIpYlEH",
        "colab_type": "code",
        "outputId": "36abce0e-75a1-40e3-b6ae-d457b54ebb6f",
        "colab": {
          "base_uri": "https://localhost:8080/",
          "height": 34
        }
      },
      "source": [
        "seed=\"1\"\n",
        "M=\"10\"\n",
        "d = 16\n",
        "k = 1\n",
        "strides = [1, 1, 2, 2]\n",
        "net = WideResNet(d=d, k=k, n_classes=10, input_features=3, output_features=16, strides=strides).to(device)\n",
        "net.load_state_dict(torch.load('./Checkpoint_Extra_M_samples_Reproducibility_Zero_Shot_Teacher-WideResNet-40-2-Student-WideResNet-16-1-CIFAR10-M-'+M+'-Zero-Shot-seed-'+seed+'.pth', map_location=device))\n",
        "accuracy = _test_set_eval(net, device, cifar_testloader)\n",
        "accuracy  "
      ],
      "execution_count": 21,
      "outputs": [
        {
          "output_type": "execute_result",
          "data": {
            "text/plain": [
              "83.37"
            ]
          },
          "metadata": {
            "tags": []
          },
          "execution_count": 21
        }
      ]
    },
    {
      "cell_type": "markdown",
      "metadata": {
        "colab_type": "text",
        "id": "fiCatr-pZdZS"
      },
      "source": [
        "#### Seed 2"
      ]
    },
    {
      "cell_type": "code",
      "metadata": {
        "colab_type": "code",
        "outputId": "892b953a-74dd-4a83-a09e-c0e76a692d4a",
        "id": "dmXnby6aZdZb",
        "colab": {
          "base_uri": "https://localhost:8080/",
          "height": 34
        }
      },
      "source": [
        "seed=\"2\"\n",
        "M=\"10\"\n",
        "d = 16\n",
        "k = 1\n",
        "strides = [1, 1, 2, 2]\n",
        "net = WideResNet(d=d, k=k, n_classes=10, input_features=3, output_features=16, strides=strides).to(device)\n",
        "net.load_state_dict(torch.load('./Checkpoint_Extra_M_samples_Reproducibility_Zero_Shot_Teacher-WideResNet-40-2-Student-WideResNet-16-1-CIFAR10-M-'+M+'-Zero-Shot-seed-'+seed+'.pth', map_location=device))\n",
        "accuracy = _test_set_eval(net, device, cifar_testloader)\n",
        "accuracy  "
      ],
      "execution_count": 22,
      "outputs": [
        {
          "output_type": "execute_result",
          "data": {
            "text/plain": [
              "83.77"
            ]
          },
          "metadata": {
            "tags": []
          },
          "execution_count": 22
        }
      ]
    },
    {
      "cell_type": "markdown",
      "metadata": {
        "colab_type": "text",
        "id": "toVmyZvMbOXJ"
      },
      "source": [
        "#### M=25 samples"
      ]
    },
    {
      "cell_type": "markdown",
      "metadata": {
        "colab_type": "text",
        "id": "8mfy6MrfbOXZ"
      },
      "source": [
        "#### Seed 0"
      ]
    },
    {
      "cell_type": "code",
      "metadata": {
        "colab_type": "code",
        "id": "E7O_oTX2bOXh",
        "outputId": "8913cb6f-d3bb-43aa-f6b5-262c157eea8e",
        "colab": {
          "base_uri": "https://localhost:8080/",
          "height": 34
        }
      },
      "source": [
        "seed=\"0\"\n",
        "M=\"25\"\n",
        "d = 16\n",
        "k = 1\n",
        "strides = [1, 1, 2, 2]\n",
        "net = WideResNet(d=d, k=k, n_classes=10, input_features=3, output_features=16, strides=strides).to(device)\n",
        "net.load_state_dict(torch.load('./Checkpoint_Extra_M_samples_Reproducibility_Zero_Shot_Teacher-WideResNet-40-2-Student-WideResNet-16-1-CIFAR10-M-'+M+'-Zero-Shot-seed-'+seed+'.pth', map_location=device))\n",
        "accuracy = _test_set_eval(net, device, cifar_testloader)\n",
        "accuracy  "
      ],
      "execution_count": 23,
      "outputs": [
        {
          "output_type": "execute_result",
          "data": {
            "text/plain": [
              "84.08"
            ]
          },
          "metadata": {
            "tags": []
          },
          "execution_count": 23
        }
      ]
    },
    {
      "cell_type": "markdown",
      "metadata": {
        "colab_type": "text",
        "id": "_GcqulxqbOXy"
      },
      "source": [
        "#### Seed 1"
      ]
    },
    {
      "cell_type": "code",
      "metadata": {
        "colab_type": "code",
        "outputId": "99c2e35d-397f-400e-f2b6-c259edc26bfe",
        "id": "tkL5vIz1bOX1",
        "colab": {
          "base_uri": "https://localhost:8080/",
          "height": 34
        }
      },
      "source": [
        "seed=\"1\"\n",
        "M=\"25\"\n",
        "d = 16\n",
        "k = 1\n",
        "strides = [1, 1, 2, 2]\n",
        "net = WideResNet(d=d, k=k, n_classes=10, input_features=3, output_features=16, strides=strides).to(device)\n",
        "net.load_state_dict(torch.load('./Checkpoint_Extra_M_samples_Reproducibility_Zero_Shot_Teacher-WideResNet-40-2-Student-WideResNet-16-1-CIFAR10-M-'+M+'-Zero-Shot-seed-'+seed+'.pth', map_location=device))\n",
        "accuracy = _test_set_eval(net, device, cifar_testloader)\n",
        "accuracy  "
      ],
      "execution_count": 24,
      "outputs": [
        {
          "output_type": "execute_result",
          "data": {
            "text/plain": [
              "83.57"
            ]
          },
          "metadata": {
            "tags": []
          },
          "execution_count": 24
        }
      ]
    },
    {
      "cell_type": "markdown",
      "metadata": {
        "colab_type": "text",
        "id": "5m7cstHnbOX8"
      },
      "source": [
        "#### Seed 2"
      ]
    },
    {
      "cell_type": "code",
      "metadata": {
        "colab_type": "code",
        "outputId": "6cfde3ac-a820-4224-d8fc-ce277a83d9ff",
        "id": "_iKLxnnDbOX9",
        "colab": {
          "base_uri": "https://localhost:8080/",
          "height": 34
        }
      },
      "source": [
        "seed=\"2\"\n",
        "M=\"25\"\n",
        "d = 16\n",
        "k = 1\n",
        "strides = [1, 1, 2, 2]\n",
        "net = WideResNet(d=d, k=k, n_classes=10, input_features=3, output_features=16, strides=strides).to(device)\n",
        "net.load_state_dict(torch.load('./Checkpoint_Extra_M_samples_Reproducibility_Zero_Shot_Teacher-WideResNet-40-2-Student-WideResNet-16-1-CIFAR10-M-'+M+'-Zero-Shot-seed-'+seed+'.pth', map_location=device))\n",
        "accuracy = _test_set_eval(net, device, cifar_testloader)\n",
        "accuracy  "
      ],
      "execution_count": 25,
      "outputs": [
        {
          "output_type": "execute_result",
          "data": {
            "text/plain": [
              "84.22"
            ]
          },
          "metadata": {
            "tags": []
          },
          "execution_count": 25
        }
      ]
    },
    {
      "cell_type": "markdown",
      "metadata": {
        "colab_type": "text",
        "id": "O4DP1syqdOX0"
      },
      "source": [
        "#### M=50 samples"
      ]
    },
    {
      "cell_type": "markdown",
      "metadata": {
        "colab_type": "text",
        "id": "j7vrfShpdOYH"
      },
      "source": [
        "#### Seed 0"
      ]
    },
    {
      "cell_type": "code",
      "metadata": {
        "colab_type": "code",
        "id": "9nc-nYk0dOYN",
        "outputId": "01e4f28a-0642-4618-c327-522f1e3a6e2a",
        "colab": {
          "base_uri": "https://localhost:8080/",
          "height": 34
        }
      },
      "source": [
        "seed=\"0\"\n",
        "M=\"50\"\n",
        "d = 16\n",
        "k = 1\n",
        "strides = [1, 1, 2, 2]\n",
        "net = WideResNet(d=d, k=k, n_classes=10, input_features=3, output_features=16, strides=strides).to(device)\n",
        "net.load_state_dict(torch.load('./Checkpoint_Extra_M_samples_Reproducibility_Zero_Shot_Teacher-WideResNet-40-2-Student-WideResNet-16-1-CIFAR10-M-'+M+'-Zero-Shot-seed-'+seed+'.pth', map_location=device))\n",
        "accuracy = _test_set_eval(net, device, cifar_testloader)\n",
        "accuracy  "
      ],
      "execution_count": 26,
      "outputs": [
        {
          "output_type": "execute_result",
          "data": {
            "text/plain": [
              "84.69"
            ]
          },
          "metadata": {
            "tags": []
          },
          "execution_count": 26
        }
      ]
    },
    {
      "cell_type": "markdown",
      "metadata": {
        "colab_type": "text",
        "id": "r5m3-o_QdOYX"
      },
      "source": [
        "#### Seed 1"
      ]
    },
    {
      "cell_type": "code",
      "metadata": {
        "colab_type": "code",
        "outputId": "37f653c3-8213-42b3-d4f5-137252178b6c",
        "id": "41L60dlsdOYf",
        "colab": {
          "base_uri": "https://localhost:8080/",
          "height": 34
        }
      },
      "source": [
        "seed=\"1\"\n",
        "M=\"50\"\n",
        "d = 16\n",
        "k = 1\n",
        "strides = [1, 1, 2, 2]\n",
        "net = WideResNet(d=d, k=k, n_classes=10, input_features=3, output_features=16, strides=strides).to(device)\n",
        "net.load_state_dict(torch.load('./Checkpoint_Extra_M_samples_Reproducibility_Zero_Shot_Teacher-WideResNet-40-2-Student-WideResNet-16-1-CIFAR10-M-'+M+'-Zero-Shot-seed-'+seed+'.pth', map_location=device))\n",
        "accuracy = _test_set_eval(net, device, cifar_testloader)\n",
        "accuracy  "
      ],
      "execution_count": 27,
      "outputs": [
        {
          "output_type": "execute_result",
          "data": {
            "text/plain": [
              "84.37"
            ]
          },
          "metadata": {
            "tags": []
          },
          "execution_count": 27
        }
      ]
    },
    {
      "cell_type": "markdown",
      "metadata": {
        "colab_type": "text",
        "id": "ANFpLmA1dOYn"
      },
      "source": [
        "#### Seed 2"
      ]
    },
    {
      "cell_type": "code",
      "metadata": {
        "colab_type": "code",
        "outputId": "01ca4088-1296-4b07-faf5-3dc4267a3447",
        "id": "p3T7oEp9dOYp",
        "colab": {
          "base_uri": "https://localhost:8080/",
          "height": 34
        }
      },
      "source": [
        "seed=\"2\"\n",
        "M=\"50\"\n",
        "d = 16\n",
        "k = 1\n",
        "strides = [1, 1, 2, 2]\n",
        "net = WideResNet(d=d, k=k, n_classes=10, input_features=3, output_features=16, strides=strides).to(device)\n",
        "net.load_state_dict(torch.load('./Checkpoint_Extra_M_samples_Reproducibility_Zero_Shot_Teacher-WideResNet-40-2-Student-WideResNet-16-1-CIFAR10-M-'+M+'-Zero-Shot-seed-'+seed+'.pth', map_location=device))\n",
        "accuracy = _test_set_eval(net, device, cifar_testloader)\n",
        "accuracy  "
      ],
      "execution_count": 28,
      "outputs": [
        {
          "output_type": "execute_result",
          "data": {
            "text/plain": [
              "84.94"
            ]
          },
          "metadata": {
            "tags": []
          },
          "execution_count": 28
        }
      ]
    },
    {
      "cell_type": "markdown",
      "metadata": {
        "colab_type": "text",
        "id": "61KxO3T0dchr"
      },
      "source": [
        "#### M=75 samples"
      ]
    },
    {
      "cell_type": "markdown",
      "metadata": {
        "colab_type": "text",
        "id": "J__nd-zWdciB"
      },
      "source": [
        "#### Seed 0"
      ]
    },
    {
      "cell_type": "code",
      "metadata": {
        "colab_type": "code",
        "id": "wKkn5sS-dciN",
        "outputId": "0f1e02ce-8396-4600-fb0b-62053b4fe393",
        "colab": {
          "base_uri": "https://localhost:8080/",
          "height": 34
        }
      },
      "source": [
        "seed=\"0\"\n",
        "M=\"75\"\n",
        "d = 16\n",
        "k = 1\n",
        "strides = [1, 1, 2, 2]\n",
        "net = WideResNet(d=d, k=k, n_classes=10, input_features=3, output_features=16, strides=strides).to(device)\n",
        "net.load_state_dict(torch.load('./Checkpoint_Extra_M_samples_Reproducibility_Zero_Shot_Teacher-WideResNet-40-2-Student-WideResNet-16-1-CIFAR10-M-'+M+'-Zero-Shot-seed-'+seed+'.pth', map_location=device))\n",
        "accuracy = _test_set_eval(net, device, cifar_testloader)\n",
        "accuracy  "
      ],
      "execution_count": 29,
      "outputs": [
        {
          "output_type": "stream",
          "text": [
            "\r170500096it [00:30, 17695885.57it/s]                               "
          ],
          "name": "stderr"
        },
        {
          "output_type": "execute_result",
          "data": {
            "text/plain": [
              "84.98"
            ]
          },
          "metadata": {
            "tags": []
          },
          "execution_count": 29
        }
      ]
    },
    {
      "cell_type": "markdown",
      "metadata": {
        "colab_type": "text",
        "id": "IBgBC2cMdciZ"
      },
      "source": [
        "#### Seed 1"
      ]
    },
    {
      "cell_type": "code",
      "metadata": {
        "colab_type": "code",
        "outputId": "e105cbe6-7f9c-497b-c7f7-5b59554cc54a",
        "id": "Yn4PkwAKdcie",
        "colab": {
          "base_uri": "https://localhost:8080/",
          "height": 34
        }
      },
      "source": [
        "seed=\"1\"\n",
        "M=\"75\"\n",
        "d = 16\n",
        "k = 1\n",
        "strides = [1, 1, 2, 2]\n",
        "net = WideResNet(d=d, k=k, n_classes=10, input_features=3, output_features=16, strides=strides).to(device)\n",
        "net.load_state_dict(torch.load('./Checkpoint_Extra_M_samples_Reproducibility_Zero_Shot_Teacher-WideResNet-40-2-Student-WideResNet-16-1-CIFAR10-M-'+M+'-Zero-Shot-seed-'+seed+'.pth', map_location=device))\n",
        "accuracy = _test_set_eval(net, device, cifar_testloader)\n",
        "accuracy  "
      ],
      "execution_count": 30,
      "outputs": [
        {
          "output_type": "execute_result",
          "data": {
            "text/plain": [
              "84.53"
            ]
          },
          "metadata": {
            "tags": []
          },
          "execution_count": 30
        }
      ]
    },
    {
      "cell_type": "markdown",
      "metadata": {
        "colab_type": "text",
        "id": "f8kmXgnddcir"
      },
      "source": [
        "#### Seed 2"
      ]
    },
    {
      "cell_type": "code",
      "metadata": {
        "colab_type": "code",
        "outputId": "8441eb11-af8e-460b-ce9a-fd0d42fb86d1",
        "id": "MP639Nm0dcit",
        "colab": {
          "base_uri": "https://localhost:8080/",
          "height": 34
        }
      },
      "source": [
        "seed=\"2\"\n",
        "M=\"75\"\n",
        "d = 16\n",
        "k = 1\n",
        "strides = [1, 1, 2, 2]\n",
        "net = WideResNet(d=d, k=k, n_classes=10, input_features=3, output_features=16, strides=strides).to(device)\n",
        "net.load_state_dict(torch.load('./Checkpoint_Extra_M_samples_Reproducibility_Zero_Shot_Teacher-WideResNet-40-2-Student-WideResNet-16-1-CIFAR10-M-'+M+'-Zero-Shot-seed-'+seed+'.pth', map_location=device))\n",
        "accuracy = _test_set_eval(net, device, cifar_testloader)\n",
        "accuracy  "
      ],
      "execution_count": 31,
      "outputs": [
        {
          "output_type": "execute_result",
          "data": {
            "text/plain": [
              "85.0"
            ]
          },
          "metadata": {
            "tags": []
          },
          "execution_count": 31
        }
      ]
    },
    {
      "cell_type": "markdown",
      "metadata": {
        "colab_type": "text",
        "id": "gYGAJlAbdmA2"
      },
      "source": [
        "#### M=100 samples"
      ]
    },
    {
      "cell_type": "markdown",
      "metadata": {
        "colab_type": "text",
        "id": "e9vz033ZdmBL"
      },
      "source": [
        "#### Seed 0"
      ]
    },
    {
      "cell_type": "code",
      "metadata": {
        "colab_type": "code",
        "id": "-lYfbqoCdmBT",
        "outputId": "d17064e3-2506-4f30-aed0-4dd7fcd62b2d",
        "colab": {
          "base_uri": "https://localhost:8080/",
          "height": 34
        }
      },
      "source": [
        "seed=\"0\"\n",
        "M=\"100\"\n",
        "d = 16\n",
        "k = 1\n",
        "strides = [1, 1, 2, 2]\n",
        "net = WideResNet(d=d, k=k, n_classes=10, input_features=3, output_features=16, strides=strides).to(device)\n",
        "net.load_state_dict(torch.load('./Checkpoint_Extra_M_samples_Reproducibility_Zero_Shot_Teacher-WideResNet-40-2-Student-WideResNet-16-1-CIFAR10-M-'+M+'-Zero-Shot-seed-'+seed+'.pth', map_location=device))\n",
        "accuracy = _test_set_eval(net, device, cifar_testloader)\n",
        "accuracy  "
      ],
      "execution_count": 32,
      "outputs": [
        {
          "output_type": "execute_result",
          "data": {
            "text/plain": [
              "85.27"
            ]
          },
          "metadata": {
            "tags": []
          },
          "execution_count": 32
        }
      ]
    },
    {
      "cell_type": "markdown",
      "metadata": {
        "colab_type": "text",
        "id": "EradVwsEdmBg"
      },
      "source": [
        "#### Seed 1"
      ]
    },
    {
      "cell_type": "code",
      "metadata": {
        "colab_type": "code",
        "outputId": "6b35945a-6082-49e5-ad2d-b71a6c37d9c4",
        "id": "bGX0M2tMdmBm",
        "colab": {
          "base_uri": "https://localhost:8080/",
          "height": 34
        }
      },
      "source": [
        "seed=\"1\"\n",
        "M=\"100\"\n",
        "d = 16\n",
        "k = 1\n",
        "strides = [1, 1, 2, 2]\n",
        "net = WideResNet(d=d, k=k, n_classes=10, input_features=3, output_features=16, strides=strides).to(device)\n",
        "net.load_state_dict(torch.load('./Checkpoint_Extra_M_samples_Reproducibility_Zero_Shot_Teacher-WideResNet-40-2-Student-WideResNet-16-1-CIFAR10-M-'+M+'-Zero-Shot-seed-'+seed+'.pth', map_location=device))\n",
        "accuracy = _test_set_eval(net, device, cifar_testloader)\n",
        "accuracy  "
      ],
      "execution_count": 33,
      "outputs": [
        {
          "output_type": "execute_result",
          "data": {
            "text/plain": [
              "84.73"
            ]
          },
          "metadata": {
            "tags": []
          },
          "execution_count": 33
        }
      ]
    },
    {
      "cell_type": "markdown",
      "metadata": {
        "colab_type": "text",
        "id": "Wj4f4I-odmBv"
      },
      "source": [
        "#### Seed 2"
      ]
    },
    {
      "cell_type": "code",
      "metadata": {
        "colab_type": "code",
        "outputId": "4f7da86d-3d48-4fef-bb7d-8fd08358813f",
        "id": "4hKaGusudmBy",
        "colab": {
          "base_uri": "https://localhost:8080/",
          "height": 34
        }
      },
      "source": [
        "seed=\"2\"\n",
        "M=\"100\"\n",
        "d = 16\n",
        "k = 1\n",
        "strides = [1, 1, 2, 2]\n",
        "net = WideResNet(d=d, k=k, n_classes=10, input_features=3, output_features=16, strides=strides).to(device)\n",
        "net.load_state_dict(torch.load('./Checkpoint_Extra_M_samples_Reproducibility_Zero_Shot_Teacher-WideResNet-40-2-Student-WideResNet-16-1-CIFAR10-M-'+M+'-Zero-Shot-seed-'+seed+'.pth', map_location=device))\n",
        "accuracy = _test_set_eval(net, device, cifar_testloader)\n",
        "accuracy  "
      ],
      "execution_count": 34,
      "outputs": [
        {
          "output_type": "execute_result",
          "data": {
            "text/plain": [
              "85.35"
            ]
          },
          "metadata": {
            "tags": []
          },
          "execution_count": 34
        }
      ]
    }
  ]
}