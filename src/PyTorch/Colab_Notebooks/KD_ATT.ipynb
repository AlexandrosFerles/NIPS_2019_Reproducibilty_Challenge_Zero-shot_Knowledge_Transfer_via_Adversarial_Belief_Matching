{
  "nbformat": 4,
  "nbformat_minor": 0,
  "metadata": {
    "colab": {
      "name": "KD_ATT.ipynb",
      "provenance": [],
      "collapsed_sections": [],
      "toc_visible": true
    },
    "kernelspec": {
      "name": "python3",
      "display_name": "Python 3"
    },
    "accelerator": "GPU"
  },
  "cells": [
    {
      "cell_type": "markdown",
      "metadata": {
        "id": "VZrjOZodoSNw",
        "colab_type": "text"
      },
      "source": [
        "#### Get Scratches from Google Drive"
      ]
    },
    {
      "cell_type": "code",
      "metadata": {
        "id": "dHdhy4B4pdn8",
        "colab_type": "code",
        "collapsed": true,
        "outputId": "64fb82a9-be77-4170-e032-2cf3c7044458",
        "colab": {
          "base_uri": "https://localhost:8080/",
          "height": 1000
        }
      },
      "source": [
        "!wget -O KD_ATT --no-check-certificate https://www.dropbox.com/sh/qhrb5l4btiqdwit/AAC8cyHArPTkiP_Fn9sADGCia\n",
        "!unzip KD_ATT\n",
        "!rm KD_ATT"
      ],
      "execution_count": 1,
      "outputs": [
        {
          "output_type": "stream",
          "text": [
            "--2019-11-06 19:04:56--  https://www.dropbox.com/sh/qhrb5l4btiqdwit/AAC8cyHArPTkiP_Fn9sADGCia\n",
            "Resolving www.dropbox.com (www.dropbox.com)... 162.125.8.1, 2620:100:601b:1::a27d:801\n",
            "Connecting to www.dropbox.com (www.dropbox.com)|162.125.8.1|:443... connected.\n",
            "HTTP request sent, awaiting response... 301 Moved Permanently\n",
            "Location: /sh/raw/qhrb5l4btiqdwit/AAC8cyHArPTkiP_Fn9sADGCia [following]\n",
            "--2019-11-06 19:04:56--  https://www.dropbox.com/sh/raw/qhrb5l4btiqdwit/AAC8cyHArPTkiP_Fn9sADGCia\n",
            "Reusing existing connection to www.dropbox.com:443.\n",
            "HTTP request sent, awaiting response... 302 Found\n",
            "Location: https://uc4878ce657fc7d7df0519721506.dl.dropboxusercontent.com/zip_by_token_key?key=Ar0SKOCnN6hJy1RF-_AsW7FBcM5koiDEc4IIv4jKxOsmaUh39XIu0fGfUfj6MIJ2a6_yfQbkVFlPdiL5DW3bIoEFFLLvtrIq79MD-ZzAmusiLLpD3wN1wi3JXjKILVWLOrlwoAxHa5g0Xo1jDXzJWEthPfKYp4vpyyfsvGH9_uMxi0LJdn6hJ5S-PF8cVteRj2SgoDMF1oAxinHrnUFf_x01 [following]\n",
            "--2019-11-06 19:04:56--  https://uc4878ce657fc7d7df0519721506.dl.dropboxusercontent.com/zip_by_token_key?key=Ar0SKOCnN6hJy1RF-_AsW7FBcM5koiDEc4IIv4jKxOsmaUh39XIu0fGfUfj6MIJ2a6_yfQbkVFlPdiL5DW3bIoEFFLLvtrIq79MD-ZzAmusiLLpD3wN1wi3JXjKILVWLOrlwoAxHa5g0Xo1jDXzJWEthPfKYp4vpyyfsvGH9_uMxi0LJdn6hJ5S-PF8cVteRj2SgoDMF1oAxinHrnUFf_x01\n",
            "Resolving uc4878ce657fc7d7df0519721506.dl.dropboxusercontent.com (uc4878ce657fc7d7df0519721506.dl.dropboxusercontent.com)... 162.125.1.6, 2620:100:601b:6::a27d:806\n",
            "Connecting to uc4878ce657fc7d7df0519721506.dl.dropboxusercontent.com (uc4878ce657fc7d7df0519721506.dl.dropboxusercontent.com)|162.125.1.6|:443... connected.\n",
            "HTTP request sent, awaiting response... 200 OK\n",
            "Length: unspecified [application/zip]\n",
            "Saving to: ‘KD_ATT’\n",
            "\n",
            "KD_ATT                  [          <=>       ]  61.49M  10.1MB/s    in 7.0s    \n",
            "\n",
            "2019-11-06 19:05:04 (8.83 MB/s) - ‘KD_ATT’ saved [64477817]\n",
            "\n",
            "Archive:  KD_ATT\n",
            "warning:  stripped absolute path spec from /\n",
            "mapname:  conversion of  failed\n",
            "   creating: SVHN/\n",
            "   creating: CIFAR10/\n",
            "   creating: SVHN/WRN-40-2-WRN-16-1/\n",
            "   creating: CIFAR10/WRN-40-2-WRN-16-1/\n",
            "   creating: SVHN/WRN-40-2-WRN-16-1/M-50/\n",
            "   creating: SVHN/WRN-40-2-WRN-16-1/M-75/\n",
            "   creating: SVHN/WRN-40-2-WRN-16-1/M-10/\n",
            "   creating: SVHN/WRN-40-2-WRN-16-1/M-25/\n",
            "   creating: SVHN/WRN-40-2-WRN-16-1/M-100/\n",
            "   creating: SVHN/WRN-40-2-WRN-16-1/M-5000/\n",
            "   creating: CIFAR10/WRN-40-1-WRN-16-2-M200/\n",
            "   creating: CIFAR10/WRN-40-2-WRN-16-1/M-75/\n",
            "   creating: CIFAR10/WRN-40-2-WRN-16-1/M-10/\n",
            "   creating: CIFAR10/WRN-40-2-WRN-16-2-M200/\n",
            "   creating: CIFAR10/WRN-16-2-WRN-16-1-M200/\n",
            "   creating: CIFAR10/WRN-40-2-WRN-40-1-M200/\n",
            "   creating: CIFAR10/WRN-40-1-WRN-16-1-M200/\n",
            "   creating: CIFAR10/WRN-40-2-WRN-16-1/M-50/\n",
            "   creating: CIFAR10/WRN-40-2-WRN-16-1/M-25/\n",
            "   creating: CIFAR10/WRN-40-2-WRN-16-1/M-200/\n",
            "   creating: CIFAR10/WRN-40-2-WRN-16-1/M-100/\n",
            "   creating: CIFAR10/WRN-40-2-WRN-16-1/M-5000/\n",
            "   creating: SVHN/WRN-40-2-WRN-16-1/M-10/Seed-1/\n",
            "   creating: SVHN/WRN-40-2-WRN-16-1/M-10/Seed-0/\n",
            "   creating: SVHN/WRN-40-2-WRN-16-1/M-10/Seed-2/\n",
            "   creating: SVHN/WRN-40-2-WRN-16-1/M-75/Seed-0/\n",
            "   creating: SVHN/WRN-40-2-WRN-16-1/M-75/Seed-1/\n",
            "   creating: SVHN/WRN-40-2-WRN-16-1/M-75/Seed-2/\n",
            "   creating: SVHN/WRN-40-2-WRN-16-1/M-50/Seed-1/\n",
            "   creating: SVHN/WRN-40-2-WRN-16-1/M-50/Seed-0/\n",
            "   creating: SVHN/WRN-40-2-WRN-16-1/M-50/Seed-2/\n",
            "   creating: SVHN/WRN-40-2-WRN-16-1/M-25/Seed-1/\n",
            "   creating: SVHN/WRN-40-2-WRN-16-1/M-25/Seed-0/\n",
            "   creating: SVHN/WRN-40-2-WRN-16-1/M-25/Seed-2/\n",
            "   creating: SVHN/WRN-40-2-WRN-16-1/M-100/Seed-0/\n",
            "   creating: SVHN/WRN-40-2-WRN-16-1/M-100/Seed-1/\n",
            "   creating: SVHN/WRN-40-2-WRN-16-1/M-100/Seed-2/\n",
            "   creating: SVHN/WRN-40-2-WRN-16-1/M-5000/Seed-2/\n",
            "   creating: SVHN/WRN-40-2-WRN-16-1/M-5000/Seed-1/\n",
            "   creating: SVHN/WRN-40-2-WRN-16-1/M-5000/Seed-0/\n",
            "   creating: CIFAR10/WRN-40-1-WRN-16-1-M200/Seed-2/\n",
            "   creating: CIFAR10/WRN-40-1-WRN-16-1-M200/Seed-0/\n",
            "   creating: CIFAR10/WRN-40-1-WRN-16-1-M200/Seed-1/\n",
            "   creating: CIFAR10/WRN-40-2-WRN-16-1/M-75/Seed-0/\n",
            "   creating: CIFAR10/WRN-40-2-WRN-16-1/M-75/Seed-1/\n",
            "   creating: CIFAR10/WRN-40-2-WRN-16-1/M-75/Seed-2/\n",
            "   creating: CIFAR10/WRN-40-1-WRN-16-2-M200/Seed-1/\n",
            "   creating: CIFAR10/WRN-40-1-WRN-16-2-M200/Seed-0/\n",
            "   creating: CIFAR10/WRN-40-1-WRN-16-2-M200/Seed-2/\n",
            "   creating: CIFAR10/WRN-40-2-WRN-16-2-M200/Seed-0/\n",
            "   creating: CIFAR10/WRN-40-2-WRN-16-2-M200/Seed-1/\n",
            "   creating: CIFAR10/WRN-40-2-WRN-16-2-M200/Seed-2/\n",
            "   creating: CIFAR10/WRN-40-2-WRN-16-1/M-50/Seed-1/\n",
            "   creating: CIFAR10/WRN-40-2-WRN-16-1/M-50/Seed-0/\n",
            "   creating: CIFAR10/WRN-40-2-WRN-16-1/M-50/Seed-2/\n",
            "   creating: CIFAR10/WRN-40-2-WRN-40-1-M200/Seed-2/\n",
            "   creating: CIFAR10/WRN-40-2-WRN-40-1-M200/Seed-0/\n",
            "   creating: CIFAR10/WRN-40-2-WRN-40-1-M200/Seed-1/\n",
            "   creating: CIFAR10/WRN-40-2-WRN-16-1/M-10/Seed-1/\n",
            "   creating: CIFAR10/WRN-40-2-WRN-16-1/M-10/Seed-0/\n",
            "   creating: CIFAR10/WRN-40-2-WRN-16-1/M-10/Seed-2/\n",
            "   creating: CIFAR10/WRN-16-2-WRN-16-1-M200/Seed-0/\n",
            "   creating: CIFAR10/WRN-16-2-WRN-16-1-M200/Seed-1/\n",
            "   creating: CIFAR10/WRN-16-2-WRN-16-1-M200/Seed-2/\n",
            "   creating: CIFAR10/WRN-40-2-WRN-16-1/M-25/Seed-1/\n",
            "   creating: CIFAR10/WRN-40-2-WRN-16-1/M-25/Seed-0/\n",
            "   creating: CIFAR10/WRN-40-2-WRN-16-1/M-25/Seed-2/\n",
            "   creating: CIFAR10/WRN-40-2-WRN-16-1/M-100/Seed-0/\n",
            "   creating: CIFAR10/WRN-40-2-WRN-16-1/M-100/Seed-1/\n",
            "   creating: CIFAR10/WRN-40-2-WRN-16-1/M-100/Seed-2/\n",
            "   creating: CIFAR10/WRN-40-2-WRN-16-1/M-200/Seed-1/\n",
            "   creating: CIFAR10/WRN-40-2-WRN-16-1/M-200/Seed-0/\n",
            "   creating: CIFAR10/WRN-40-2-WRN-16-1/M-200/Seed-2/\n",
            "   creating: CIFAR10/WRN-40-2-WRN-16-1/M-5000/Seed-2/\n",
            "   creating: CIFAR10/WRN-40-2-WRN-16-1/M-5000/Seed-1/\n",
            "   creating: CIFAR10/WRN-40-2-WRN-16-1/M-5000/Seed-0/\n",
            " extracting: SVHN/WRN-40-2-WRN-16-1/M-75/Seed-0/kd_att_teacher_wrn-40-2_student_wrn-16-1-M-75-seed-0-SVHN-dict.pth  \n",
            " extracting: SVHN/WRN-40-2-WRN-16-1/M-25/Seed-0/kd_att_teacher_wrn-40-2_student_wrn-16-1-M-25-seed-0-SVHN-dict.pth  \n",
            " extracting: SVHN/WRN-40-2-WRN-16-1/M-50/Seed-1/kd_att_teacher_wrn-40-2_student_wrn-16-1-M-50-seed-1-SVHN-dict.pth  \n",
            " extracting: SVHN/WRN-40-2-WRN-16-1/M-10/Seed-0/kd_att_teacher_wrn-40-2_student_wrn-16-1-M-10-seed-0-SVHN-dict.pth  \n",
            " extracting: CIFAR10/WRN-40-2-WRN-16-2-M200/kd_att_teacher_wrn-40-2_student_wrn-16-2-M-200-seed-0-CIFAR10-dict.pth  \n",
            " extracting: SVHN/WRN-40-2-WRN-16-1/M-50/Seed-0/kd_att_teacher_wrn-40-2_student_wrn-16-1-M-50-seed-0-SVHN-dict.pth  \n",
            " extracting: SVHN/WRN-40-2-WRN-16-1/M-10/Seed-2/kd_att_teacher_wrn-40-2_student_wrn-16-1-M-10-seed-2-SVHN-dict.pth  \n",
            " extracting: CIFAR10/WRN-40-2-WRN-16-2-M200/kd_att_teacher_wrn-40-2_student_wrn-16-2-M-200-seed-2-CIFAR10-dict.pth  \n",
            " extracting: SVHN/WRN-40-2-WRN-16-1/M-25/Seed-2/kd_att_teacher_wrn-40-2_student_wrn-16-1-M-25-seed-2-SVHN-dict.pth  \n",
            " extracting: CIFAR10/WRN-40-2-WRN-16-2-M200/kd_att_teacher_wrn-40-2_student_wrn-16-2-M-200-seed-1-CIFAR10-dict.pth  \n",
            " extracting: SVHN/WRN-40-2-WRN-16-1/M-75/Seed-1/kd_att_teacher_wrn-40-2_student_wrn-16-1-M-75-seed-1-SVHN-dict.pth  \n",
            " extracting: SVHN/WRN-40-2-WRN-16-1/M-10/Seed-1/kd_att_teacher_wrn-40-2_student_wrn-16-1-M-10-seed-1-SVHN-dict.pth  \n",
            " extracting: SVHN/WRN-40-2-WRN-16-1/M-50/Seed-2/kd_att_teacher_wrn-40-2_student_wrn-16-1-M-50-seed-2-SVHN-dict.pth  \n",
            " extracting: SVHN/WRN-40-2-WRN-16-1/M-25/Seed-1/kd_att_teacher_wrn-40-2_student_wrn-16-1-M-25-seed-1-SVHN-dict.pth  \n",
            " extracting: SVHN/WRN-40-2-WRN-16-1/M-75/Seed-2/kd_att_teacher_wrn-40-2_student_wrn-16-1-M-75-seed-2-SVHN-dict.pth  \n",
            " extracting: SVHN/WRN-40-2-WRN-16-1/M-100/Seed-2/kd_att_teacher_wrn-40-2_student_wrn-16-1-M-100-seed-2-SVHN-dict.pth  \n",
            " extracting: SVHN/WRN-40-2-WRN-16-1/M-100/Seed-1/kd_att_teacher_wrn-40-2_student_wrn-16-1-M-100-seed-1-SVHN-dict.pth  \n",
            " extracting: SVHN/WRN-40-2-WRN-16-1/M-100/Seed-0/kd_att_teacher_wrn-40-2_student_wrn-16-1-M-100-seed-0-SVHN-dict.pth  \n",
            " extracting: SVHN/WRN-40-2-WRN-16-1/M-5000/Seed-0/kd_att_teacher_wrn-40-2_student_wrn-16-1-M-5000-seed-0-SVHN-dict.pth  \n",
            " extracting: SVHN/WRN-40-2-WRN-16-1/M-5000/Seed-2/kd_att_teacher_wrn-40-2_student_wrn-16-1-M-5000-seed-2-SVHN-dict.pth  \n",
            " extracting: SVHN/WRN-40-2-WRN-16-1/M-5000/Seed-1/kd_att_teacher_wrn-40-2_student_wrn-16-1-M-5000-seed-1-SVHN-dict.pth  \n",
            " extracting: CIFAR10/WRN-40-2-WRN-16-1/M-25/Seed-0/kd_att_teacher_wrn-40-2_student_wrn-16-1-M-25-seed-0-CIFAR10-dict.pth  \n",
            " extracting: CIFAR10/WRN-40-2-WRN-16-1/M-10/Seed-0/kd_att_teacher_wrn-40-2_student_wrn-16-1-M-10-seed-0-CIFAR10-dict.pth  \n",
            " extracting: CIFAR10/WRN-40-2-WRN-16-1/M-25/Seed-2/kd_att_teacher_wrn-40-2_student_wrn-16-1-M-25-seed-2-CIFAR10-dict.pth  \n",
            " extracting: CIFAR10/WRN-40-2-WRN-16-1/M-75/Seed-0/kd_att_teacher_wrn-40-2_student_wrn-16-1-M-75-seed-0-CIFAR10-dict.pth  \n",
            " extracting: CIFAR10/WRN-40-2-WRN-16-1/M-25/Seed-1/kd_att_teacher_wrn-40-2_student_wrn-16-1-M-25-seed-1-CIFAR10-dict.pth  \n",
            " extracting: CIFAR10/WRN-40-2-WRN-16-1/M-75/Seed-1/kd_att_teacher_wrn-40-2_student_wrn-16-1-M-75-seed-1-CIFAR10-dict.pth  \n",
            " extracting: CIFAR10/WRN-40-2-WRN-16-1/M-50/Seed-2/kd_att_teacher_wrn-40-2_student_wrn-16-1-M-50-seed-2-CIFAR10-dict.pth  \n",
            " extracting: CIFAR10/WRN-40-2-WRN-16-1/M-50/Seed-0/kd_att_teacher_wrn-40-2_student_wrn-16-1-M-50-seed-0-CIFAR10-dict.pth  \n",
            " extracting: CIFAR10/WRN-40-2-WRN-16-1/M-10/Seed-2/kd_att_teacher_wrn-40-2_student_wrn-16-1-M-10-seed-2-CIFAR10-dict.pth  \n",
            " extracting: CIFAR10/WRN-40-2-WRN-16-1/M-10/Seed-1/kd_att_teacher_wrn-40-2_student_wrn-16-1-M-10-seed-1-CIFAR10-dict.pth  \n",
            " extracting: CIFAR10/WRN-40-2-WRN-16-1/M-50/Seed-1/kd_att_teacher_wrn-40-2_student_wrn-16-1-M-50-seed-1-CIFAR10-dict.pth  \n",
            " extracting: CIFAR10/WRN-40-2-WRN-16-1/M-75/Seed-2/kd_att_teacher_wrn-40-2_student_wrn-16-1-M-75-seed-2-CIFAR10-dict.pth  \n",
            " extracting: CIFAR10/WRN-16-2-WRN-16-1-M200/Seed-2/kd_att_teacher_wrn-16-2_student_wrn-16-1-M-200-seed-2-CIFAR10-dict.pth  \n",
            " extracting: CIFAR10/WRN-40-2-WRN-16-2-M200/Seed-1/kd_att_teacher_wrn-40-2_student_wrn-16-2-M-200-seed-1-CIFAR10-dict.pth  \n",
            " extracting: CIFAR10/WRN-16-2-WRN-16-1-M200/Seed-0/kd_att_teacher_wrn-16-2_student_wrn-16-1-M-200-seed-0-CIFAR10-dict.pth  \n",
            " extracting: CIFAR10/WRN-40-2-WRN-40-1-M200/Seed-2/kd_att_teacher_wrn-40-2_student_wrn-40-1-M-200-seed-2-CIFAR10-dict.pth  \n",
            " extracting: CIFAR10/WRN-40-1-WRN-16-1-M200/Seed-1/kd_att_teacher_wrn-40-1_student_wrn-16-1-M-200-seed-1-CIFAR10-dict.pth  \n",
            " extracting: CIFAR10/WRN-40-2-WRN-40-1-M200/Seed-0/kd_att_teacher_wrn-40-2_student_wrn-40-1-M-200-seed-0-CIFAR10-dict.pth  \n",
            " extracting: CIFAR10/WRN-40-1-WRN-16-2-M200/Seed-1/kd_att_teacher_wrn-40-1_student_wrn-16-2-M-200-seed-1-CIFAR10-dict.pth  \n",
            " extracting: CIFAR10/WRN-40-2-WRN-16-2-M200/Seed-2/kd_att_teacher_wrn-40-2_student_wrn-16-2-M-200-seed-2-CIFAR10-dict.pth  \n",
            " extracting: CIFAR10/WRN-16-2-WRN-16-1-M200/Seed-1/kd_att_teacher_wrn-16-2_student_wrn-16-1-M-200-seed-1-CIFAR10-dict.pth  \n",
            " extracting: CIFAR10/WRN-40-2-WRN-16-2-M200/Seed-0/kd_att_teacher_wrn-40-2_student_wrn-16-2-M-200-seed-0-CIFAR10-dict.pth  \n",
            " extracting: CIFAR10/WRN-40-1-WRN-16-1-M200/Seed-2/kd_att_teacher_wrn-40-1_student_wrn-16-1-M-200-seed-2-CIFAR10-dict.pth  \n",
            " extracting: CIFAR10/WRN-40-1-WRN-16-2-M200/Seed-2/kd_att_teacher_wrn-40-1_student_wrn-16-2-M-200-seed-2-CIFAR10-dict.pth  \n",
            " extracting: CIFAR10/WRN-40-1-WRN-16-1-M200/Seed-0/kd_att_teacher_wrn-40-1_student_wrn-16-1-M-200-seed-0-CIFAR10-dict.pth  \n",
            " extracting: CIFAR10/WRN-40-2-WRN-40-1-M200/Seed-1/kd_att_teacher_wrn-40-2_student_wrn-40-1-M-200-seed-1-CIFAR10-dict.pth  \n",
            " extracting: CIFAR10/WRN-40-1-WRN-16-2-M200/Seed-0/kd_att_teacher_wrn-40-1_student_wrn-16-2-M-200-seed-0-CIFAR10-dict.pth  \n",
            " extracting: CIFAR10/WRN-40-2-WRN-16-1/M-100/Seed-2/kd_att_teacher_wrn-40-2_student_wrn-16-1-M-100-seed-2-CIFAR10-dict.pth  \n",
            " extracting: CIFAR10/WRN-40-2-WRN-16-1/M-200/Seed-2/kd_att_teacher_wrn-40-2_student_wrn-16-1-M-200-seed-2-CIFAR10-dict.pth  \n",
            " extracting: CIFAR10/WRN-40-2-WRN-16-1/M-200/Seed-1/kd_att_teacher_wrn-40-2_student_wrn-16-1-M-200-seed-1-CIFAR10-dict.pth  \n",
            " extracting: CIFAR10/WRN-40-2-WRN-16-1/M-100/Seed-0/kd_att_teacher_wrn-40-2_student_wrn-16-1-M-100-seed-0-CIFAR10-dict.pth  \n",
            " extracting: CIFAR10/WRN-40-2-WRN-16-1/M-200/Seed-0/kd_att_teacher_wrn-40-2_student_wrn-16-1-M-200-seed-0-CIFAR10-dict.pth  \n",
            " extracting: CIFAR10/WRN-40-2-WRN-16-1/M-100/Seed-1/kd_att_teacher_wrn-40-2_student_wrn-16-1-M-100-seed-1-CIFAR10-dict.pth  \n",
            " extracting: CIFAR10/WRN-40-2-WRN-16-1/M-5000/Seed-0/kd_att_teacher_wrn-40-2_student_wrn-16-1-M-5000-seed-0-CIFAR10-dict.pth  \n",
            " extracting: CIFAR10/WRN-40-2-WRN-16-1/M-5000/Seed-2/kd_att_teacher_wrn-40-2_student_wrn-16-1-M-5000-seed-2-CIFAR10-dict.pth  \n",
            " extracting: CIFAR10/WRN-40-2-WRN-16-1/M-5000/Seed-1/kd_att_teacher_wrn-40-2_student_wrn-16-1-M-5000-seed-1-CIFAR10-dict.pth  \n"
          ],
          "name": "stdout"
        }
      ]
    },
    {
      "cell_type": "code",
      "metadata": {
        "id": "fyzdJlvY1f0b",
        "colab_type": "code",
        "colab": {}
      },
      "source": [
        "import torch\n",
        "import torchvision\n",
        "from torch import nn as nn\n",
        "from torchvision import transforms\n",
        "device = torch.device('cuda:0')"
      ],
      "execution_count": 0,
      "outputs": []
    },
    {
      "cell_type": "code",
      "metadata": {
        "id": "04rUOR8D2J8K",
        "colab_type": "code",
        "colab": {}
      },
      "source": [
        "class IndividualBlock1(nn.Module):\n",
        "\n",
        "    def __init__(self, input_features, output_features, stride, subsample_input=True, increase_filters=True):\n",
        "        super(IndividualBlock1, self).__init__()\n",
        "\n",
        "        self.activation = nn.ReLU(inplace=True)\n",
        "\n",
        "        self.batch_norm1 = nn.BatchNorm2d(input_features)\n",
        "        self.batch_norm2 = nn.BatchNorm2d(output_features)\n",
        "\n",
        "        self.conv1 = nn.Conv2d(input_features, output_features, kernel_size=3, stride=stride, padding=1, bias=False)\n",
        "        self.conv2 = nn.Conv2d(output_features, output_features, kernel_size=3, stride=1, padding=1, bias=False)\n",
        "\n",
        "        self.subsample_input = subsample_input\n",
        "        self.increase_filters = increase_filters\n",
        "        if subsample_input:\n",
        "            self.conv_inp = nn.Conv2d(input_features, output_features, kernel_size=1, stride=2, padding=0, bias=False)\n",
        "        elif increase_filters:\n",
        "            self.conv_inp = nn.Conv2d(input_features, output_features, kernel_size=1, stride=1, padding=0, bias=False)\n",
        "\n",
        "    def forward(self, x):\n",
        "\n",
        "        if self.subsample_input or self.increase_filters:\n",
        "            x = self.batch_norm1(x)\n",
        "            x = self.activation(x)\n",
        "            x1 = self.conv1(x)\n",
        "        else:\n",
        "            x1 = self.batch_norm1(x)\n",
        "            x1 = self.activation(x1)\n",
        "            x1 = self.conv1(x1)\n",
        "        x1 = self.batch_norm2(x1)\n",
        "        x1 = self.activation(x1)\n",
        "        x1 = self.conv2(x1)\n",
        "\n",
        "        if self.subsample_input or self.increase_filters:\n",
        "            return self.conv_inp(x) + x1\n",
        "        else:\n",
        "            return x + x1\n",
        "\n",
        "\n",
        "class IndividualBlockN(nn.Module):\n",
        "\n",
        "    def __init__(self, input_features, output_features, stride):\n",
        "        super(IndividualBlockN, self).__init__()\n",
        "\n",
        "        self.activation = nn.ReLU(inplace=True)\n",
        "\n",
        "        self.batch_norm1 = nn.BatchNorm2d(input_features)\n",
        "        self.batch_norm2 = nn.BatchNorm2d(output_features)\n",
        "\n",
        "        self.conv1 = nn.Conv2d(input_features, output_features, kernel_size=3, stride=stride, padding=1, bias=False)\n",
        "        self.conv2 = nn.Conv2d(output_features, output_features, kernel_size=3, stride=stride, padding=1, bias=False)\n",
        "\n",
        "    def forward(self, x):\n",
        "        x1 = self.batch_norm1(x)\n",
        "        x1 = self.activation(x1)\n",
        "        x1 = self.conv1(x1)\n",
        "        x1 = self.batch_norm2(x1)\n",
        "        x1 = self.activation(x1)\n",
        "        x1 = self.conv2(x1)\n",
        "\n",
        "        return x1 + x\n",
        "\n",
        "\n",
        "class Nblock(nn.Module):\n",
        "\n",
        "    def __init__(self, N, input_features, output_features, stride, subsample_input=True, increase_filters=True):\n",
        "        super(Nblock, self).__init__()\n",
        "\n",
        "        layers = []\n",
        "        for i in range(N):\n",
        "            if i == 0:\n",
        "                layers.append(IndividualBlock1(input_features, output_features, stride, subsample_input, increase_filters))\n",
        "            else:\n",
        "                layers.append(IndividualBlockN(output_features, output_features, stride=1))\n",
        "\n",
        "        self.nblockLayer = nn.Sequential(*layers)\n",
        "\n",
        "    def forward(self, x):\n",
        "        return self.nblockLayer(x)\n",
        "\n",
        "\n",
        "class WideResNet(nn.Module):\n",
        "\n",
        "    def __init__(self, d, k, n_classes, input_features, output_features, strides):\n",
        "        super(WideResNet, self).__init__()\n",
        "\n",
        "        self.conv1 = nn.Conv2d(input_features, output_features, kernel_size=3, stride=strides[0], padding=1, bias=False)\n",
        "\n",
        "        filters = [16 * k, 32 * k, 64 * k]\n",
        "        self.out_filters = filters[-1]\n",
        "        N = (d - 4) // 6\n",
        "        increase_filters = k > 1\n",
        "        self.block1 = Nblock(N, input_features=output_features, output_features=filters[0], stride=strides[1], subsample_input=False, increase_filters=increase_filters)\n",
        "        self.block2 = Nblock(N, input_features=filters[0], output_features=filters[1], stride=strides[2])\n",
        "        self.block3 = Nblock(N, input_features=filters[1], output_features=filters[2], stride=strides[3])\n",
        "\n",
        "        self.batch_norm = nn.BatchNorm2d(filters[-1])\n",
        "        self.activation = nn.ReLU(inplace=True)\n",
        "        self.avg_pool = nn.AvgPool2d(kernel_size=8)\n",
        "        self.fc = nn.Linear(filters[-1], n_classes)\n",
        "\n",
        "    def forward(self, x):\n",
        "\n",
        "        x = self.conv1(x)\n",
        "        attention1 = self.block1(x)\n",
        "        attention2 = self.block2(attention1)\n",
        "        attention3 = self.block3(attention2)\n",
        "        out = self.batch_norm(attention3)\n",
        "        out = self.activation(out)\n",
        "        out = self.avg_pool(out)\n",
        "        out = out.view(-1, self.out_filters)\n",
        "\n",
        "        return self.fc(out), attention1, attention2, attention3"
      ],
      "execution_count": 0,
      "outputs": []
    },
    {
      "cell_type": "code",
      "metadata": {
        "id": "uy3VXdQX2y_X",
        "colab_type": "code",
        "colab": {}
      },
      "source": [
        "def _test_set_eval(net, device, test_loader):\n",
        "    with torch.no_grad():\n",
        "        correct, total = 0, 0\n",
        "        net.eval()\n",
        "\n",
        "        for data in test_loader:\n",
        "            images, labels = data\n",
        "            images = images.to(device)\n",
        "            labels = labels.to(device)\n",
        "\n",
        "            outputs = net(images)[0]\n",
        "            _, predicted = torch.max(outputs.data, 1)\n",
        "            total += labels.size(0)\n",
        "            correct += (predicted == labels).sum().item()\n",
        "\n",
        "        accuracy = correct / total\n",
        "        accuracy = round(100 * accuracy, 2)\n",
        "\n",
        "        return accuracy"
      ],
      "execution_count": 0,
      "outputs": []
    },
    {
      "cell_type": "markdown",
      "metadata": {
        "id": "AMjBJnv8zrX5",
        "colab_type": "text"
      },
      "source": [
        "# SVHN"
      ]
    },
    {
      "cell_type": "code",
      "metadata": {
        "id": "n91SCkbQ1tZw",
        "colab_type": "code",
        "outputId": "44a71912-b47e-40dc-e122-af2df8932c7f",
        "colab": {
          "base_uri": "https://localhost:8080/",
          "height": 71
        }
      },
      "source": [
        "svhn_normalize = transforms.Normalize((0.4377, 0.4438, 0.4728), (0.1980, 0.2010, 0.1970))\n",
        "\n",
        "svhn_transform = transforms.Compose([\n",
        "    transforms.ToTensor(),\n",
        "    svhn_normalize,\n",
        "])\n",
        "\n",
        "svhn_test_set = torchvision.datasets.SVHN(root='./data', split='test', download=True, transform=svhn_transform)\n",
        "svhn_test_loader = testloader = torch.utils.data.DataLoader(svhn_test_set, batch_size=100, shuffle=False, num_workers=0)"
      ],
      "execution_count": 5,
      "outputs": [
        {
          "output_type": "stream",
          "text": [
            "  0%|          | 16384/64275384 [00:00<06:54, 154942.15it/s]"
          ],
          "name": "stderr"
        },
        {
          "output_type": "stream",
          "text": [
            "Downloading http://ufldl.stanford.edu/housenumbers/test_32x32.mat to ./data/test_32x32.mat\n"
          ],
          "name": "stdout"
        },
        {
          "output_type": "stream",
          "text": [
            "64282624it [00:01, 55862559.52it/s]                             \n"
          ],
          "name": "stderr"
        }
      ]
    },
    {
      "cell_type": "markdown",
      "metadata": {
        "id": "wxHiXxW7w5Iw",
        "colab_type": "text"
      },
      "source": [
        "#### KD-ATT - Teacher WRN-40-2 Student WRN-16-1 for different values of M"
      ]
    },
    {
      "cell_type": "markdown",
      "metadata": {
        "id": "lEkRAWjNzzz7",
        "colab_type": "text"
      },
      "source": [
        "#### KD-ATT for M=10 samples"
      ]
    },
    {
      "cell_type": "markdown",
      "metadata": {
        "id": "TiiU4WbG0Ku6",
        "colab_type": "text"
      },
      "source": [
        "#### Seed 0"
      ]
    },
    {
      "cell_type": "code",
      "metadata": {
        "id": "OUqmQHvj3U6F",
        "colab_type": "code",
        "outputId": "94e7a996-7723-4f12-bd07-8963d4692f9c",
        "colab": {
          "base_uri": "https://localhost:8080/",
          "height": 34
        }
      },
      "source": [
        "seed=\"0\"\n",
        "M=\"10\"\n",
        "d = 16\n",
        "k = 1\n",
        "strides = [1, 1, 2, 2]\n",
        "net = WideResNet(d=d, k=k, n_classes=10, input_features=3, output_features=16, strides=strides).to(device)\n",
        "net.load_state_dict(torch.load('./SVHN/WRN-40-2-WRN-16-1/M-'+M+'/Seed-'+seed+'/kd_att_teacher_wrn-40-2_student_wrn-16-1-M-'+M+'-seed-'+seed+'-SVHN-dict.pth'))\n",
        "accuracy = _test_set_eval(net, device, svhn_test_loader)\n",
        "accuracy  "
      ],
      "execution_count": 6,
      "outputs": [
        {
          "output_type": "execute_result",
          "data": {
            "text/plain": [
              "37.35"
            ]
          },
          "metadata": {
            "tags": []
          },
          "execution_count": 6
        }
      ]
    },
    {
      "cell_type": "markdown",
      "metadata": {
        "id": "DyfhQ87B0UKI",
        "colab_type": "text"
      },
      "source": [
        "#### Seed 1"
      ]
    },
    {
      "cell_type": "code",
      "metadata": {
        "id": "p7AwLJkfpF7S",
        "colab_type": "code",
        "outputId": "32bcf016-f106-4a7c-db9e-be1151c5bd76",
        "colab": {
          "base_uri": "https://localhost:8080/",
          "height": 34
        }
      },
      "source": [
        "seed=\"1\"\n",
        "M=\"10\"\n",
        "d = 16\n",
        "k = 1\n",
        "strides = [1, 1, 2, 2]\n",
        "net = WideResNet(d=d, k=k, n_classes=10, input_features=3, output_features=16, strides=strides).to(device)\n",
        "net.load_state_dict(torch.load('./SVHN/WRN-40-2-WRN-16-1/M-'+M+'/Seed-'+seed+'/kd_att_teacher_wrn-40-2_student_wrn-16-1-M-'+M+'-seed-'+seed+'-SVHN-dict.pth',map_location=device))\n",
        "accuracy = _test_set_eval(net, device, svhn_test_loader)\n",
        "accuracy  "
      ],
      "execution_count": 7,
      "outputs": [
        {
          "output_type": "execute_result",
          "data": {
            "text/plain": [
              "31.32"
            ]
          },
          "metadata": {
            "tags": []
          },
          "execution_count": 7
        }
      ]
    },
    {
      "cell_type": "markdown",
      "metadata": {
        "id": "05mXKxCF3DHw",
        "colab_type": "text"
      },
      "source": [
        "#### Seed 2"
      ]
    },
    {
      "cell_type": "code",
      "metadata": {
        "id": "Q1VapgsmpKhD",
        "colab_type": "code",
        "outputId": "7f8317a4-a207-4090-87cd-0b5444d9113e",
        "colab": {
          "base_uri": "https://localhost:8080/",
          "height": 34
        }
      },
      "source": [
        "seed=\"2\"\n",
        "M=\"10\"\n",
        "d = 16\n",
        "k = 1\n",
        "strides = [1, 1, 2, 2]\n",
        "net = WideResNet(d=d, k=k, n_classes=10, input_features=3, output_features=16, strides=strides).to(device)\n",
        "net.load_state_dict(torch.load('./SVHN/WRN-40-2-WRN-16-1/M-'+M+'/Seed-'+seed+'/kd_att_teacher_wrn-40-2_student_wrn-16-1-M-'+M+'-seed-'+seed+'-SVHN-dict.pth', map_location=device))\n",
        "accuracy = _test_set_eval(net, device, svhn_test_loader)\n",
        "accuracy  "
      ],
      "execution_count": 8,
      "outputs": [
        {
          "output_type": "execute_result",
          "data": {
            "text/plain": [
              "33.88"
            ]
          },
          "metadata": {
            "tags": []
          },
          "execution_count": 8
        }
      ]
    },
    {
      "cell_type": "markdown",
      "metadata": {
        "colab_type": "text",
        "id": "7TX-_saT5EfR"
      },
      "source": [
        "#### KD-ATT for M=25 samples"
      ]
    },
    {
      "cell_type": "markdown",
      "metadata": {
        "id": "LClRv2GZ5Vmg",
        "colab_type": "text"
      },
      "source": [
        "#### Seed 0"
      ]
    },
    {
      "cell_type": "code",
      "metadata": {
        "colab_type": "code",
        "outputId": "76f9d0cc-a7ee-40fd-b794-f9c05c6d31a5",
        "id": "qkuifohw5MNc",
        "colab": {
          "base_uri": "https://localhost:8080/",
          "height": 34
        }
      },
      "source": [
        "seed=\"0\"\n",
        "M=\"25\"\n",
        "d = 16\n",
        "k = 1\n",
        "strides = [1, 1, 2, 2]\n",
        "net = WideResNet(d=d, k=k, n_classes=10, input_features=3, output_features=16, strides=strides).to(device)\n",
        "net.load_state_dict(torch.load('./SVHN/WRN-40-2-WRN-16-1/M-'+M+'/Seed-'+seed+'/kd_att_teacher_wrn-40-2_student_wrn-16-1-M-'+M+'-seed-'+seed+'-SVHN-dict.pth'))\n",
        "accuracy = _test_set_eval(net, device, svhn_test_loader)\n",
        "accuracy                            "
      ],
      "execution_count": 9,
      "outputs": [
        {
          "output_type": "execute_result",
          "data": {
            "text/plain": [
              "48.71"
            ]
          },
          "metadata": {
            "tags": []
          },
          "execution_count": 9
        }
      ]
    },
    {
      "cell_type": "markdown",
      "metadata": {
        "colab_type": "text",
        "id": "eAA4MjhM5bJT"
      },
      "source": [
        "#### Seed 1"
      ]
    },
    {
      "cell_type": "code",
      "metadata": {
        "id": "UMNsd1REpNTo",
        "colab_type": "code",
        "outputId": "57d4710f-d6ba-4e6d-ccae-f41f48000b51",
        "colab": {
          "base_uri": "https://localhost:8080/",
          "height": 34
        }
      },
      "source": [
        "seed=\"1\"\n",
        "M=\"25\"\n",
        "d = 16\n",
        "k = 1\n",
        "strides = [1, 1, 2, 2]\n",
        "net = WideResNet(d=d, k=k, n_classes=10, input_features=3, output_features=16, strides=strides).to(device)\n",
        "net.load_state_dict(torch.load('./SVHN/WRN-40-2-WRN-16-1/M-'+M+'/Seed-'+seed+'/kd_att_teacher_wrn-40-2_student_wrn-16-1-M-'+M+'-seed-'+seed+'-SVHN-dict.pth'))\n",
        "accuracy = _test_set_eval(net, device, svhn_test_loader)\n",
        "accuracy  "
      ],
      "execution_count": 10,
      "outputs": [
        {
          "output_type": "execute_result",
          "data": {
            "text/plain": [
              "48.89"
            ]
          },
          "metadata": {
            "tags": []
          },
          "execution_count": 10
        }
      ]
    },
    {
      "cell_type": "markdown",
      "metadata": {
        "colab_type": "text",
        "id": "spORKB5P5bS9"
      },
      "source": [
        "#### Seed 2"
      ]
    },
    {
      "cell_type": "code",
      "metadata": {
        "id": "GYyEkjFOpdw7",
        "colab_type": "code",
        "outputId": "b48d33b5-e603-4fbe-8134-1df267faea8b",
        "colab": {
          "base_uri": "https://localhost:8080/",
          "height": 34
        }
      },
      "source": [
        "seed=\"2\"\n",
        "M=\"25\"\n",
        "d = 16\n",
        "k = 1\n",
        "strides = [1, 1, 2, 2]\n",
        "net = WideResNet(d=d, k=k, n_classes=10, input_features=3, output_features=16, strides=strides).to(device)\n",
        "net.load_state_dict(torch.load('./SVHN/WRN-40-2-WRN-16-1/M-'+M+'/Seed-'+seed+'/kd_att_teacher_wrn-40-2_student_wrn-16-1-M-'+M+'-seed-'+seed+'-SVHN-dict.pth'))\n",
        "accuracy = _test_set_eval(net, device, svhn_test_loader)\n",
        "accuracy  "
      ],
      "execution_count": 11,
      "outputs": [
        {
          "output_type": "execute_result",
          "data": {
            "text/plain": [
              "47.44"
            ]
          },
          "metadata": {
            "tags": []
          },
          "execution_count": 11
        }
      ]
    },
    {
      "cell_type": "markdown",
      "metadata": {
        "id": "Wh0pthpjp4-C",
        "colab_type": "text"
      },
      "source": [
        "#### KD-ATT for M=50 samples"
      ]
    },
    {
      "cell_type": "markdown",
      "metadata": {
        "colab_type": "text",
        "id": "r3J74LnzqNTF"
      },
      "source": [
        "#### Seed 0"
      ]
    },
    {
      "cell_type": "code",
      "metadata": {
        "id": "5iynfhH5qhI7",
        "colab_type": "code",
        "outputId": "d99b53da-21e9-459a-dfd5-76b150219f2a",
        "colab": {
          "base_uri": "https://localhost:8080/",
          "height": 34
        }
      },
      "source": [
        "seed=\"0\"\n",
        "M=\"50\"\n",
        "d = 16\n",
        "k = 1\n",
        "strides = [1, 1, 2, 2]\n",
        "net = WideResNet(d=d, k=k, n_classes=10, input_features=3, output_features=16, strides=strides).to(device)\n",
        "net.load_state_dict(torch.load('./SVHN/WRN-40-2-WRN-16-1/M-'+M+'/Seed-'+seed+'/kd_att_teacher_wrn-40-2_student_wrn-16-1-M-'+M+'-seed-'+seed+'-SVHN-dict.pth'))\n",
        "accuracy = _test_set_eval(net, device, svhn_test_loader)\n",
        "accuracy "
      ],
      "execution_count": 12,
      "outputs": [
        {
          "output_type": "execute_result",
          "data": {
            "text/plain": [
              "68.84"
            ]
          },
          "metadata": {
            "tags": []
          },
          "execution_count": 12
        }
      ]
    },
    {
      "cell_type": "markdown",
      "metadata": {
        "id": "-JbhhRSvqSn-",
        "colab_type": "text"
      },
      "source": [
        "#### Seed 1"
      ]
    },
    {
      "cell_type": "code",
      "metadata": {
        "id": "nzlK0vqtqjWB",
        "colab_type": "code",
        "outputId": "a09b20fd-0416-43e7-cdf1-7848143eadd5",
        "colab": {
          "base_uri": "https://localhost:8080/",
          "height": 34
        }
      },
      "source": [
        "seed=\"1\"\n",
        "M=\"50\"\n",
        "d = 16\n",
        "k = 1\n",
        "strides = [1, 1, 2, 2]\n",
        "net = WideResNet(d=d, k=k, n_classes=10, input_features=3, output_features=16, strides=strides).to(device)\n",
        "net.load_state_dict(torch.load('./SVHN/WRN-40-2-WRN-16-1/M-'+M+'/Seed-'+seed+'/kd_att_teacher_wrn-40-2_student_wrn-16-1-M-'+M+'-seed-'+seed+'-SVHN-dict.pth'))\n",
        "accuracy = _test_set_eval(net, device, svhn_test_loader)\n",
        "accuracy "
      ],
      "execution_count": 13,
      "outputs": [
        {
          "output_type": "execute_result",
          "data": {
            "text/plain": [
              "65.33"
            ]
          },
          "metadata": {
            "tags": []
          },
          "execution_count": 13
        }
      ]
    },
    {
      "cell_type": "markdown",
      "metadata": {
        "id": "eXvOb1HaqU4c",
        "colab_type": "text"
      },
      "source": [
        "#### Seed 2"
      ]
    },
    {
      "cell_type": "code",
      "metadata": {
        "id": "3pTOzMsAqkbO",
        "colab_type": "code",
        "outputId": "7c372606-4b74-42d1-cf75-925f786a24d7",
        "colab": {
          "base_uri": "https://localhost:8080/",
          "height": 34
        }
      },
      "source": [
        "seed=\"2\"\n",
        "M=\"50\"\n",
        "d = 16\n",
        "k = 1\n",
        "strides = [1, 1, 2, 2]\n",
        "net = WideResNet(d=d, k=k, n_classes=10, input_features=3, output_features=16, strides=strides).to(device)\n",
        "net.load_state_dict(torch.load('./SVHN/WRN-40-2-WRN-16-1/M-'+M+'/Seed-'+seed+'/kd_att_teacher_wrn-40-2_student_wrn-16-1-M-'+M+'-seed-'+seed+'-SVHN-dict.pth'))\n",
        "accuracy = _test_set_eval(net, device, svhn_test_loader)\n",
        "accuracy "
      ],
      "execution_count": 14,
      "outputs": [
        {
          "output_type": "execute_result",
          "data": {
            "text/plain": [
              "66.48"
            ]
          },
          "metadata": {
            "tags": []
          },
          "execution_count": 14
        }
      ]
    },
    {
      "cell_type": "markdown",
      "metadata": {
        "colab_type": "text",
        "id": "AofKszW2qBx-"
      },
      "source": [
        "#### KD-ATT for M=75 samples"
      ]
    },
    {
      "cell_type": "markdown",
      "metadata": {
        "id": "_9cT99JqqTdk",
        "colab_type": "text"
      },
      "source": [
        "#### Seed 0"
      ]
    },
    {
      "cell_type": "code",
      "metadata": {
        "id": "dkxhFaBVqnFA",
        "colab_type": "code",
        "outputId": "1763de59-9ae9-4361-a746-cdb0eacdb0e0",
        "colab": {
          "base_uri": "https://localhost:8080/",
          "height": 34
        }
      },
      "source": [
        "seed=\"0\"\n",
        "M=\"75\"\n",
        "d = 16\n",
        "k = 1\n",
        "strides = [1, 1, 2, 2]\n",
        "net = WideResNet(d=d, k=k, n_classes=10, input_features=3, output_features=16, strides=strides).to(device)\n",
        "net.load_state_dict(torch.load('./SVHN/WRN-40-2-WRN-16-1/M-'+M+'/Seed-'+seed+'/kd_att_teacher_wrn-40-2_student_wrn-16-1-M-'+M+'-seed-'+seed+'-SVHN-dict.pth'))\n",
        "accuracy = _test_set_eval(net, device, svhn_test_loader)\n",
        "accuracy "
      ],
      "execution_count": 15,
      "outputs": [
        {
          "output_type": "execute_result",
          "data": {
            "text/plain": [
              "78.51"
            ]
          },
          "metadata": {
            "tags": []
          },
          "execution_count": 15
        }
      ]
    },
    {
      "cell_type": "markdown",
      "metadata": {
        "id": "nSEo_6VaqW1A",
        "colab_type": "text"
      },
      "source": [
        "#### Seed 1"
      ]
    },
    {
      "cell_type": "code",
      "metadata": {
        "id": "aKrVCki7qpAx",
        "colab_type": "code",
        "outputId": "df218752-2cfa-457c-fb46-5a341517cca2",
        "colab": {
          "base_uri": "https://localhost:8080/",
          "height": 34
        }
      },
      "source": [
        "seed=\"1\"\n",
        "M=\"75\"\n",
        "d = 16\n",
        "k = 1\n",
        "strides = [1, 1, 2, 2]\n",
        "net = WideResNet(d=d, k=k, n_classes=10, input_features=3, output_features=16, strides=strides).to(device)\n",
        "net.load_state_dict(torch.load('./SVHN/WRN-40-2-WRN-16-1/M-'+M+'/Seed-'+seed+'/kd_att_teacher_wrn-40-2_student_wrn-16-1-M-'+M+'-seed-'+seed+'-SVHN-dict.pth'))\n",
        "accuracy = _test_set_eval(net, device, svhn_test_loader)\n",
        "accuracy "
      ],
      "execution_count": 16,
      "outputs": [
        {
          "output_type": "execute_result",
          "data": {
            "text/plain": [
              "78.4"
            ]
          },
          "metadata": {
            "tags": []
          },
          "execution_count": 16
        }
      ]
    },
    {
      "cell_type": "markdown",
      "metadata": {
        "id": "mLgD1J06qXnu",
        "colab_type": "text"
      },
      "source": [
        "#### Seed 2"
      ]
    },
    {
      "cell_type": "code",
      "metadata": {
        "id": "lDFJhQlSqqE9",
        "colab_type": "code",
        "outputId": "a8d0eb92-0308-4dd6-eaa3-3f83a12024a1",
        "colab": {
          "base_uri": "https://localhost:8080/",
          "height": 34
        }
      },
      "source": [
        "seed=\"2\"\n",
        "M=\"75\"\n",
        "d = 16\n",
        "k = 1\n",
        "strides = [1, 1, 2, 2]\n",
        "net = WideResNet(d=d, k=k, n_classes=10, input_features=3, output_features=16, strides=strides).to(device)\n",
        "net.load_state_dict(torch.load('./SVHN/WRN-40-2-WRN-16-1/M-'+M+'/Seed-'+seed+'/kd_att_teacher_wrn-40-2_student_wrn-16-1-M-'+M+'-seed-'+seed+'-SVHN-dict.pth'))\n",
        "accuracy = _test_set_eval(net, device, svhn_test_loader)\n",
        "accuracy "
      ],
      "execution_count": 17,
      "outputs": [
        {
          "output_type": "execute_result",
          "data": {
            "text/plain": [
              "79.28"
            ]
          },
          "metadata": {
            "tags": []
          },
          "execution_count": 17
        }
      ]
    },
    {
      "cell_type": "markdown",
      "metadata": {
        "colab_type": "text",
        "id": "B8oprJgDqCUq"
      },
      "source": [
        "#### KD-ATT for M=100 samples"
      ]
    },
    {
      "cell_type": "markdown",
      "metadata": {
        "id": "jp1O75XRqZG9",
        "colab_type": "text"
      },
      "source": [
        "#### Seed 0"
      ]
    },
    {
      "cell_type": "code",
      "metadata": {
        "id": "lh6SQbPJqr7m",
        "colab_type": "code",
        "outputId": "684e0ebf-4b2b-439b-94a9-cec4ad543b35",
        "colab": {
          "base_uri": "https://localhost:8080/",
          "height": 34
        }
      },
      "source": [
        "seed=\"0\"\n",
        "M=\"100\"\n",
        "d = 16\n",
        "k = 1\n",
        "strides = [1, 1, 2, 2]\n",
        "net = WideResNet(d=d, k=k, n_classes=10, input_features=3, output_features=16, strides=strides).to(device)\n",
        "net.load_state_dict(torch.load('./SVHN/WRN-40-2-WRN-16-1/M-'+M+'/Seed-'+seed+'/kd_att_teacher_wrn-40-2_student_wrn-16-1-M-'+M+'-seed-'+seed+'-SVHN-dict.pth'))\n",
        "accuracy = _test_set_eval(net, device, svhn_test_loader)\n",
        "accuracy "
      ],
      "execution_count": 18,
      "outputs": [
        {
          "output_type": "execute_result",
          "data": {
            "text/plain": [
              "81.18"
            ]
          },
          "metadata": {
            "tags": []
          },
          "execution_count": 18
        }
      ]
    },
    {
      "cell_type": "markdown",
      "metadata": {
        "id": "6uhm7RswqaIr",
        "colab_type": "text"
      },
      "source": [
        "#### Seed 1"
      ]
    },
    {
      "cell_type": "code",
      "metadata": {
        "id": "Ru--C50pqtNF",
        "colab_type": "code",
        "outputId": "81bbb395-b290-4540-83cf-d1127953ea09",
        "colab": {
          "base_uri": "https://localhost:8080/",
          "height": 34
        }
      },
      "source": [
        "seed=\"1\"\n",
        "M=\"100\"\n",
        "d = 16\n",
        "k = 1\n",
        "strides = [1, 1, 2, 2]\n",
        "net = WideResNet(d=d, k=k, n_classes=10, input_features=3, output_features=16, strides=strides).to(device)\n",
        "net.load_state_dict(torch.load('./SVHN/WRN-40-2-WRN-16-1/M-'+M+'/Seed-'+seed+'/kd_att_teacher_wrn-40-2_student_wrn-16-1-M-'+M+'-seed-'+seed+'-SVHN-dict.pth'))\n",
        "accuracy = _test_set_eval(net, device, svhn_test_loader)\n",
        "accuracy "
      ],
      "execution_count": 19,
      "outputs": [
        {
          "output_type": "execute_result",
          "data": {
            "text/plain": [
              "79.63"
            ]
          },
          "metadata": {
            "tags": []
          },
          "execution_count": 19
        }
      ]
    },
    {
      "cell_type": "markdown",
      "metadata": {
        "id": "KJV8rFZ_qa7X",
        "colab_type": "text"
      },
      "source": [
        "#### Seed 2"
      ]
    },
    {
      "cell_type": "code",
      "metadata": {
        "id": "3FZlIwkNq0aJ",
        "colab_type": "code",
        "outputId": "11bd811f-58f9-4467-b9ff-41eff14ec6bc",
        "colab": {
          "base_uri": "https://localhost:8080/",
          "height": 34
        }
      },
      "source": [
        "seed=\"2\"\n",
        "M=\"100\"\n",
        "d = 16\n",
        "k = 1\n",
        "strides = [1, 1, 2, 2]\n",
        "net = WideResNet(d=d, k=k, n_classes=10, input_features=3, output_features=16, strides=strides).to(device)\n",
        "net.load_state_dict(torch.load('./SVHN/WRN-40-2-WRN-16-1/M-'+M+'/Seed-'+seed+'/kd_att_teacher_wrn-40-2_student_wrn-16-1-M-'+M+'-seed-'+seed+'-SVHN-dict.pth'))\n",
        "accuracy = _test_set_eval(net, device, svhn_test_loader)\n",
        "accuracy "
      ],
      "execution_count": 20,
      "outputs": [
        {
          "output_type": "execute_result",
          "data": {
            "text/plain": [
              "81.45"
            ]
          },
          "metadata": {
            "tags": []
          },
          "execution_count": 20
        }
      ]
    },
    {
      "cell_type": "markdown",
      "metadata": {
        "colab_type": "text",
        "id": "XJIzdAk4qFxU"
      },
      "source": [
        "#### KD-ATT for M=5000 samples"
      ]
    },
    {
      "cell_type": "markdown",
      "metadata": {
        "id": "aHm-1iCXqcM8",
        "colab_type": "text"
      },
      "source": [
        "#### Seed 0"
      ]
    },
    {
      "cell_type": "code",
      "metadata": {
        "id": "U8P611zSq14M",
        "colab_type": "code",
        "outputId": "b183f41c-f003-4189-baf4-77109229fe46",
        "colab": {
          "base_uri": "https://localhost:8080/",
          "height": 34
        }
      },
      "source": [
        "seed=\"0\"\n",
        "M=\"5000\"\n",
        "d = 16\n",
        "k = 1\n",
        "strides = [1, 1, 2, 2]\n",
        "net = WideResNet(d=d, k=k, n_classes=10, input_features=3, output_features=16, strides=strides).to(device)\n",
        "net.load_state_dict(torch.load('./SVHN/WRN-40-2-WRN-16-1/M-'+M+'/Seed-'+seed+'/kd_att_teacher_wrn-40-2_student_wrn-16-1-M-'+M+'-seed-'+seed+'-SVHN-dict.pth',map_location=device))\n",
        "accuracy = _test_set_eval(net, device, svhn_test_loader)\n",
        "accuracy "
      ],
      "execution_count": 21,
      "outputs": [
        {
          "output_type": "execute_result",
          "data": {
            "text/plain": [
              "95.19"
            ]
          },
          "metadata": {
            "tags": []
          },
          "execution_count": 21
        }
      ]
    },
    {
      "cell_type": "markdown",
      "metadata": {
        "id": "lCIqXwdyqdEZ",
        "colab_type": "text"
      },
      "source": [
        "#### Seed 1"
      ]
    },
    {
      "cell_type": "code",
      "metadata": {
        "id": "ZHsUHJn4q4K7",
        "colab_type": "code",
        "outputId": "e6f7b773-d337-49be-c9b4-014d9b20789f",
        "colab": {
          "base_uri": "https://localhost:8080/",
          "height": 34
        }
      },
      "source": [
        "seed=\"1\"\n",
        "M=\"5000\"\n",
        "d = 16\n",
        "k = 1\n",
        "strides = [1, 1, 2, 2]\n",
        "net = WideResNet(d=d, k=k, n_classes=10, input_features=3, output_features=16, strides=strides).to(device)\n",
        "net.load_state_dict(torch.load('./SVHN/WRN-40-2-WRN-16-1/M-'+M+'/Seed-'+seed+'/kd_att_teacher_wrn-40-2_student_wrn-16-1-M-'+M+'-seed-'+seed+'-SVHN-dict.pth',map_location=device))\n",
        "accuracy = _test_set_eval(net, device, svhn_test_loader)\n",
        "accuracy "
      ],
      "execution_count": 22,
      "outputs": [
        {
          "output_type": "execute_result",
          "data": {
            "text/plain": [
              "95.44"
            ]
          },
          "metadata": {
            "tags": []
          },
          "execution_count": 22
        }
      ]
    },
    {
      "cell_type": "markdown",
      "metadata": {
        "id": "Rbw7scNTqd_F",
        "colab_type": "text"
      },
      "source": [
        "#### Seed 2"
      ]
    },
    {
      "cell_type": "code",
      "metadata": {
        "id": "Dcl8nDfDq4zX",
        "colab_type": "code",
        "outputId": "decae0b9-04d2-42a7-ad55-301f27bc90e6",
        "colab": {
          "base_uri": "https://localhost:8080/",
          "height": 34
        }
      },
      "source": [
        "seed=\"2\"\n",
        "M=\"5000\"\n",
        "d = 16\n",
        "k = 1\n",
        "strides = [1, 1, 2, 2]\n",
        "net = WideResNet(d=d, k=k, n_classes=10, input_features=3, output_features=16, strides=strides).to(device)\n",
        "net.load_state_dict(torch.load('./SVHN/WRN-40-2-WRN-16-1/M-'+M+'/Seed-'+seed+'/kd_att_teacher_wrn-40-2_student_wrn-16-1-M-'+M+'-seed-'+seed+'-SVHN-dict.pth',map_location=device))\n",
        "accuracy = _test_set_eval(net, device, svhn_test_loader)\n",
        "accuracy "
      ],
      "execution_count": 23,
      "outputs": [
        {
          "output_type": "execute_result",
          "data": {
            "text/plain": [
              "95.72"
            ]
          },
          "metadata": {
            "tags": []
          },
          "execution_count": 23
        }
      ]
    },
    {
      "cell_type": "markdown",
      "metadata": {
        "id": "m_rP6paD6S_k",
        "colab_type": "text"
      },
      "source": [
        "# CIFAR10"
      ]
    },
    {
      "cell_type": "code",
      "metadata": {
        "id": "mIvlP9yx6WiV",
        "colab_type": "code",
        "outputId": "3fc24d46-a647-4a61-f04f-9da9d5cd5463",
        "colab": {
          "base_uri": "https://localhost:8080/",
          "height": 88
        }
      },
      "source": [
        "cifar_normalize = transforms.Normalize((0.4914, 0.4822, 0.4465), (0.2023, 0.1994, 0.2010))\n",
        "\n",
        "cifar_transform = transforms.Compose([\n",
        "  transforms.ToTensor(),\n",
        "  cifar_normalize,\n",
        "])\n",
        "\n",
        "cifar_testset = torchvision.datasets.CIFAR10(root='./data', train=False, download=True, transform=cifar_transform)\n",
        "cifar_testloader = torch.utils.data.DataLoader(cifar_testset, batch_size=100, shuffle=False, num_workers=0)"
      ],
      "execution_count": 24,
      "outputs": [
        {
          "output_type": "stream",
          "text": [
            "\r0it [00:00, ?it/s]"
          ],
          "name": "stderr"
        },
        {
          "output_type": "stream",
          "text": [
            "Downloading https://www.cs.toronto.edu/~kriz/cifar-10-python.tar.gz to ./data/cifar-10-python.tar.gz\n"
          ],
          "name": "stdout"
        },
        {
          "output_type": "stream",
          "text": [
            "170500096it [00:03, 44170661.31it/s]                               \n"
          ],
          "name": "stderr"
        },
        {
          "output_type": "stream",
          "text": [
            "Extracting ./data/cifar-10-python.tar.gz to ./data\n"
          ],
          "name": "stdout"
        }
      ]
    },
    {
      "cell_type": "markdown",
      "metadata": {
        "id": "rZbq5oAJxLUg",
        "colab_type": "text"
      },
      "source": [
        "#### KD-ATT - Teacher WRN-40-2 Student WRN-16-1 for different values of M"
      ]
    },
    {
      "cell_type": "markdown",
      "metadata": {
        "id": "8h3Aq-LasWZs",
        "colab_type": "text"
      },
      "source": [
        "#### KD-ATT for M=10 samples"
      ]
    },
    {
      "cell_type": "markdown",
      "metadata": {
        "id": "dIxYH1SXscsr",
        "colab_type": "text"
      },
      "source": [
        "#### Seed 0"
      ]
    },
    {
      "cell_type": "code",
      "metadata": {
        "id": "u9jxQeshtG9f",
        "colab_type": "code",
        "outputId": "71fbd9bd-8a88-4b5d-8e44-79c1b2e8060f",
        "colab": {
          "base_uri": "https://localhost:8080/",
          "height": 34
        }
      },
      "source": [
        "seed=\"0\"\n",
        "M=\"10\"\n",
        "d = 16\n",
        "k = 1\n",
        "strides = [1, 1, 2, 2]\n",
        "net = WideResNet(d=d, k=k, n_classes=10, input_features=3, output_features=16, strides=strides).to(device)\n",
        "net.load_state_dict(torch.load('./CIFAR10/WRN-40-2-WRN-16-1/M-'+M+'/Seed-'+seed+'/kd_att_teacher_wrn-40-2_student_wrn-16-1-M-'+M+'-seed-'+seed+'-CIFAR10-dict.pth',map_location=device))\n",
        "accuracy = _test_set_eval(net, device, cifar_testloader)\n",
        "accuracy "
      ],
      "execution_count": 25,
      "outputs": [
        {
          "output_type": "execute_result",
          "data": {
            "text/plain": [
              "39.08"
            ]
          },
          "metadata": {
            "tags": []
          },
          "execution_count": 25
        }
      ]
    },
    {
      "cell_type": "markdown",
      "metadata": {
        "id": "oniCRSM_sfT0",
        "colab_type": "text"
      },
      "source": [
        "#### Seed 1"
      ]
    },
    {
      "cell_type": "code",
      "metadata": {
        "id": "DtpEV8VGuwKZ",
        "colab_type": "code",
        "outputId": "1d90cf13-efb0-4238-c8d0-6d7f9e3109d7",
        "colab": {
          "base_uri": "https://localhost:8080/",
          "height": 34
        }
      },
      "source": [
        "seed=\"1\"\n",
        "M=\"10\"\n",
        "d = 16\n",
        "k = 1\n",
        "strides = [1, 1, 2, 2]\n",
        "net = WideResNet(d=d, k=k, n_classes=10, input_features=3, output_features=16, strides=strides).to(device)\n",
        "net.load_state_dict(torch.load('./CIFAR10/WRN-40-2-WRN-16-1/M-'+M+'/Seed-'+seed+'/kd_att_teacher_wrn-40-2_student_wrn-16-1-M-'+M+'-seed-'+seed+'-CIFAR10-dict.pth',map_location=device))\n",
        "accuracy = _test_set_eval(net, device, cifar_testloader)\n",
        "accuracy "
      ],
      "execution_count": 26,
      "outputs": [
        {
          "output_type": "execute_result",
          "data": {
            "text/plain": [
              "35.33"
            ]
          },
          "metadata": {
            "tags": []
          },
          "execution_count": 26
        }
      ]
    },
    {
      "cell_type": "markdown",
      "metadata": {
        "id": "gIownnzZshnH",
        "colab_type": "text"
      },
      "source": [
        "#### Seed 2"
      ]
    },
    {
      "cell_type": "code",
      "metadata": {
        "id": "abryDa5TuxrW",
        "colab_type": "code",
        "outputId": "91c3551d-316c-48f7-e30b-544c837d10f6",
        "colab": {
          "base_uri": "https://localhost:8080/",
          "height": 34
        }
      },
      "source": [
        "seed=\"2\"\n",
        "M=\"10\"\n",
        "d = 16\n",
        "k = 1\n",
        "strides = [1, 1, 2, 2]\n",
        "net = WideResNet(d=d, k=k, n_classes=10, input_features=3, output_features=16, strides=strides).to(device)\n",
        "net.load_state_dict(torch.load('./CIFAR10/WRN-40-2-WRN-16-1/M-'+M+'/Seed-'+seed+'/kd_att_teacher_wrn-40-2_student_wrn-16-1-M-'+M+'-seed-'+seed+'-CIFAR10-dict.pth',map_location=device))\n",
        "accuracy = _test_set_eval(net, device, cifar_testloader)\n",
        "accuracy "
      ],
      "execution_count": 27,
      "outputs": [
        {
          "output_type": "execute_result",
          "data": {
            "text/plain": [
              "36.49"
            ]
          },
          "metadata": {
            "tags": []
          },
          "execution_count": 27
        }
      ]
    },
    {
      "cell_type": "markdown",
      "metadata": {
        "colab_type": "text",
        "id": "_r79JuMssjZW"
      },
      "source": [
        "#### KD-ATT for M=25 samples"
      ]
    },
    {
      "cell_type": "markdown",
      "metadata": {
        "id": "rQanqeOfuzUC",
        "colab_type": "text"
      },
      "source": [
        "#### Seed 0"
      ]
    },
    {
      "cell_type": "code",
      "metadata": {
        "colab_type": "code",
        "id": "NUFsE9FxvLcg",
        "outputId": "5150db1b-e956-4add-ee10-9a357942e266",
        "colab": {
          "base_uri": "https://localhost:8080/",
          "height": 34
        }
      },
      "source": [
        "seed=\"0\"\n",
        "M=\"25\"\n",
        "d = 16\n",
        "k = 1\n",
        "strides = [1, 1, 2, 2]\n",
        "net = WideResNet(d=d, k=k, n_classes=10, input_features=3, output_features=16, strides=strides).to(device)\n",
        "net.load_state_dict(torch.load('./CIFAR10/WRN-40-2-WRN-16-1/M-'+M+'/Seed-'+seed+'/kd_att_teacher_wrn-40-2_student_wrn-16-1-M-'+M+'-seed-'+seed+'-CIFAR10-dict.pth',map_location=device))\n",
        "accuracy = _test_set_eval(net, device, cifar_testloader)\n",
        "accuracy "
      ],
      "execution_count": 28,
      "outputs": [
        {
          "output_type": "execute_result",
          "data": {
            "text/plain": [
              "60.05"
            ]
          },
          "metadata": {
            "tags": []
          },
          "execution_count": 28
        }
      ]
    },
    {
      "cell_type": "markdown",
      "metadata": {
        "colab_type": "text",
        "id": "ur3wSt8hu3Yp"
      },
      "source": [
        "#### Seed 1"
      ]
    },
    {
      "cell_type": "code",
      "metadata": {
        "colab_type": "code",
        "id": "866KkPiEvLx_",
        "outputId": "19dda763-888d-4df9-d83a-3b383400e6ad",
        "colab": {
          "base_uri": "https://localhost:8080/",
          "height": 34
        }
      },
      "source": [
        "seed=\"1\"\n",
        "M=\"25\"\n",
        "d = 16\n",
        "k = 1\n",
        "strides = [1, 1, 2, 2]\n",
        "net = WideResNet(d=d, k=k, n_classes=10, input_features=3, output_features=16, strides=strides).to(device)\n",
        "net.load_state_dict(torch.load('./CIFAR10/WRN-40-2-WRN-16-1/M-'+M+'/Seed-'+seed+'/kd_att_teacher_wrn-40-2_student_wrn-16-1-M-'+M+'-seed-'+seed+'-CIFAR10-dict.pth',map_location=device))\n",
        "accuracy = _test_set_eval(net, device, cifar_testloader)\n",
        "accuracy "
      ],
      "execution_count": 29,
      "outputs": [
        {
          "output_type": "execute_result",
          "data": {
            "text/plain": [
              "58.94"
            ]
          },
          "metadata": {
            "tags": []
          },
          "execution_count": 29
        }
      ]
    },
    {
      "cell_type": "markdown",
      "metadata": {
        "colab_type": "text",
        "id": "JGlO3o13u3iR"
      },
      "source": [
        "#### Seed 2"
      ]
    },
    {
      "cell_type": "code",
      "metadata": {
        "colab_type": "code",
        "id": "X5ff52gOvMGS",
        "outputId": "d8d1f423-aed3-4543-a862-2ff9f15a24fa",
        "colab": {
          "base_uri": "https://localhost:8080/",
          "height": 34
        }
      },
      "source": [
        "seed=\"2\"\n",
        "M=\"25\"\n",
        "d = 16\n",
        "k = 1\n",
        "strides = [1, 1, 2, 2]\n",
        "net = WideResNet(d=d, k=k, n_classes=10, input_features=3, output_features=16, strides=strides).to(device)\n",
        "net.load_state_dict(torch.load('./CIFAR10/WRN-40-2-WRN-16-1/M-'+M+'/Seed-'+seed+'/kd_att_teacher_wrn-40-2_student_wrn-16-1-M-'+M+'-seed-'+seed+'-CIFAR10-dict.pth',map_location=device))\n",
        "accuracy = _test_set_eval(net, device, cifar_testloader)\n",
        "accuracy "
      ],
      "execution_count": 30,
      "outputs": [
        {
          "output_type": "execute_result",
          "data": {
            "text/plain": [
              "63.05"
            ]
          },
          "metadata": {
            "tags": []
          },
          "execution_count": 30
        }
      ]
    },
    {
      "cell_type": "markdown",
      "metadata": {
        "colab_type": "text",
        "id": "hlulwynoskDF"
      },
      "source": [
        "#### KD-ATT for M=50 samples"
      ]
    },
    {
      "cell_type": "markdown",
      "metadata": {
        "colab_type": "text",
        "id": "l87AUnzIu3yx"
      },
      "source": [
        "#### Seed 0"
      ]
    },
    {
      "cell_type": "code",
      "metadata": {
        "colab_type": "code",
        "id": "ZkO0m0yevMZA",
        "outputId": "f010923d-3e64-4939-c1aa-cb5d086c9d21",
        "colab": {
          "base_uri": "https://localhost:8080/",
          "height": 34
        }
      },
      "source": [
        "seed=\"0\"\n",
        "M=\"50\"\n",
        "d = 16\n",
        "k = 1\n",
        "strides = [1, 1, 2, 2]\n",
        "net = WideResNet(d=d, k=k, n_classes=10, input_features=3, output_features=16, strides=strides).to(device)\n",
        "net.load_state_dict(torch.load('./CIFAR10/WRN-40-2-WRN-16-1/M-'+M+'/Seed-'+seed+'/kd_att_teacher_wrn-40-2_student_wrn-16-1-M-'+M+'-seed-'+seed+'-CIFAR10-dict.pth',map_location=device))\n",
        "accuracy = _test_set_eval(net, device, cifar_testloader)\n",
        "accuracy "
      ],
      "execution_count": 31,
      "outputs": [
        {
          "output_type": "execute_result",
          "data": {
            "text/plain": [
              "70.9"
            ]
          },
          "metadata": {
            "tags": []
          },
          "execution_count": 31
        }
      ]
    },
    {
      "cell_type": "markdown",
      "metadata": {
        "colab_type": "text",
        "id": "WaEcYDfDu343"
      },
      "source": [
        "#### Seed 1"
      ]
    },
    {
      "cell_type": "code",
      "metadata": {
        "colab_type": "code",
        "id": "9bzl8NThvMrc",
        "outputId": "db8cb526-feea-4eb2-aef3-bbc21d0a973e",
        "colab": {
          "base_uri": "https://localhost:8080/",
          "height": 34
        }
      },
      "source": [
        "seed=\"1\"\n",
        "M=\"50\"\n",
        "d = 16\n",
        "k = 1\n",
        "strides = [1, 1, 2, 2]\n",
        "net = WideResNet(d=d, k=k, n_classes=10, input_features=3, output_features=16, strides=strides).to(device)\n",
        "net.load_state_dict(torch.load('./CIFAR10/WRN-40-2-WRN-16-1/M-'+M+'/Seed-'+seed+'/kd_att_teacher_wrn-40-2_student_wrn-16-1-M-'+M+'-seed-'+seed+'-CIFAR10-dict.pth',map_location=device))\n",
        "accuracy = _test_set_eval(net, device, cifar_testloader)\n",
        "accuracy "
      ],
      "execution_count": 32,
      "outputs": [
        {
          "output_type": "execute_result",
          "data": {
            "text/plain": [
              "65.83"
            ]
          },
          "metadata": {
            "tags": []
          },
          "execution_count": 32
        }
      ]
    },
    {
      "cell_type": "markdown",
      "metadata": {
        "colab_type": "text",
        "id": "QZ2JxbDGu38x"
      },
      "source": [
        "#### Seed 2"
      ]
    },
    {
      "cell_type": "code",
      "metadata": {
        "colab_type": "code",
        "id": "RKlkoY0pvM8Y",
        "outputId": "11be0202-a9dc-46db-8f8a-9259bce2654a",
        "colab": {
          "base_uri": "https://localhost:8080/",
          "height": 34
        }
      },
      "source": [
        "seed=\"2\"\n",
        "M=\"50\"\n",
        "d = 16\n",
        "k = 1\n",
        "strides = [1, 1, 2, 2]\n",
        "net = WideResNet(d=d, k=k, n_classes=10, input_features=3, output_features=16, strides=strides).to(device)\n",
        "net.load_state_dict(torch.load('./CIFAR10/WRN-40-2-WRN-16-1/M-'+M+'/Seed-'+seed+'/kd_att_teacher_wrn-40-2_student_wrn-16-1-M-'+M+'-seed-'+seed+'-CIFAR10-dict.pth',map_location=device))\n",
        "accuracy = _test_set_eval(net, device, cifar_testloader)\n",
        "accuracy "
      ],
      "execution_count": 33,
      "outputs": [
        {
          "output_type": "execute_result",
          "data": {
            "text/plain": [
              "68.68"
            ]
          },
          "metadata": {
            "tags": []
          },
          "execution_count": 33
        }
      ]
    },
    {
      "cell_type": "markdown",
      "metadata": {
        "colab_type": "text",
        "id": "UGJW-oqHskK1"
      },
      "source": [
        "#### KD-ATT for M=75 samples"
      ]
    },
    {
      "cell_type": "markdown",
      "metadata": {
        "colab_type": "text",
        "id": "XiFa_M3bu4LY"
      },
      "source": [
        "#### Seed 0"
      ]
    },
    {
      "cell_type": "code",
      "metadata": {
        "colab_type": "code",
        "id": "GndU7cFNvNMP",
        "outputId": "e21686da-5e27-4008-9b44-1799eadf3d2e",
        "colab": {
          "base_uri": "https://localhost:8080/",
          "height": 34
        }
      },
      "source": [
        "seed=\"0\"\n",
        "M=\"75\"\n",
        "d = 16\n",
        "k = 1\n",
        "strides = [1, 1, 2, 2]\n",
        "net = WideResNet(d=d, k=k, n_classes=10, input_features=3, output_features=16, strides=strides).to(device)\n",
        "net.load_state_dict(torch.load('./CIFAR10/WRN-40-2-WRN-16-1/M-'+M+'/Seed-'+seed+'/kd_att_teacher_wrn-40-2_student_wrn-16-1-M-'+M+'-seed-'+seed+'-CIFAR10-dict.pth',map_location=device))\n",
        "accuracy = _test_set_eval(net, device, cifar_testloader)\n",
        "accuracy "
      ],
      "execution_count": 34,
      "outputs": [
        {
          "output_type": "execute_result",
          "data": {
            "text/plain": [
              "73.84"
            ]
          },
          "metadata": {
            "tags": []
          },
          "execution_count": 34
        }
      ]
    },
    {
      "cell_type": "markdown",
      "metadata": {
        "colab_type": "text",
        "id": "PGVx8TGau4Pg"
      },
      "source": [
        "#### Seed 1"
      ]
    },
    {
      "cell_type": "code",
      "metadata": {
        "colab_type": "code",
        "id": "K0AbrkFdvNdF",
        "outputId": "86e98a8c-1b16-47d5-d5bb-55966418c814",
        "colab": {
          "base_uri": "https://localhost:8080/",
          "height": 34
        }
      },
      "source": [
        "seed=\"1\"\n",
        "M=\"75\"\n",
        "d = 16\n",
        "k = 1\n",
        "strides = [1, 1, 2, 2]\n",
        "net = WideResNet(d=d, k=k, n_classes=10, input_features=3, output_features=16, strides=strides).to(device)\n",
        "net.load_state_dict(torch.load('./CIFAR10/WRN-40-2-WRN-16-1/M-'+M+'/Seed-'+seed+'/kd_att_teacher_wrn-40-2_student_wrn-16-1-M-'+M+'-seed-'+seed+'-CIFAR10-dict.pth',map_location=device))\n",
        "accuracy = _test_set_eval(net, device, cifar_testloader)\n",
        "accuracy "
      ],
      "execution_count": 35,
      "outputs": [
        {
          "output_type": "execute_result",
          "data": {
            "text/plain": [
              "74.29"
            ]
          },
          "metadata": {
            "tags": []
          },
          "execution_count": 35
        }
      ]
    },
    {
      "cell_type": "markdown",
      "metadata": {
        "colab_type": "text",
        "id": "8INjPBlsu4TL"
      },
      "source": [
        "#### Seed 2"
      ]
    },
    {
      "cell_type": "code",
      "metadata": {
        "colab_type": "code",
        "id": "GD8ilK7cvNvl",
        "outputId": "a70c889e-afc4-4449-92b9-23b7ed2721a7",
        "colab": {
          "base_uri": "https://localhost:8080/",
          "height": 34
        }
      },
      "source": [
        "seed=\"2\"\n",
        "M=\"75\"\n",
        "d = 16\n",
        "k = 1\n",
        "strides = [1, 1, 2, 2]\n",
        "net = WideResNet(d=d, k=k, n_classes=10, input_features=3, output_features=16, strides=strides).to(device)\n",
        "net.load_state_dict(torch.load('./CIFAR10/WRN-40-2-WRN-16-1/M-'+M+'/Seed-'+seed+'/kd_att_teacher_wrn-40-2_student_wrn-16-1-M-'+M+'-seed-'+seed+'-CIFAR10-dict.pth',map_location=device))\n",
        "accuracy = _test_set_eval(net, device, cifar_testloader)\n",
        "accuracy "
      ],
      "execution_count": 36,
      "outputs": [
        {
          "output_type": "execute_result",
          "data": {
            "text/plain": [
              "77.0"
            ]
          },
          "metadata": {
            "tags": []
          },
          "execution_count": 36
        }
      ]
    },
    {
      "cell_type": "markdown",
      "metadata": {
        "colab_type": "text",
        "id": "J1gyKMXMskSI"
      },
      "source": [
        "#### KD-ATT for M=100 samples"
      ]
    },
    {
      "cell_type": "markdown",
      "metadata": {
        "colab_type": "text",
        "id": "-4ICC_X1u4lI"
      },
      "source": [
        "#### Seed 0"
      ]
    },
    {
      "cell_type": "code",
      "metadata": {
        "colab_type": "code",
        "id": "lGdN4LHbvOC8",
        "outputId": "08e270a0-3f10-472c-d0b5-9569747b5743",
        "colab": {
          "base_uri": "https://localhost:8080/",
          "height": 34
        }
      },
      "source": [
        "seed=\"0\"\n",
        "M=\"100\"\n",
        "d = 16\n",
        "k = 1\n",
        "strides = [1, 1, 2, 2]\n",
        "net = WideResNet(d=d, k=k, n_classes=10, input_features=3, output_features=16, strides=strides).to(device)\n",
        "net.load_state_dict(torch.load('./CIFAR10/WRN-40-2-WRN-16-1/M-'+M+'/Seed-'+seed+'/kd_att_teacher_wrn-40-2_student_wrn-16-1-M-'+M+'-seed-'+seed+'-CIFAR10-dict.pth',map_location=device))\n",
        "accuracy = _test_set_eval(net, device, cifar_testloader)\n",
        "accuracy "
      ],
      "execution_count": 37,
      "outputs": [
        {
          "output_type": "execute_result",
          "data": {
            "text/plain": [
              "76.67"
            ]
          },
          "metadata": {
            "tags": []
          },
          "execution_count": 37
        }
      ]
    },
    {
      "cell_type": "markdown",
      "metadata": {
        "colab_type": "text",
        "id": "fN1TL9w-u4pJ"
      },
      "source": [
        "#### Seed 1"
      ]
    },
    {
      "cell_type": "code",
      "metadata": {
        "colab_type": "code",
        "id": "LxE2CZznvObM",
        "outputId": "63774ebc-252f-446f-d2a1-41ee09076ccf",
        "colab": {
          "base_uri": "https://localhost:8080/",
          "height": 34
        }
      },
      "source": [
        "seed=\"1\"\n",
        "M=\"100\"\n",
        "d = 16\n",
        "k = 1\n",
        "strides = [1, 1, 2, 2]\n",
        "net = WideResNet(d=d, k=k, n_classes=10, input_features=3, output_features=16, strides=strides).to(device)\n",
        "net.load_state_dict(torch.load('./CIFAR10/WRN-40-2-WRN-16-1/M-'+M+'/Seed-'+seed+'/kd_att_teacher_wrn-40-2_student_wrn-16-1-M-'+M+'-seed-'+seed+'-CIFAR10-dict.pth',map_location=device))\n",
        "accuracy = _test_set_eval(net, device, cifar_testloader)\n",
        "accuracy "
      ],
      "execution_count": 38,
      "outputs": [
        {
          "output_type": "execute_result",
          "data": {
            "text/plain": [
              "76.72"
            ]
          },
          "metadata": {
            "tags": []
          },
          "execution_count": 38
        }
      ]
    },
    {
      "cell_type": "markdown",
      "metadata": {
        "colab_type": "text",
        "id": "iDSkDdUMu4sr"
      },
      "source": [
        "#### Seed 2"
      ]
    },
    {
      "cell_type": "code",
      "metadata": {
        "colab_type": "code",
        "id": "MiMxzI83vOrD",
        "outputId": "183acb5c-55cc-4ee2-94b2-101dcb46a520",
        "colab": {
          "base_uri": "https://localhost:8080/",
          "height": 34
        }
      },
      "source": [
        "seed=\"2\"\n",
        "M=\"100\"\n",
        "d = 16\n",
        "k = 1\n",
        "strides = [1, 1, 2, 2]\n",
        "net = WideResNet(d=d, k=k, n_classes=10, input_features=3, output_features=16, strides=strides).to(device)\n",
        "net.load_state_dict(torch.load('./CIFAR10/WRN-40-2-WRN-16-1/M-'+M+'/Seed-'+seed+'/kd_att_teacher_wrn-40-2_student_wrn-16-1-M-'+M+'-seed-'+seed+'-CIFAR10-dict.pth',map_location=device))\n",
        "accuracy = _test_set_eval(net, device, cifar_testloader)\n",
        "accuracy "
      ],
      "execution_count": 39,
      "outputs": [
        {
          "output_type": "execute_result",
          "data": {
            "text/plain": [
              "79.57"
            ]
          },
          "metadata": {
            "tags": []
          },
          "execution_count": 39
        }
      ]
    },
    {
      "cell_type": "markdown",
      "metadata": {
        "colab_type": "text",
        "id": "Mh0l4h1_skcj"
      },
      "source": [
        "#### KD-ATT for M=200 samples"
      ]
    },
    {
      "cell_type": "markdown",
      "metadata": {
        "colab_type": "text",
        "id": "URhlI9K9u48L"
      },
      "source": [
        "#### Seed 0"
      ]
    },
    {
      "cell_type": "code",
      "metadata": {
        "colab_type": "code",
        "id": "U1tDyRDMvO-9",
        "outputId": "10d7644a-6283-4d96-9ccd-f572ccbb434c",
        "colab": {
          "base_uri": "https://localhost:8080/",
          "height": 34
        }
      },
      "source": [
        "seed=\"0\"\n",
        "M=\"200\"\n",
        "d = 16\n",
        "k = 1\n",
        "strides = [1, 1, 2, 2]\n",
        "net = WideResNet(d=d, k=k, n_classes=10, input_features=3, output_features=16, strides=strides).to(device)\n",
        "net.load_state_dict(torch.load('./CIFAR10/WRN-40-2-WRN-16-1/M-'+M+'/Seed-'+seed+'/kd_att_teacher_wrn-40-2_student_wrn-16-1-M-'+M+'-seed-'+seed+'-CIFAR10-dict.pth',map_location=device))\n",
        "accuracy = _test_set_eval(net, device, cifar_testloader)\n",
        "accuracy "
      ],
      "execution_count": 40,
      "outputs": [
        {
          "output_type": "execute_result",
          "data": {
            "text/plain": [
              "82.41"
            ]
          },
          "metadata": {
            "tags": []
          },
          "execution_count": 40
        }
      ]
    },
    {
      "cell_type": "markdown",
      "metadata": {
        "colab_type": "text",
        "id": "-tvj0PA3u4_4"
      },
      "source": [
        "#### Seed 1"
      ]
    },
    {
      "cell_type": "code",
      "metadata": {
        "colab_type": "code",
        "id": "3k7eUGAQvPQd",
        "outputId": "b586f474-b544-48b8-b20f-c4d3792a7874",
        "colab": {
          "base_uri": "https://localhost:8080/",
          "height": 34
        }
      },
      "source": [
        "seed=\"1\"\n",
        "M=\"200\"\n",
        "d = 16\n",
        "k = 1\n",
        "strides = [1, 1, 2, 2]\n",
        "net = WideResNet(d=d, k=k, n_classes=10, input_features=3, output_features=16, strides=strides).to(device)\n",
        "net.load_state_dict(torch.load('./CIFAR10/WRN-40-2-WRN-16-1/M-'+M+'/Seed-'+seed+'/kd_att_teacher_wrn-40-2_student_wrn-16-1-M-'+M+'-seed-'+seed+'-CIFAR10-dict.pth',map_location=device))\n",
        "accuracy = _test_set_eval(net, device, cifar_testloader)\n",
        "accuracy "
      ],
      "execution_count": 41,
      "outputs": [
        {
          "output_type": "execute_result",
          "data": {
            "text/plain": [
              "81.97"
            ]
          },
          "metadata": {
            "tags": []
          },
          "execution_count": 41
        }
      ]
    },
    {
      "cell_type": "markdown",
      "metadata": {
        "colab_type": "text",
        "id": "Fpz7VFsNu5Dn"
      },
      "source": [
        "#### Seed 2"
      ]
    },
    {
      "cell_type": "code",
      "metadata": {
        "colab_type": "code",
        "id": "RgmYLxOnvPf8",
        "outputId": "7dd1bf28-a51d-452b-86a8-939dc40d4b84",
        "colab": {
          "base_uri": "https://localhost:8080/",
          "height": 34
        }
      },
      "source": [
        "seed=\"2\"\n",
        "M=\"200\"\n",
        "d = 16\n",
        "k = 1\n",
        "strides = [1, 1, 2, 2]\n",
        "net = WideResNet(d=d, k=k, n_classes=10, input_features=3, output_features=16, strides=strides).to(device)\n",
        "net.load_state_dict(torch.load('./CIFAR10/WRN-40-2-WRN-16-1/M-'+M+'/Seed-'+seed+'/kd_att_teacher_wrn-40-2_student_wrn-16-1-M-'+M+'-seed-'+seed+'-CIFAR10-dict.pth',map_location=device))\n",
        "accuracy = _test_set_eval(net, device, cifar_testloader)\n",
        "accuracy "
      ],
      "execution_count": 42,
      "outputs": [
        {
          "output_type": "execute_result",
          "data": {
            "text/plain": [
              "84.18"
            ]
          },
          "metadata": {
            "tags": []
          },
          "execution_count": 42
        }
      ]
    },
    {
      "cell_type": "markdown",
      "metadata": {
        "colab_type": "text",
        "id": "QnF-zgCHtDxr"
      },
      "source": [
        "#### KD-ATT for M=5000 samples"
      ]
    },
    {
      "cell_type": "markdown",
      "metadata": {
        "colab_type": "text",
        "id": "qH3uQ-SWu5Sh"
      },
      "source": [
        "#### Seed 0"
      ]
    },
    {
      "cell_type": "code",
      "metadata": {
        "colab_type": "code",
        "id": "Jdd-3zqXvPvk",
        "outputId": "48d25698-6e26-45c7-8741-a5f6b5718dee",
        "colab": {
          "base_uri": "https://localhost:8080/",
          "height": 34
        }
      },
      "source": [
        "seed=\"0\"\n",
        "M=\"5000\"\n",
        "d = 16\n",
        "k = 1\n",
        "strides = [1, 1, 2, 2]\n",
        "net = WideResNet(d=d, k=k, n_classes=10, input_features=3, output_features=16, strides=strides).to(device)\n",
        "net.load_state_dict(torch.load('./CIFAR10/WRN-40-2-WRN-16-1/M-'+M+'/Seed-'+seed+'/kd_att_teacher_wrn-40-2_student_wrn-16-1-M-'+M+'-seed-'+seed+'-CIFAR10-dict.pth',map_location=device))\n",
        "accuracy = _test_set_eval(net, device, cifar_testloader)\n",
        "accuracy "
      ],
      "execution_count": 43,
      "outputs": [
        {
          "output_type": "execute_result",
          "data": {
            "text/plain": [
              "92.15"
            ]
          },
          "metadata": {
            "tags": []
          },
          "execution_count": 43
        }
      ]
    },
    {
      "cell_type": "markdown",
      "metadata": {
        "colab_type": "text",
        "id": "Ya2Im0Nzu5Wm"
      },
      "source": [
        "#### Seed 1"
      ]
    },
    {
      "cell_type": "code",
      "metadata": {
        "colab_type": "code",
        "id": "1sh51scfvP_E",
        "outputId": "0fbe125c-e91f-4ff7-d4a3-f09baf507d89",
        "colab": {
          "base_uri": "https://localhost:8080/",
          "height": 34
        }
      },
      "source": [
        "seed=\"1\"\n",
        "M=\"5000\"\n",
        "d = 16\n",
        "k = 1\n",
        "strides = [1, 1, 2, 2]\n",
        "net = WideResNet(d=d, k=k, n_classes=10, input_features=3, output_features=16, strides=strides).to(device)\n",
        "net.load_state_dict(torch.load('./CIFAR10/WRN-40-2-WRN-16-1/M-'+M+'/Seed-'+seed+'/kd_att_teacher_wrn-40-2_student_wrn-16-1-M-'+M+'-seed-'+seed+'-CIFAR10-dict.pth',map_location=device))\n",
        "accuracy = _test_set_eval(net, device, cifar_testloader)\n",
        "accuracy "
      ],
      "execution_count": 44,
      "outputs": [
        {
          "output_type": "execute_result",
          "data": {
            "text/plain": [
              "92.25"
            ]
          },
          "metadata": {
            "tags": []
          },
          "execution_count": 44
        }
      ]
    },
    {
      "cell_type": "markdown",
      "metadata": {
        "colab_type": "text",
        "id": "mm7wXaLFu5aZ"
      },
      "source": [
        "#### Seed 2"
      ]
    },
    {
      "cell_type": "code",
      "metadata": {
        "colab_type": "code",
        "id": "ZLCKasB5vQNu",
        "outputId": "65c7e79c-7e3a-4a7c-d00e-27bcf02fd714",
        "colab": {
          "base_uri": "https://localhost:8080/",
          "height": 34
        }
      },
      "source": [
        "seed=\"2\"\n",
        "M=\"5000\"\n",
        "d = 16\n",
        "k = 1\n",
        "strides = [1, 1, 2, 2]\n",
        "net = WideResNet(d=d, k=k, n_classes=10, input_features=3, output_features=16, strides=strides).to(device)\n",
        "net.load_state_dict(torch.load('./CIFAR10/WRN-40-2-WRN-16-1/M-'+M+'/Seed-'+seed+'/kd_att_teacher_wrn-40-2_student_wrn-16-1-M-'+M+'-seed-'+seed+'-CIFAR10-dict.pth',map_location=device))\n",
        "accuracy = _test_set_eval(net, device, cifar_testloader)\n",
        "accuracy "
      ],
      "execution_count": 45,
      "outputs": [
        {
          "output_type": "execute_result",
          "data": {
            "text/plain": [
              "92.17"
            ]
          },
          "metadata": {
            "tags": []
          },
          "execution_count": 45
        }
      ]
    },
    {
      "cell_type": "markdown",
      "metadata": {
        "id": "idZl8E2YxU4C",
        "colab_type": "text"
      },
      "source": [
        "#### KD-ATT - Teacher WRN-16-2 Student WRN-16-1 M = 200"
      ]
    },
    {
      "cell_type": "markdown",
      "metadata": {
        "colab_type": "text",
        "id": "Lg07D-IZx_ga"
      },
      "source": [
        "#### Seed 0"
      ]
    },
    {
      "cell_type": "code",
      "metadata": {
        "colab_type": "code",
        "id": "wQcojEJNyIP6",
        "outputId": "6c51ec72-f83a-4b8f-f88d-293a3396d5d5",
        "colab": {
          "base_uri": "https://localhost:8080/",
          "height": 34
        }
      },
      "source": [
        "seed=\"0\"\n",
        "Teacher=\"WRN-16-2\"\n",
        "Student=\"WRN-16-1\"\n",
        "d = 16\n",
        "k = 1\n",
        "strides = [1, 1, 2, 2]\n",
        "net = WideResNet(d=d, k=k, n_classes=10, input_features=3, output_features=16, strides=strides).to(device)\n",
        "net.load_state_dict(torch.load('./CIFAR10/'+Teacher+'-'+Student+'-M200/Seed-'+seed+'/kd_att_teacher_'+Teacher.lower()+'_student_'+Student.lower()+'-M-200-seed-'+seed+'-CIFAR10-dict.pth',map_location=device))\n",
        "accuracy = _test_set_eval(net, device, cifar_testloader)\n",
        "accuracy "
      ],
      "execution_count": 46,
      "outputs": [
        {
          "output_type": "execute_result",
          "data": {
            "text/plain": [
              "85.51"
            ]
          },
          "metadata": {
            "tags": []
          },
          "execution_count": 46
        }
      ]
    },
    {
      "cell_type": "markdown",
      "metadata": {
        "colab_type": "text",
        "id": "kddHGGlhx9Ba"
      },
      "source": [
        "#### Seed 1"
      ]
    },
    {
      "cell_type": "code",
      "metadata": {
        "colab_type": "code",
        "outputId": "392cea94-aa76-4185-cab4-6a69f9b55917",
        "id": "ViecEePFz2Xr",
        "colab": {
          "base_uri": "https://localhost:8080/",
          "height": 34
        }
      },
      "source": [
        "seed=\"1\"\n",
        "Teacher=\"WRN-16-2\"\n",
        "Student=\"WRN-16-1\"\n",
        "d = 16\n",
        "k = 1\n",
        "strides = [1, 1, 2, 2]\n",
        "net = WideResNet(d=d, k=k, n_classes=10, input_features=3, output_features=16, strides=strides).to(device)\n",
        "net.load_state_dict(torch.load('./CIFAR10/'+Teacher+'-'+Student+'-M200/Seed-'+seed+'/kd_att_teacher_'+Teacher.lower()+'_student_'+Student.lower()+'-M-200-seed-'+seed+'-CIFAR10-dict.pth',map_location=device))\n",
        "accuracy = _test_set_eval(net, device, cifar_testloader)\n",
        "accuracy "
      ],
      "execution_count": 47,
      "outputs": [
        {
          "output_type": "execute_result",
          "data": {
            "text/plain": [
              "85.26"
            ]
          },
          "metadata": {
            "tags": []
          },
          "execution_count": 47
        }
      ]
    },
    {
      "cell_type": "markdown",
      "metadata": {
        "colab_type": "text",
        "id": "4YjgjxX1x66K"
      },
      "source": [
        "#### Seed 2"
      ]
    },
    {
      "cell_type": "code",
      "metadata": {
        "colab_type": "code",
        "outputId": "96e2034c-5a44-4a76-ccb1-84670ef79b11",
        "id": "5A7FNFwoz25q",
        "colab": {
          "base_uri": "https://localhost:8080/",
          "height": 34
        }
      },
      "source": [
        "seed=\"2\"\n",
        "Teacher=\"WRN-16-2\"\n",
        "Student=\"WRN-16-1\"\n",
        "d = 16\n",
        "k = 1\n",
        "strides = [1, 1, 2, 2]\n",
        "net = WideResNet(d=d, k=k, n_classes=10, input_features=3, output_features=16, strides=strides).to(device)\n",
        "net.load_state_dict(torch.load('./CIFAR10/'+Teacher+'-'+Student+'-M200/Seed-'+seed+'/kd_att_teacher_'+Teacher.lower()+'_student_'+Student.lower()+'-M-200-seed-'+seed+'-CIFAR10-dict.pth',map_location=device))\n",
        "accuracy = _test_set_eval(net, device, cifar_testloader)\n",
        "accuracy "
      ],
      "execution_count": 48,
      "outputs": [
        {
          "output_type": "execute_result",
          "data": {
            "text/plain": [
              "85.89"
            ]
          },
          "metadata": {
            "tags": []
          },
          "execution_count": 48
        }
      ]
    },
    {
      "cell_type": "markdown",
      "metadata": {
        "colab_type": "text",
        "id": "ZEoRrHCcxcEl"
      },
      "source": [
        "#### KD-ATT - Teacher WRN-40-1 Student WRN-16-1 M = 200"
      ]
    },
    {
      "cell_type": "markdown",
      "metadata": {
        "colab_type": "text",
        "id": "8qnfCrogx_vY"
      },
      "source": [
        "#### Seed 0"
      ]
    },
    {
      "cell_type": "code",
      "metadata": {
        "colab_type": "code",
        "outputId": "7be21685-6378-4008-f8f8-7e405d9f1636",
        "id": "iH3WzrzHz3O5",
        "colab": {
          "base_uri": "https://localhost:8080/",
          "height": 34
        }
      },
      "source": [
        "seed=\"0\"\n",
        "Teacher=\"WRN-40-1\"\n",
        "Student=\"WRN-16-1\"\n",
        "d = 16\n",
        "k = 1\n",
        "strides = [1, 1, 2, 2]\n",
        "net = WideResNet(d=d, k=k, n_classes=10, input_features=3, output_features=16, strides=strides).to(device)\n",
        "net.load_state_dict(torch.load('./CIFAR10/'+Teacher+'-'+Student+'-M200/Seed-'+seed+'/kd_att_teacher_'+Teacher.lower()+'_student_'+Student.lower()+'-M-200-seed-'+seed+'-CIFAR10-dict.pth',map_location=device))\n",
        "accuracy = _test_set_eval(net, device, cifar_testloader)\n",
        "accuracy "
      ],
      "execution_count": 49,
      "outputs": [
        {
          "output_type": "execute_result",
          "data": {
            "text/plain": [
              "83.9"
            ]
          },
          "metadata": {
            "tags": []
          },
          "execution_count": 49
        }
      ]
    },
    {
      "cell_type": "markdown",
      "metadata": {
        "colab_type": "text",
        "id": "vF0C2OYhx9LI"
      },
      "source": [
        "#### Seed 1"
      ]
    },
    {
      "cell_type": "code",
      "metadata": {
        "colab_type": "code",
        "outputId": "546c1cd1-457d-45f1-ef1c-5ff13d21183b",
        "id": "pIqHl5q5z3k4",
        "colab": {
          "base_uri": "https://localhost:8080/",
          "height": 34
        }
      },
      "source": [
        "seed=\"1\"\n",
        "Teacher=\"WRN-40-1\"\n",
        "Student=\"WRN-16-1\"\n",
        "d = 16\n",
        "k = 1\n",
        "strides = [1, 1, 2, 2]\n",
        "net = WideResNet(d=d, k=k, n_classes=10, input_features=3, output_features=16, strides=strides).to(device)\n",
        "net.load_state_dict(torch.load('./CIFAR10/'+Teacher+'-'+Student+'-M200/Seed-'+seed+'/kd_att_teacher_'+Teacher.lower()+'_student_'+Student.lower()+'-M-200-seed-'+seed+'-CIFAR10-dict.pth',map_location=device))\n",
        "accuracy = _test_set_eval(net, device, cifar_testloader)\n",
        "accuracy "
      ],
      "execution_count": 50,
      "outputs": [
        {
          "output_type": "execute_result",
          "data": {
            "text/plain": [
              "83.35"
            ]
          },
          "metadata": {
            "tags": []
          },
          "execution_count": 50
        }
      ]
    },
    {
      "cell_type": "markdown",
      "metadata": {
        "colab_type": "text",
        "id": "6P1p6URMx7Eh"
      },
      "source": [
        "#### Seed 2"
      ]
    },
    {
      "cell_type": "code",
      "metadata": {
        "colab_type": "code",
        "outputId": "3fe5f0ed-5a21-407b-fbc3-b6d32e386f03",
        "id": "ir76Wc_Mz31K",
        "colab": {
          "base_uri": "https://localhost:8080/",
          "height": 34
        }
      },
      "source": [
        "seed=\"2\"\n",
        "Teacher=\"WRN-40-1\"\n",
        "Student=\"WRN-16-1\"\n",
        "d = 16\n",
        "k = 1\n",
        "strides = [1, 1, 2, 2]\n",
        "net = WideResNet(d=d, k=k, n_classes=10, input_features=3, output_features=16, strides=strides).to(device)\n",
        "net.load_state_dict(torch.load('./CIFAR10/'+Teacher+'-'+Student+'-M200/Seed-'+seed+'/kd_att_teacher_'+Teacher.lower()+'_student_'+Student.lower()+'-M-200-seed-'+seed+'-CIFAR10-dict.pth',map_location=device))\n",
        "accuracy = _test_set_eval(net, device, cifar_testloader)\n",
        "accuracy "
      ],
      "execution_count": 51,
      "outputs": [
        {
          "output_type": "execute_result",
          "data": {
            "text/plain": [
              "83.67"
            ]
          },
          "metadata": {
            "tags": []
          },
          "execution_count": 51
        }
      ]
    },
    {
      "cell_type": "markdown",
      "metadata": {
        "colab_type": "text",
        "id": "0J8lBLBmxdBc"
      },
      "source": [
        "#### KD-ATT - Teacher WRN-40-1 Student WRN-16-2 M = 200"
      ]
    },
    {
      "cell_type": "markdown",
      "metadata": {
        "colab_type": "text",
        "id": "Pg0yTowux_-h"
      },
      "source": [
        "#### Seed 0"
      ]
    },
    {
      "cell_type": "code",
      "metadata": {
        "colab_type": "code",
        "outputId": "16ec8637-1f3a-4296-fa17-1822c2cdc23a",
        "id": "gJyucJlQz4GS",
        "colab": {
          "base_uri": "https://localhost:8080/",
          "height": 34
        }
      },
      "source": [
        "seed=\"0\"\n",
        "Teacher=\"WRN-40-1\"\n",
        "Student=\"WRN-16-2\"\n",
        "d = 16\n",
        "k = 2\n",
        "strides = [1, 1, 2, 2]\n",
        "net = WideResNet(d=d, k=k, n_classes=10, input_features=3, output_features=16, strides=strides).to(device)\n",
        "net.load_state_dict(torch.load('./CIFAR10/'+Teacher+'-'+Student+'-M200/Seed-'+seed+'/kd_att_teacher_'+Teacher.lower()+'_student_'+Student.lower()+'-M-200-seed-'+seed+'-CIFAR10-dict.pth',map_location=device))\n",
        "accuracy = _test_set_eval(net, device, cifar_testloader)\n",
        "accuracy "
      ],
      "execution_count": 52,
      "outputs": [
        {
          "output_type": "execute_result",
          "data": {
            "text/plain": [
              "87.52"
            ]
          },
          "metadata": {
            "tags": []
          },
          "execution_count": 52
        }
      ]
    },
    {
      "cell_type": "markdown",
      "metadata": {
        "colab_type": "text",
        "id": "9dHwZgmmx9Xh"
      },
      "source": [
        "#### Seed 1"
      ]
    },
    {
      "cell_type": "code",
      "metadata": {
        "colab_type": "code",
        "outputId": "f1995e2f-bb60-4fec-bb5b-4c7cac73dc8e",
        "id": "lfzJoOtEz4Wq",
        "colab": {
          "base_uri": "https://localhost:8080/",
          "height": 34
        }
      },
      "source": [
        "seed=\"1\"\n",
        "Teacher=\"WRN-40-1\"\n",
        "Student=\"WRN-16-2\"\n",
        "d = 16\n",
        "k = 2\n",
        "strides = [1, 1, 2, 2]\n",
        "net = WideResNet(d=d, k=k, n_classes=10, input_features=3, output_features=16, strides=strides).to(device)\n",
        "net.load_state_dict(torch.load('./CIFAR10/'+Teacher+'-'+Student+'-M200/Seed-'+seed+'/kd_att_teacher_'+Teacher.lower()+'_student_'+Student.lower()+'-M-200-seed-'+seed+'-CIFAR10-dict.pth',map_location=device))\n",
        "accuracy = _test_set_eval(net, device, cifar_testloader)\n",
        "accuracy "
      ],
      "execution_count": 53,
      "outputs": [
        {
          "output_type": "execute_result",
          "data": {
            "text/plain": [
              "87.14"
            ]
          },
          "metadata": {
            "tags": []
          },
          "execution_count": 53
        }
      ]
    },
    {
      "cell_type": "markdown",
      "metadata": {
        "colab_type": "text",
        "id": "1G1a4YIGx7OI"
      },
      "source": [
        "#### Seed 2"
      ]
    },
    {
      "cell_type": "code",
      "metadata": {
        "colab_type": "code",
        "outputId": "71b0bd1c-2aff-479c-bc4c-13f31f1336d5",
        "id": "P45DSnOTz4my",
        "colab": {
          "base_uri": "https://localhost:8080/",
          "height": 34
        }
      },
      "source": [
        "seed=\"2\"\n",
        "Teacher=\"WRN-40-1\"\n",
        "Student=\"WRN-16-2\"\n",
        "d = 16\n",
        "k = 2\n",
        "strides = [1, 1, 2, 2]\n",
        "net = WideResNet(d=d, k=k, n_classes=10, input_features=3, output_features=16, strides=strides).to(device)\n",
        "net.load_state_dict(torch.load('./CIFAR10/'+Teacher+'-'+Student+'-M200/Seed-'+seed+'/kd_att_teacher_'+Teacher.lower()+'_student_'+Student.lower()+'-M-200-seed-'+seed+'-CIFAR10-dict.pth',map_location=device))\n",
        "accuracy = _test_set_eval(net, device, cifar_testloader)\n",
        "accuracy "
      ],
      "execution_count": 54,
      "outputs": [
        {
          "output_type": "execute_result",
          "data": {
            "text/plain": [
              "87.13"
            ]
          },
          "metadata": {
            "tags": []
          },
          "execution_count": 54
        }
      ]
    },
    {
      "cell_type": "markdown",
      "metadata": {
        "colab_type": "text",
        "id": "YPqHcJF1xdSr"
      },
      "source": [
        "#### KD-ATT - Teacher WRN-40-2 Student WRN-16-2 M = 200"
      ]
    },
    {
      "cell_type": "markdown",
      "metadata": {
        "colab_type": "text",
        "id": "gx3u8j2_yAPp"
      },
      "source": [
        "#### Seed 0"
      ]
    },
    {
      "cell_type": "code",
      "metadata": {
        "colab_type": "code",
        "outputId": "3bfc7802-24d7-42e3-bf98-59f7fb466dab",
        "id": "vUt4UgMCz45z",
        "colab": {
          "base_uri": "https://localhost:8080/",
          "height": 34
        }
      },
      "source": [
        "seed=\"0\"\n",
        "Teacher=\"WRN-40-2\"\n",
        "Student=\"WRN-16-2\"\n",
        "d = 16\n",
        "k = 2\n",
        "strides = [1, 1, 2, 2]\n",
        "net = WideResNet(d=d, k=k, n_classes=10, input_features=3, output_features=16, strides=strides).to(device)\n",
        "net.load_state_dict(torch.load('./CIFAR10/'+Teacher+'-'+Student+'-M200/Seed-'+seed+'/kd_att_teacher_'+Teacher.lower()+'_student_'+Student.lower()+'-M-200-seed-'+seed+'-CIFAR10-dict.pth',map_location=device))\n",
        "accuracy = _test_set_eval(net, device, cifar_testloader)\n",
        "accuracy "
      ],
      "execution_count": 55,
      "outputs": [
        {
          "output_type": "execute_result",
          "data": {
            "text/plain": [
              "87.15"
            ]
          },
          "metadata": {
            "tags": []
          },
          "execution_count": 55
        }
      ]
    },
    {
      "cell_type": "markdown",
      "metadata": {
        "colab_type": "text",
        "id": "W6Du0T8Hx9qx"
      },
      "source": [
        "#### Seed 1"
      ]
    },
    {
      "cell_type": "code",
      "metadata": {
        "colab_type": "code",
        "outputId": "066ff7d8-de8c-46fe-8d11-c528b0bc2be9",
        "id": "sHcZX60nz5Ji",
        "colab": {
          "base_uri": "https://localhost:8080/",
          "height": 34
        }
      },
      "source": [
        "seed=\"1\"\n",
        "Teacher=\"WRN-40-2\"\n",
        "Student=\"WRN-16-2\"\n",
        "d = 16\n",
        "k = 2\n",
        "strides = [1, 1, 2, 2]\n",
        "net = WideResNet(d=d, k=k, n_classes=10, input_features=3, output_features=16, strides=strides).to(device)\n",
        "net.load_state_dict(torch.load('./CIFAR10/'+Teacher+'-'+Student+'-M200/Seed-'+seed+'/kd_att_teacher_'+Teacher.lower()+'_student_'+Student.lower()+'-M-200-seed-'+seed+'-CIFAR10-dict.pth',map_location=device))\n",
        "accuracy = _test_set_eval(net, device, cifar_testloader)\n",
        "accuracy "
      ],
      "execution_count": 56,
      "outputs": [
        {
          "output_type": "execute_result",
          "data": {
            "text/plain": [
              "86.49"
            ]
          },
          "metadata": {
            "tags": []
          },
          "execution_count": 56
        }
      ]
    },
    {
      "cell_type": "markdown",
      "metadata": {
        "colab_type": "text",
        "id": "kvYB2t2Dx7XB"
      },
      "source": [
        "#### Seed 2"
      ]
    },
    {
      "cell_type": "code",
      "metadata": {
        "colab_type": "code",
        "outputId": "91b4d5f6-7f3a-4537-e49c-fb0953cb2297",
        "id": "DXIWwVTRz5aj",
        "colab": {
          "base_uri": "https://localhost:8080/",
          "height": 34
        }
      },
      "source": [
        "seed=\"2\"\n",
        "Teacher=\"WRN-40-2\"\n",
        "Student=\"WRN-16-2\"\n",
        "d = 16\n",
        "k = 2\n",
        "strides = [1, 1, 2, 2]\n",
        "net = WideResNet(d=d, k=k, n_classes=10, input_features=3, output_features=16, strides=strides).to(device)\n",
        "net.load_state_dict(torch.load('./CIFAR10/'+Teacher+'-'+Student+'-M200/Seed-'+seed+'/kd_att_teacher_'+Teacher.lower()+'_student_'+Student.lower()+'-M-200-seed-'+seed+'-CIFAR10-dict.pth',map_location=device))\n",
        "accuracy = _test_set_eval(net, device, cifar_testloader)\n",
        "accuracy "
      ],
      "execution_count": 57,
      "outputs": [
        {
          "output_type": "execute_result",
          "data": {
            "text/plain": [
              "88.18"
            ]
          },
          "metadata": {
            "tags": []
          },
          "execution_count": 57
        }
      ]
    },
    {
      "cell_type": "markdown",
      "metadata": {
        "colab_type": "text",
        "id": "ZMtTxiSBxdYQ"
      },
      "source": [
        "#### KD-ATT - Teacher WRN-40-2 Student WRN-40-1 M = 200"
      ]
    },
    {
      "cell_type": "markdown",
      "metadata": {
        "colab_type": "text",
        "id": "SfXwdwvgyAjZ"
      },
      "source": [
        "#### Seed 0"
      ]
    },
    {
      "cell_type": "code",
      "metadata": {
        "colab_type": "code",
        "outputId": "a272501c-e7eb-4929-90ab-52be384adcf6",
        "id": "nE0AeUBqz5rx",
        "colab": {
          "base_uri": "https://localhost:8080/",
          "height": 34
        }
      },
      "source": [
        "seed=\"0\"\n",
        "Teacher=\"WRN-40-2\"\n",
        "Student=\"WRN-40-1\"\n",
        "d = 40\n",
        "k = 1\n",
        "strides = [1, 1, 2, 2]\n",
        "net = WideResNet(d=d, k=k, n_classes=10, input_features=3, output_features=16, strides=strides).to(device)\n",
        "net.load_state_dict(torch.load('./CIFAR10/'+Teacher+'-'+Student+'-M200/Seed-'+seed+'/kd_att_teacher_'+Teacher.lower()+'_student_'+Student.lower()+'-M-200-seed-'+seed+'-CIFAR10-dict.pth',map_location=device))\n",
        "accuracy = _test_set_eval(net, device, cifar_testloader)\n",
        "accuracy "
      ],
      "execution_count": 58,
      "outputs": [
        {
          "output_type": "execute_result",
          "data": {
            "text/plain": [
              "88.18"
            ]
          },
          "metadata": {
            "tags": []
          },
          "execution_count": 58
        }
      ]
    },
    {
      "cell_type": "markdown",
      "metadata": {
        "colab_type": "text",
        "id": "wIPn_PaNx9_B"
      },
      "source": [
        "#### Seed 1"
      ]
    },
    {
      "cell_type": "code",
      "metadata": {
        "colab_type": "code",
        "outputId": "55a76b15-81b1-4f05-b28e-566454ce466f",
        "id": "BPPcAL8Mz59K",
        "colab": {
          "base_uri": "https://localhost:8080/",
          "height": 34
        }
      },
      "source": [
        "seed=\"1\"\n",
        "Teacher=\"WRN-40-2\"\n",
        "Student=\"WRN-40-1\"\n",
        "d = 40\n",
        "k = 1\n",
        "strides = [1, 1, 2, 2]\n",
        "net = WideResNet(d=d, k=k, n_classes=10, input_features=3, output_features=16, strides=strides).to(device)\n",
        "net.load_state_dict(torch.load('./CIFAR10/'+Teacher+'-'+Student+'-M200/Seed-'+seed+'/kd_att_teacher_'+Teacher.lower()+'_student_'+Student.lower()+'-M-200-seed-'+seed+'-CIFAR10-dict.pth',map_location=device))\n",
        "accuracy = _test_set_eval(net, device, cifar_testloader)\n",
        "accuracy "
      ],
      "execution_count": 59,
      "outputs": [
        {
          "output_type": "execute_result",
          "data": {
            "text/plain": [
              "87.77"
            ]
          },
          "metadata": {
            "tags": []
          },
          "execution_count": 59
        }
      ]
    },
    {
      "cell_type": "markdown",
      "metadata": {
        "colab_type": "text",
        "id": "2t_498kFx7hI"
      },
      "source": [
        "#### Seed 2"
      ]
    },
    {
      "cell_type": "code",
      "metadata": {
        "colab_type": "code",
        "outputId": "09e1f251-44f8-444a-98ea-b5cd9ee548f3",
        "id": "9HqTDviqz6Oh",
        "colab": {
          "base_uri": "https://localhost:8080/",
          "height": 34
        }
      },
      "source": [
        "seed=\"2\"\n",
        "Teacher=\"WRN-40-2\"\n",
        "Student=\"WRN-40-1\"\n",
        "d = 40\n",
        "k = 1\n",
        "strides = [1, 1, 2, 2]\n",
        "net = WideResNet(d=d, k=k, n_classes=10, input_features=3, output_features=16, strides=strides).to(device)\n",
        "net.load_state_dict(torch.load('./CIFAR10/'+Teacher+'-'+Student+'-M200/Seed-'+seed+'/kd_att_teacher_'+Teacher.lower()+'_student_'+Student.lower()+'-M-200-seed-'+seed+'-CIFAR10-dict.pth',map_location=device))\n",
        "accuracy = _test_set_eval(net, device, cifar_testloader)\n",
        "accuracy "
      ],
      "execution_count": 60,
      "outputs": [
        {
          "output_type": "execute_result",
          "data": {
            "text/plain": [
              "89.29"
            ]
          },
          "metadata": {
            "tags": []
          },
          "execution_count": 60
        }
      ]
    },
    {
      "cell_type": "code",
      "metadata": {
        "id": "IDSGtyjSsadr",
        "colab_type": "code",
        "colab": {}
      },
      "source": [
        ""
      ],
      "execution_count": 0,
      "outputs": []
    }
  ]
}