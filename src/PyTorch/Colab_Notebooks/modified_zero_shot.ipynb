{
  "nbformat": 4,
  "nbformat_minor": 0,
  "metadata": {
    "colab": {
      "name": "modified_zero_shot.ipynb",
      "provenance": [],
      "collapsed_sections": [],
      "toc_visible": true
    },
    "kernelspec": {
      "name": "python3",
      "display_name": "Python 3"
    },
    "accelerator": "GPU"
  },
  "cells": [
    {
      "cell_type": "markdown",
      "metadata": {
        "id": "VZrjOZodoSNw",
        "colab_type": "text"
      },
      "source": [
        "#### Get Scratches from Google Drive"
      ]
    },
    {
      "cell_type": "code",
      "metadata": {
        "id": "dHdhy4B4pdn8",
        "colab_type": "code",
        "collapsed": true,
        "outputId": "d97cdf57-b0b0-4f18-c0ca-6574b542f16a",
        "colab": {
          "base_uri": "https://localhost:8080/",
          "height": 1000
        }
      },
      "source": [
        "\n",
        "!wget -O modified_Zero_Shot --no-check-certificate https://www.dropbox.com/sh/5oxfl1xisskw0ub/AAB8wpAH3AslQxiyPxbzUhr0a?dl=0\n",
        "!unzip modified_Zero_Shot\n",
        "!rm modified_Zero_Shot\n"
      ],
      "execution_count": 1,
      "outputs": [
        {
          "output_type": "stream",
          "text": [
            "--2019-11-06 19:09:13--  https://www.dropbox.com/sh/5oxfl1xisskw0ub/AAB8wpAH3AslQxiyPxbzUhr0a?dl=0\n",
            "Resolving www.dropbox.com (www.dropbox.com)... 162.125.8.1, 2620:100:601b:1::a27d:801\n",
            "Connecting to www.dropbox.com (www.dropbox.com)|162.125.8.1|:443... connected.\n",
            "HTTP request sent, awaiting response... 301 Moved Permanently\n",
            "Location: /sh/raw/5oxfl1xisskw0ub/AAB8wpAH3AslQxiyPxbzUhr0a [following]\n",
            "--2019-11-06 19:09:14--  https://www.dropbox.com/sh/raw/5oxfl1xisskw0ub/AAB8wpAH3AslQxiyPxbzUhr0a\n",
            "Reusing existing connection to www.dropbox.com:443.\n",
            "HTTP request sent, awaiting response... 302 Found\n",
            "Location: https://uc57cd5f4a36c0a167cba88e6031.dl.dropboxusercontent.com/zip_by_token_key?key=Ar1BagEdnj1LpVeopV9yqLvx44N3PmaCJnZ3JOndGdlh6iqd-UXLaXgU5fGgaYH6vekV_7i2ZhTWbFHF8xs7rBa1kOdZrdceMp-kjaz1Dl7r_F_InnTvqO-JA7kb1EqqtQedvXjwtjve_8qS_m2sXPYzXYeB-uc_jrXJGf7qE0d3xt4irY7mEsa8AQrCrnxZbDsQmXhznrSyG_uibpWS47inBrRNfplg0fWzWCtwNuvfX-pz4Zf1u5GOTzwNqkTFBZg [following]\n",
            "--2019-11-06 19:09:14--  https://uc57cd5f4a36c0a167cba88e6031.dl.dropboxusercontent.com/zip_by_token_key?key=Ar1BagEdnj1LpVeopV9yqLvx44N3PmaCJnZ3JOndGdlh6iqd-UXLaXgU5fGgaYH6vekV_7i2ZhTWbFHF8xs7rBa1kOdZrdceMp-kjaz1Dl7r_F_InnTvqO-JA7kb1EqqtQedvXjwtjve_8qS_m2sXPYzXYeB-uc_jrXJGf7qE0d3xt4irY7mEsa8AQrCrnxZbDsQmXhznrSyG_uibpWS47inBrRNfplg0fWzWCtwNuvfX-pz4Zf1u5GOTzwNqkTFBZg\n",
            "Resolving uc57cd5f4a36c0a167cba88e6031.dl.dropboxusercontent.com (uc57cd5f4a36c0a167cba88e6031.dl.dropboxusercontent.com)... 162.125.8.6, 2620:100:6018:6::a27d:306\n",
            "Connecting to uc57cd5f4a36c0a167cba88e6031.dl.dropboxusercontent.com (uc57cd5f4a36c0a167cba88e6031.dl.dropboxusercontent.com)|162.125.8.6|:443... connected.\n",
            "HTTP request sent, awaiting response... 200 OK\n",
            "Length: unspecified [application/zip]\n",
            "Saving to: ‘modified_Zero_Shot’\n",
            "\n",
            "modified_Zero_Shot      [   <=>              ] 101.76M  9.56MB/s    in 11s     \n",
            "\n",
            "2019-11-06 19:09:26 (9.46 MB/s) - ‘modified_Zero_Shot’ saved [106703458]\n",
            "\n",
            "Archive:  modified_Zero_Shot\n",
            "warning:  stripped absolute path spec from /\n",
            "mapname:  conversion of  failed\n",
            "   creating: CIFAR10/\n",
            "   creating: CIFAR10-Generators/\n",
            "   creating: CIFAR10/WRN-40-2-WRN-40-1/\n",
            "   creating: CIFAR10/WRN-40-2-WRN-16-2/\n",
            "   creating: CIFAR10/WRN-40-2-WRN-16-1/\n",
            "   creating: CIFAR10/WRN-40-1-WRN-16-2/\n",
            "   creating: CIFAR10/WRN-40-1-WRN-16-1/\n",
            "   creating: CIFAR10/WRN-16-2-WRN-16-1/\n",
            "   creating: CIFAR10/WRN-40-1-WRN-16-1/Seed-1/\n",
            "   creating: CIFAR10/WRN-40-1-WRN-16-1/Seed-0/\n",
            "   creating: CIFAR10/WRN-40-1-WRN-16-2/Seed-1/\n",
            "   creating: CIFAR10/WRN-40-1-WRN-16-2/Seed-2/\n",
            "   creating: CIFAR10/WRN-40-1-WRN-16-2/Seed-0/\n",
            "   creating: CIFAR10/WRN-16-2-WRN-16-1/Seed-1/\n",
            "   creating: CIFAR10/WRN-40-1-WRN-16-1/Seed-2/\n",
            "   creating: CIFAR10/WRN-16-2-WRN-16-1/Seed-2/\n",
            "   creating: CIFAR10/WRN-40-2-WRN-16-1/Seed-2/\n",
            "   creating: CIFAR10/WRN-40-2-WRN-16-1/Seed-0/\n",
            "   creating: CIFAR10/WRN-40-2-WRN-16-1/Seed-1/\n",
            "   creating: CIFAR10/WRN-40-2-WRN-40-1/Seed-0/\n",
            "   creating: CIFAR10/WRN-16-2-WRN-16-1/Seed-0/\n",
            "   creating: CIFAR10/WRN-40-2-WRN-16-2/Seed-2/\n",
            "   creating: CIFAR10/WRN-40-2-WRN-16-2/Seed-1/\n",
            "   creating: CIFAR10/WRN-40-2-WRN-16-2/Seed-0/\n",
            "   creating: CIFAR10/WRN-40-2-WRN-40-1/Seed-1/\n",
            "   creating: CIFAR10/WRN-40-2-WRN-40-1/Seed-2/\n",
            " extracting: CIFAR10/reproducibility_zero_shot_teacher_wrn-40-2_student_wrn-16-1-M-0-seed-0-CIFAR10-dict.pth  \n",
            " extracting: CIFAR10-Generators/zero_shot_teacher_wrn-40-2_student_wrn-16-1-M-0-seed-0-CIFAR10-generator-dict.pth  \n",
            " extracting: CIFAR10-Generators/zero_shot_teacher_wrn-40-2_student_wrn-16-2-M-0-seed-0-CIFAR10-generator-dict.pth  \n",
            " extracting: CIFAR10-Generators/zero_shot_teacher_wrn-40-1_student_wrn-16-1-M-0-seed-2-CIFAR10-generator-dict.pth  \n",
            " extracting: CIFAR10-Generators/zero_shot_teacher_wrn-40-2_student_wrn-40-1-M-0-seed-1-CIFAR10-generator-dict.pth  \n",
            " extracting: CIFAR10-Generators/zero_shot_teacher_wrn-40-2_student_wrn-40-1-M-0-seed-0-CIFAR10-generator-dict.pth  \n",
            " extracting: CIFAR10-Generators/zero_shot_teacher_wrn-16-2_student_wrn-16-1-M-0-seed-0-CIFAR10-generator-dict.pth  \n",
            " extracting: CIFAR10-Generators/zero_shot_teacher_wrn-40-1_student_wrn-16-2-M-0-seed-2-CIFAR10-generator-dict.pth  \n",
            " extracting: CIFAR10-Generators/zero_shot_teacher_wrn-40-2_student_wrn-16-1-M-0-seed-1-CIFAR10-generator-dict.pth  \n",
            " extracting: CIFAR10-Generators/zero_shot_teacher_wrn-40-2_student_wrn-16-2-M-0-seed-1-CIFAR10-generator-dict.pth  \n",
            " extracting: CIFAR10-Generators/zero_shot_teacher_wrn-40-1_student_wrn-16-2-M-0-seed-1-CIFAR10-generator-dict.pth  \n",
            " extracting: CIFAR10-Generators/zero_shot_teacher_wrn-40-1_student_wrn-16-1-M-0-seed-0-CIFAR10-generator-dict.pth  \n",
            " extracting: CIFAR10-Generators/zero_shot_teacher_wrn-40-1_student_wrn-16-1-M-0-seed-1-CIFAR10-generator-dict.pth  \n",
            " extracting: CIFAR10-Generators/zero_shot_teacher_wrn-16-2_student_wrn-16-1-M-0-seed-2-CIFAR10-generator-dict.pth  \n",
            " extracting: CIFAR10-Generators/zero_shot_teacher_wrn-40-2_student_wrn-40-1-M-0-seed-2-CIFAR10-generator-dict.pth  \n",
            " extracting: CIFAR10-Generators/zero_shot_teacher_wrn-40-2_student_wrn-16-1-M-0-seed-2-CIFAR10-generator-dict.pth  \n",
            " extracting: CIFAR10-Generators/zero_shot_teacher_wrn-16-2_student_wrn-16-1-M-0-seed-1-CIFAR10-generator-dict.pth  \n",
            " extracting: CIFAR10-Generators/zero_shot_teacher_wrn-40-1_student_wrn-16-2-M-0-seed-0-CIFAR10-generator-dict.pth  \n",
            " extracting: CIFAR10-Generators/zero_shot_teacher_wrn-40-2_student_wrn-16-2-M-0-seed-2-CIFAR10-generator-dict.pth  \n",
            " extracting: CIFAR10/WRN-40-1-WRN-16-1/Seed-1/zero_shot_teacher_wrn-40-1_student_wrn-16-1-M-0-seed-1-CIFAR10-dict.pth  \n",
            " extracting: CIFAR10/WRN-40-1-WRN-16-2/Seed-1/zero_shot_teacher_wrn-40-1_student_wrn-16-2-M-0-seed-1-CIFAR10-dict.pth  \n",
            " extracting: CIFAR10/WRN-16-2-WRN-16-1/Seed-2/zero_shot_teacher_wrn-16-2_student_wrn-16-1-M-0-seed-2-CIFAR10-dict.pth  \n",
            " extracting: CIFAR10/WRN-40-2-WRN-40-1/Seed-0/zero_shot_teacher_wrn-40-2_student_wrn-40-1-M-0-seed-0-CIFAR10-dict.pth  \n",
            " extracting: CIFAR10/WRN-40-2-WRN-40-1/Seed-2/zero_shot_teacher_wrn-40-2_student_wrn-40-1-M-0-seed-2-CIFAR10-dict.pth  \n",
            " extracting: CIFAR10/WRN-40-2-WRN-16-1/Seed-1/zero_shot_teacher_wrn-40-2_student_wrn-16-1-M-0-seed-1-CIFAR10-dict.pth  \n",
            " extracting: CIFAR10/WRN-40-1-WRN-16-2/Seed-0/zero_shot_teacher_wrn-40-1_student_wrn-16-2-M-0-seed-0-CIFAR10-dict.pth  \n",
            " extracting: CIFAR10/WRN-40-2-WRN-16-1/Seed-2/zero_shot_teacher_wrn-40-2_student_wrn-16-1-M-0-seed-2-CIFAR10-dict.pth  \n",
            " extracting: CIFAR10/WRN-16-2-WRN-16-1/Seed-1/zero_shot_teacher_wrn-16-2_student_wrn-16-1-M-0-seed-1-CIFAR10-dict.pth  \n",
            " extracting: CIFAR10/WRN-40-1-WRN-16-1/Seed-0/zero_shot_teacher_wrn-40-1_student_wrn-16-1-M-0-seed-0-CIFAR10-dict.pth  \n",
            " extracting: CIFAR10/WRN-40-2-WRN-16-2/Seed-0/zero_shot_teacher_wrn-40-2_student_wrn-16-2-M-0-seed-0-CIFAR10-dict.pth  \n",
            " extracting: CIFAR10/WRN-40-1-WRN-16-2/Seed-2/zero_shot_teacher_wrn-40-1_student_wrn-16-2-M-0-seed-2-CIFAR10-dict.pth  \n",
            " extracting: CIFAR10/WRN-40-2-WRN-16-2/Seed-1/zero_shot_teacher_wrn-40-2_student_wrn-16-2-M-0-seed-1-CIFAR10-dict.pth  \n",
            " extracting: CIFAR10/WRN-40-2-WRN-16-2/Seed-2/zero_shot_teacher_wrn-40-2_student_wrn-16-2-M-0-seed-2-CIFAR10-dict.pth  \n",
            " extracting: CIFAR10/WRN-16-2-WRN-16-1/Seed-0/zero_shot_teacher_wrn-16-2_student_wrn-16-1-M-0-seed-0-CIFAR10-dict.pth  \n",
            " extracting: CIFAR10/WRN-40-2-WRN-40-1/Seed-1/zero_shot_teacher_wrn-40-2_student_wrn-40-1-M-0-seed-1-CIFAR10-dict.pth  \n",
            " extracting: CIFAR10/WRN-40-1-WRN-16-1/Seed-2/zero_shot_teacher_wrn-40-1_student_wrn-16-1-M-0-seed-2-CIFAR10-dict.pth  \n",
            " extracting: CIFAR10/WRN-40-2-WRN-16-1/Seed-0/zero_shot_teacher_wrn-40-2_student_wrn-16-1-M-0-seed-0-CIFAR10-dict.pth  \n"
          ],
          "name": "stdout"
        }
      ]
    },
    {
      "cell_type": "code",
      "metadata": {
        "id": "fyzdJlvY1f0b",
        "colab_type": "code",
        "colab": {}
      },
      "source": [
        "import torch\n",
        "import torchvision\n",
        "from torch import nn as nn\n",
        "from torchvision import transforms\n",
        "device = torch.device('cuda:0')"
      ],
      "execution_count": 0,
      "outputs": []
    },
    {
      "cell_type": "code",
      "metadata": {
        "id": "04rUOR8D2J8K",
        "colab_type": "code",
        "colab": {}
      },
      "source": [
        "class IndividualBlock1(nn.Module):\n",
        "\n",
        "    def __init__(self, input_features, output_features, stride, subsample_input=True, increase_filters=True):\n",
        "        super(IndividualBlock1, self).__init__()\n",
        "\n",
        "        self.activation = nn.ReLU(inplace=True)\n",
        "\n",
        "        self.batch_norm1 = nn.BatchNorm2d(input_features)\n",
        "        self.batch_norm2 = nn.BatchNorm2d(output_features)\n",
        "\n",
        "        self.conv1 = nn.Conv2d(input_features, output_features, kernel_size=3, stride=stride, padding=1, bias=False)\n",
        "        self.conv2 = nn.Conv2d(output_features, output_features, kernel_size=3, stride=1, padding=1, bias=False)\n",
        "\n",
        "        self.subsample_input = subsample_input\n",
        "        self.increase_filters = increase_filters\n",
        "        if subsample_input:\n",
        "            self.conv_inp = nn.Conv2d(input_features, output_features, kernel_size=1, stride=2, padding=0, bias=False)\n",
        "        elif increase_filters:\n",
        "            self.conv_inp = nn.Conv2d(input_features, output_features, kernel_size=1, stride=1, padding=0, bias=False)\n",
        "\n",
        "    def forward(self, x):\n",
        "\n",
        "        if self.subsample_input or self.increase_filters:\n",
        "            x = self.batch_norm1(x)\n",
        "            x = self.activation(x)\n",
        "            x1 = self.conv1(x)\n",
        "        else:\n",
        "            x1 = self.batch_norm1(x)\n",
        "            x1 = self.activation(x1)\n",
        "            x1 = self.conv1(x1)\n",
        "        x1 = self.batch_norm2(x1)\n",
        "        x1 = self.activation(x1)\n",
        "        x1 = self.conv2(x1)\n",
        "\n",
        "        if self.subsample_input or self.increase_filters:\n",
        "            return self.conv_inp(x) + x1\n",
        "        else:\n",
        "            return x + x1\n",
        "\n",
        "\n",
        "class IndividualBlockN(nn.Module):\n",
        "\n",
        "    def __init__(self, input_features, output_features, stride):\n",
        "        super(IndividualBlockN, self).__init__()\n",
        "\n",
        "        self.activation = nn.ReLU(inplace=True)\n",
        "\n",
        "        self.batch_norm1 = nn.BatchNorm2d(input_features)\n",
        "        self.batch_norm2 = nn.BatchNorm2d(output_features)\n",
        "\n",
        "        self.conv1 = nn.Conv2d(input_features, output_features, kernel_size=3, stride=stride, padding=1, bias=False)\n",
        "        self.conv2 = nn.Conv2d(output_features, output_features, kernel_size=3, stride=stride, padding=1, bias=False)\n",
        "\n",
        "    def forward(self, x):\n",
        "        x1 = self.batch_norm1(x)\n",
        "        x1 = self.activation(x1)\n",
        "        x1 = self.conv1(x1)\n",
        "        x1 = self.batch_norm2(x1)\n",
        "        x1 = self.activation(x1)\n",
        "        x1 = self.conv2(x1)\n",
        "\n",
        "        return x1 + x\n",
        "\n",
        "\n",
        "class Nblock(nn.Module):\n",
        "\n",
        "    def __init__(self, N, input_features, output_features, stride, subsample_input=True, increase_filters=True):\n",
        "        super(Nblock, self).__init__()\n",
        "\n",
        "        layers = []\n",
        "        for i in range(N):\n",
        "            if i == 0:\n",
        "                layers.append(IndividualBlock1(input_features, output_features, stride, subsample_input, increase_filters))\n",
        "            else:\n",
        "                layers.append(IndividualBlockN(output_features, output_features, stride=1))\n",
        "\n",
        "        self.nblockLayer = nn.Sequential(*layers)\n",
        "\n",
        "    def forward(self, x):\n",
        "        return self.nblockLayer(x)\n",
        "\n",
        "\n",
        "class WideResNet(nn.Module):\n",
        "\n",
        "    def __init__(self, d, k, n_classes, input_features, output_features, strides):\n",
        "        super(WideResNet, self).__init__()\n",
        "\n",
        "        self.conv1 = nn.Conv2d(input_features, output_features, kernel_size=3, stride=strides[0], padding=1, bias=False)\n",
        "\n",
        "        filters = [16 * k, 32 * k, 64 * k]\n",
        "        self.out_filters = filters[-1]\n",
        "        N = (d - 4) // 6\n",
        "        increase_filters = k > 1\n",
        "        self.block1 = Nblock(N, input_features=output_features, output_features=filters[0], stride=strides[1], subsample_input=False, increase_filters=increase_filters)\n",
        "        self.block2 = Nblock(N, input_features=filters[0], output_features=filters[1], stride=strides[2])\n",
        "        self.block3 = Nblock(N, input_features=filters[1], output_features=filters[2], stride=strides[3])\n",
        "\n",
        "        self.batch_norm = nn.BatchNorm2d(filters[-1])\n",
        "        self.activation = nn.ReLU(inplace=True)\n",
        "        self.avg_pool = nn.AvgPool2d(kernel_size=8)\n",
        "        self.fc = nn.Linear(filters[-1], n_classes)\n",
        "\n",
        "    def forward(self, x):\n",
        "\n",
        "        x = self.conv1(x)\n",
        "        attention1 = self.block1(x)\n",
        "        attention2 = self.block2(attention1)\n",
        "        attention3 = self.block3(attention2)\n",
        "        out = self.batch_norm(attention3)\n",
        "        out = self.activation(out)\n",
        "        out = self.avg_pool(out)\n",
        "        out = out.view(-1, self.out_filters)\n",
        "\n",
        "        return self.fc(out), attention1, attention2, attention3"
      ],
      "execution_count": 0,
      "outputs": []
    },
    {
      "cell_type": "code",
      "metadata": {
        "id": "uy3VXdQX2y_X",
        "colab_type": "code",
        "colab": {}
      },
      "source": [
        "def _test_set_eval(net, device, test_loader):\n",
        "    with torch.no_grad():\n",
        "        correct, total = 0, 0\n",
        "        net.eval()\n",
        "\n",
        "        for data in test_loader:\n",
        "            images, labels = data\n",
        "            images = images.to(device)\n",
        "            labels = labels.to(device)\n",
        "\n",
        "            outputs = net(images)[0]\n",
        "            _, predicted = torch.max(outputs.data, 1)\n",
        "            total += labels.size(0)\n",
        "            correct += (predicted == labels).sum().item()\n",
        "\n",
        "        accuracy = correct / total\n",
        "        accuracy = round(100 * accuracy, 2)\n",
        "\n",
        "        return accuracy"
      ],
      "execution_count": 0,
      "outputs": []
    },
    {
      "cell_type": "markdown",
      "metadata": {
        "id": "m_rP6paD6S_k",
        "colab_type": "text"
      },
      "source": [
        "# CIFAR10"
      ]
    },
    {
      "cell_type": "code",
      "metadata": {
        "id": "mIvlP9yx6WiV",
        "colab_type": "code",
        "outputId": "630a919a-07ce-447b-93fd-c2c709916fcf",
        "colab": {
          "base_uri": "https://localhost:8080/",
          "height": 88
        }
      },
      "source": [
        "cifar_normalize = transforms.Normalize((0.4914, 0.4822, 0.4465), (0.2023, 0.1994, 0.2010))\n",
        "\n",
        "cifar_transform = transforms.Compose([\n",
        "  transforms.ToTensor(),\n",
        "  cifar_normalize,\n",
        "])\n",
        "\n",
        "cifar_testset = torchvision.datasets.CIFAR10(root='./data', train=False, download=True, transform=cifar_transform)\n",
        "cifar_testloader = torch.utils.data.DataLoader(cifar_testset, batch_size=100, shuffle=False, num_workers=0)"
      ],
      "execution_count": 5,
      "outputs": [
        {
          "output_type": "stream",
          "text": [
            "  0%|          | 0/170498071 [00:00<?, ?it/s]"
          ],
          "name": "stderr"
        },
        {
          "output_type": "stream",
          "text": [
            "Downloading https://www.cs.toronto.edu/~kriz/cifar-10-python.tar.gz to ./data/cifar-10-python.tar.gz\n"
          ],
          "name": "stdout"
        },
        {
          "output_type": "stream",
          "text": [
            "170500096it [00:02, 76204897.08it/s]                               \n"
          ],
          "name": "stderr"
        },
        {
          "output_type": "stream",
          "text": [
            "Extracting ./data/cifar-10-python.tar.gz to ./data\n"
          ],
          "name": "stdout"
        }
      ]
    },
    {
      "cell_type": "markdown",
      "metadata": {
        "id": "8h3Aq-LasWZs",
        "colab_type": "text"
      },
      "source": [
        "#### Zero Shot - Teacher WRN-16-2  Student WRN-16-1"
      ]
    },
    {
      "cell_type": "markdown",
      "metadata": {
        "id": "dIxYH1SXscsr",
        "colab_type": "text"
      },
      "source": [
        "#### Seed 0"
      ]
    },
    {
      "cell_type": "code",
      "metadata": {
        "id": "u9jxQeshtG9f",
        "colab_type": "code",
        "outputId": "2fbcd346-ca1e-4fa6-f384-d72d895068d1",
        "colab": {
          "base_uri": "https://localhost:8080/",
          "height": 34
        }
      },
      "source": [
        "seed=\"0\"\n",
        "Teacher=\"WRN-16-2\"\n",
        "Student=\"WRN-16-1\"\n",
        "d = 16\n",
        "k = 1\n",
        "strides = [1, 1, 2, 2]\n",
        "net = WideResNet(d=d, k=k, n_classes=10, input_features=3, output_features=16, strides=strides).to(device)\n",
        "net.load_state_dict(torch.load('./CIFAR10/'+Teacher+'-'+Student+'/Seed-'+seed+'/zero_shot_teacher_'+Teacher.lower()+'_student_'+Student.lower()+'-M-0-seed-'+seed+'-CIFAR10-dict.pth',map_location=device))\n",
        "accuracy = _test_set_eval(net, device, cifar_testloader)\n",
        "accuracy  "
      ],
      "execution_count": 6,
      "outputs": [
        {
          "output_type": "execute_result",
          "data": {
            "text/plain": [
              "82.42"
            ]
          },
          "metadata": {
            "tags": []
          },
          "execution_count": 6
        }
      ]
    },
    {
      "cell_type": "markdown",
      "metadata": {
        "id": "oniCRSM_sfT0",
        "colab_type": "text"
      },
      "source": [
        "#### Seed 1"
      ]
    },
    {
      "cell_type": "code",
      "metadata": {
        "id": "ZoRl4eK0VkNE",
        "colab_type": "code",
        "outputId": "8bf3ca99-a462-4060-e7d2-3ae78531ffbb",
        "colab": {
          "base_uri": "https://localhost:8080/",
          "height": 34
        }
      },
      "source": [
        "seed=\"1\"\n",
        "Teacher=\"WRN-16-2\"\n",
        "Student=\"WRN-16-1\"\n",
        "d = 16\n",
        "k = 1\n",
        "strides = [1, 1, 2, 2]\n",
        "net = WideResNet(d=d, k=k, n_classes=10, input_features=3, output_features=16, strides=strides).to(device)\n",
        "net.load_state_dict(torch.load('./CIFAR10/'+Teacher+'-'+Student+'/Seed-'+seed+'/zero_shot_teacher_'+Teacher.lower()+'_student_'+Student.lower()+'-M-0-seed-'+seed+'-CIFAR10-dict.pth',map_location=device))\n",
        "accuracy = _test_set_eval(net, device, cifar_testloader)\n",
        "accuracy  "
      ],
      "execution_count": 7,
      "outputs": [
        {
          "output_type": "execute_result",
          "data": {
            "text/plain": [
              "81.73"
            ]
          },
          "metadata": {
            "tags": []
          },
          "execution_count": 7
        }
      ]
    },
    {
      "cell_type": "markdown",
      "metadata": {
        "id": "gIownnzZshnH",
        "colab_type": "text"
      },
      "source": [
        "#### Seed 2"
      ]
    },
    {
      "cell_type": "code",
      "metadata": {
        "id": "_d2WB9CSVlxX",
        "colab_type": "code",
        "outputId": "b9ee145b-600e-437a-aed8-51740594b216",
        "colab": {
          "base_uri": "https://localhost:8080/",
          "height": 34
        }
      },
      "source": [
        "seed=\"2\"\n",
        "Teacher=\"WRN-16-2\"\n",
        "Student=\"WRN-16-1\"\n",
        "d = 16\n",
        "k = 1\n",
        "strides = [1, 1, 2, 2]\n",
        "net = WideResNet(d=d, k=k, n_classes=10, input_features=3, output_features=16, strides=strides).to(device)\n",
        "net.load_state_dict(torch.load('./CIFAR10/'+Teacher+'-'+Student+'/Seed-'+seed+'/zero_shot_teacher_'+Teacher.lower()+'_student_'+Student.lower()+'-M-0-seed-'+seed+'-CIFAR10-dict.pth',map_location=device))\n",
        "accuracy = _test_set_eval(net, device, cifar_testloader)\n",
        "accuracy  "
      ],
      "execution_count": 8,
      "outputs": [
        {
          "output_type": "execute_result",
          "data": {
            "text/plain": [
              "84.32"
            ]
          },
          "metadata": {
            "tags": []
          },
          "execution_count": 8
        }
      ]
    },
    {
      "cell_type": "markdown",
      "metadata": {
        "colab_type": "text",
        "id": "_r79JuMssjZW"
      },
      "source": [
        "#### Zero Shot - Teacher WRN-40-1  Student WRN-16-1"
      ]
    },
    {
      "cell_type": "markdown",
      "metadata": {
        "id": "rQanqeOfuzUC",
        "colab_type": "text"
      },
      "source": [
        "#### Seed 0"
      ]
    },
    {
      "cell_type": "code",
      "metadata": {
        "colab_type": "code",
        "id": "NUFsE9FxvLcg",
        "outputId": "ebaacd5c-c077-4c7b-f5b8-1914887ea537",
        "colab": {
          "base_uri": "https://localhost:8080/",
          "height": 34
        }
      },
      "source": [
        "seed=\"0\"\n",
        "Teacher=\"WRN-40-1\"\n",
        "Student=\"WRN-16-1\"\n",
        "d = 16\n",
        "k = 1\n",
        "strides = [1, 1, 2, 2]\n",
        "net = WideResNet(d=d, k=k, n_classes=10, input_features=3, output_features=16, strides=strides).to(device)\n",
        "net.load_state_dict(torch.load('./CIFAR10/'+Teacher+'-'+Student+'/Seed-'+seed+'/zero_shot_teacher_'+Teacher.lower()+'_student_'+Student.lower()+'-M-0-seed-'+seed+'-CIFAR10-dict.pth',map_location=device))\n",
        "accuracy = _test_set_eval(net, device, cifar_testloader)\n",
        "accuracy  "
      ],
      "execution_count": 9,
      "outputs": [
        {
          "output_type": "execute_result",
          "data": {
            "text/plain": [
              "79.87"
            ]
          },
          "metadata": {
            "tags": []
          },
          "execution_count": 9
        }
      ]
    },
    {
      "cell_type": "markdown",
      "metadata": {
        "colab_type": "text",
        "id": "ur3wSt8hu3Yp"
      },
      "source": [
        "#### Seed 1"
      ]
    },
    {
      "cell_type": "code",
      "metadata": {
        "id": "jHNMtQUIVnoy",
        "colab_type": "code",
        "outputId": "6f80d081-7624-4394-eda6-6caf76acd893",
        "colab": {
          "base_uri": "https://localhost:8080/",
          "height": 34
        }
      },
      "source": [
        "seed=\"1\"\n",
        "Teacher=\"WRN-40-1\"\n",
        "Student=\"WRN-16-1\"\n",
        "d = 16\n",
        "k = 1\n",
        "strides = [1, 1, 2, 2]\n",
        "net = WideResNet(d=d, k=k, n_classes=10, input_features=3, output_features=16, strides=strides).to(device)\n",
        "net.load_state_dict(torch.load('./CIFAR10/'+Teacher+'-'+Student+'/Seed-'+seed+'/zero_shot_teacher_'+Teacher.lower()+'_student_'+Student.lower()+'-M-0-seed-'+seed+'-CIFAR10-dict.pth',map_location=device))\n",
        "accuracy = _test_set_eval(net, device, cifar_testloader)\n",
        "accuracy  "
      ],
      "execution_count": 10,
      "outputs": [
        {
          "output_type": "execute_result",
          "data": {
            "text/plain": [
              "84.62"
            ]
          },
          "metadata": {
            "tags": []
          },
          "execution_count": 10
        }
      ]
    },
    {
      "cell_type": "markdown",
      "metadata": {
        "colab_type": "text",
        "id": "JGlO3o13u3iR"
      },
      "source": [
        "#### Seed 2"
      ]
    },
    {
      "cell_type": "code",
      "metadata": {
        "id": "1K_uc7aexEuf",
        "colab_type": "code",
        "outputId": "61f9cff7-06ec-48da-8bfc-594e1180d6d5",
        "colab": {
          "base_uri": "https://localhost:8080/",
          "height": 34
        }
      },
      "source": [
        "seed=\"2\"\n",
        "Teacher=\"WRN-40-1\"\n",
        "Student=\"WRN-16-1\"\n",
        "d = 16\n",
        "k = 1\n",
        "strides = [1, 1, 2, 2]\n",
        "net = WideResNet(d=d, k=k, n_classes=10, input_features=3, output_features=16, strides=strides).to(device)\n",
        "net.load_state_dict(torch.load('./CIFAR10/'+Teacher+'-'+Student+'/Seed-'+seed+'/zero_shot_teacher_'+Teacher.lower()+'_student_'+Student.lower()+'-M-0-seed-'+seed+'-CIFAR10-dict.pth',map_location=device))\n",
        "accuracy = _test_set_eval(net, device, cifar_testloader)\n",
        "accuracy  "
      ],
      "execution_count": 11,
      "outputs": [
        {
          "output_type": "execute_result",
          "data": {
            "text/plain": [
              "83.34"
            ]
          },
          "metadata": {
            "tags": []
          },
          "execution_count": 11
        }
      ]
    },
    {
      "cell_type": "markdown",
      "metadata": {
        "colab_type": "text",
        "id": "hlulwynoskDF"
      },
      "source": [
        "#### Zero Shot - Teacher WRN-40-1  Student WRN-16-2"
      ]
    },
    {
      "cell_type": "markdown",
      "metadata": {
        "colab_type": "text",
        "id": "l87AUnzIu3yx"
      },
      "source": [
        "#### Seed 0"
      ]
    },
    {
      "cell_type": "code",
      "metadata": {
        "colab_type": "code",
        "id": "ZkO0m0yevMZA",
        "outputId": "493566c5-3166-4199-fe3a-5b92a2508af2",
        "colab": {
          "base_uri": "https://localhost:8080/",
          "height": 34
        }
      },
      "source": [
        "seed=\"0\"\n",
        "Teacher=\"WRN-40-1\"\n",
        "Student=\"WRN-16-2\"\n",
        "d = 16\n",
        "k = 2\n",
        "\n",
        "strides = [1, 1, 2, 2]\n",
        "net = WideResNet(d=d, k=k, n_classes=10, input_features=3, output_features=16, strides=strides).to(device)\n",
        "net.load_state_dict(torch.load('./CIFAR10/'+Teacher+'-'+Student+'/Seed-'+seed+'/zero_shot_teacher_'+Teacher.lower()+'_student_'+Student.lower()+'-M-0-seed-'+seed+'-CIFAR10-dict.pth',map_location=device))\n",
        "accuracy = _test_set_eval(net, device, cifar_testloader)\n",
        "accuracy  "
      ],
      "execution_count": 12,
      "outputs": [
        {
          "output_type": "execute_result",
          "data": {
            "text/plain": [
              "88.71"
            ]
          },
          "metadata": {
            "tags": []
          },
          "execution_count": 12
        }
      ]
    },
    {
      "cell_type": "markdown",
      "metadata": {
        "colab_type": "text",
        "id": "WaEcYDfDu343"
      },
      "source": [
        "#### Seed 1"
      ]
    },
    {
      "cell_type": "code",
      "metadata": {
        "id": "D9LsShjd8brl",
        "colab_type": "code",
        "outputId": "e5440fb0-1fb6-4630-f560-28ed2b2478df",
        "colab": {
          "base_uri": "https://localhost:8080/",
          "height": 34
        }
      },
      "source": [
        "seed=\"1\"\n",
        "Teacher=\"WRN-40-1\"\n",
        "Student=\"WRN-16-2\"\n",
        "d = 16\n",
        "k = 2\n",
        "\n",
        "strides = [1, 1, 2, 2]\n",
        "net = WideResNet(d=d, k=k, n_classes=10, input_features=3, output_features=16, strides=strides).to(device)\n",
        "net.load_state_dict(torch.load('./CIFAR10/'+Teacher+'-'+Student+'/Seed-'+seed+'/zero_shot_teacher_'+Teacher.lower()+'_student_'+Student.lower()+'-M-0-seed-'+seed+'-CIFAR10-dict.pth',map_location=device))\n",
        "accuracy = _test_set_eval(net, device, cifar_testloader)\n",
        "accuracy  "
      ],
      "execution_count": 13,
      "outputs": [
        {
          "output_type": "execute_result",
          "data": {
            "text/plain": [
              "90.11"
            ]
          },
          "metadata": {
            "tags": []
          },
          "execution_count": 13
        }
      ]
    },
    {
      "cell_type": "markdown",
      "metadata": {
        "colab_type": "text",
        "id": "QZ2JxbDGu38x"
      },
      "source": [
        "#### Seed 2"
      ]
    },
    {
      "cell_type": "code",
      "metadata": {
        "id": "iy33j2eiJmTI",
        "colab_type": "code",
        "colab": {
          "base_uri": "https://localhost:8080/",
          "height": 34
        },
        "outputId": "fee0dd01-0635-4564-fbfb-0f976446420e"
      },
      "source": [
        "seed=\"2\"\n",
        "Teacher=\"WRN-40-1\"\n",
        "Student=\"WRN-16-2\"\n",
        "d = 16\n",
        "k = 2\n",
        "\n",
        "strides = [1, 1, 2, 2]\n",
        "net = WideResNet(d=d, k=k, n_classes=10, input_features=3, output_features=16, strides=strides).to(device)\n",
        "net.load_state_dict(torch.load('./CIFAR10/'+Teacher+'-'+Student+'/Seed-'+seed+'/zero_shot_teacher_'+Teacher.lower()+'_student_'+Student.lower()+'-M-0-seed-'+seed+'-CIFAR10-dict.pth',map_location=device))\n",
        "accuracy = _test_set_eval(net, device, cifar_testloader)\n",
        "accuracy  "
      ],
      "execution_count": 23,
      "outputs": [
        {
          "output_type": "execute_result",
          "data": {
            "text/plain": [
              "88.99"
            ]
          },
          "metadata": {
            "tags": []
          },
          "execution_count": 23
        }
      ]
    },
    {
      "cell_type": "markdown",
      "metadata": {
        "colab_type": "text",
        "id": "UGJW-oqHskK1"
      },
      "source": [
        "#### Zero Shot - Teacher WRN-40-2  Student WRN-16-1"
      ]
    },
    {
      "cell_type": "markdown",
      "metadata": {
        "colab_type": "text",
        "id": "XiFa_M3bu4LY"
      },
      "source": [
        "#### Seed 0"
      ]
    },
    {
      "cell_type": "code",
      "metadata": {
        "colab_type": "code",
        "id": "nFszJ1hBkLXr",
        "outputId": "504aa1af-f102-402a-d37c-c066e43a26df",
        "colab": {
          "base_uri": "https://localhost:8080/",
          "height": 34
        }
      },
      "source": [
        "seed=\"0\"\n",
        "Teacher=\"WRN-40-2\"\n",
        "Student=\"WRN-16-1\"\n",
        "d = 16\n",
        "k = 1\n",
        "strides = [1, 1, 2, 2]\n",
        "net = WideResNet(d=d, k=k, n_classes=10, input_features=3, output_features=16, strides=strides).to(device)\n",
        "net.load_state_dict(torch.load('./CIFAR10/'+Teacher+'-'+Student+'/Seed-'+seed+'/zero_shot_teacher_'+Teacher.lower()+'_student_'+Student.lower()+'-M-0-seed-'+seed+'-CIFAR10-dict.pth',map_location=device))\n",
        "accuracy = _test_set_eval(net, device, cifar_testloader)\n",
        "accuracy  "
      ],
      "execution_count": 14,
      "outputs": [
        {
          "output_type": "execute_result",
          "data": {
            "text/plain": [
              "85.09"
            ]
          },
          "metadata": {
            "tags": []
          },
          "execution_count": 14
        }
      ]
    },
    {
      "cell_type": "markdown",
      "metadata": {
        "colab_type": "text",
        "id": "PGVx8TGau4Pg"
      },
      "source": [
        "#### Seed 1"
      ]
    },
    {
      "cell_type": "code",
      "metadata": {
        "id": "l2tbjThL8nmI",
        "colab_type": "code",
        "outputId": "b4c14ed5-eb47-4863-d117-b5f84ba9c8f9",
        "colab": {
          "base_uri": "https://localhost:8080/",
          "height": 34
        }
      },
      "source": [
        "seed=\"1\"\n",
        "Teacher=\"WRN-40-2\"\n",
        "Student=\"WRN-16-1\"\n",
        "d = 16\n",
        "k = 1\n",
        "strides = [1, 1, 2, 2]\n",
        "net = WideResNet(d=d, k=k, n_classes=10, input_features=3, output_features=16, strides=strides).to(device)\n",
        "net.load_state_dict(torch.load('./CIFAR10/'+Teacher+'-'+Student+'/Seed-'+seed+'/zero_shot_teacher_'+Teacher.lower()+'_student_'+Student.lower()+'-M-0-seed-'+seed+'-CIFAR10-dict.pth',map_location=device))\n",
        "accuracy = _test_set_eval(net, device, cifar_testloader)\n",
        "accuracy  "
      ],
      "execution_count": 15,
      "outputs": [
        {
          "output_type": "execute_result",
          "data": {
            "text/plain": [
              "84.07"
            ]
          },
          "metadata": {
            "tags": []
          },
          "execution_count": 15
        }
      ]
    },
    {
      "cell_type": "markdown",
      "metadata": {
        "colab_type": "text",
        "id": "8INjPBlsu4TL"
      },
      "source": [
        "#### Seed 2"
      ]
    },
    {
      "cell_type": "code",
      "metadata": {
        "id": "ANul1dBKE8LP",
        "colab_type": "code",
        "outputId": "4ce259e4-597d-410c-a9c1-98fcf08954e5",
        "colab": {
          "base_uri": "https://localhost:8080/",
          "height": 34
        }
      },
      "source": [
        "seed=\"2\"\n",
        "Teacher=\"WRN-40-2\"\n",
        "Student=\"WRN-16-1\"\n",
        "d = 16\n",
        "k = 1\n",
        "strides = [1, 1, 2, 2]\n",
        "net = WideResNet(d=d, k=k, n_classes=10, input_features=3, output_features=16, strides=strides).to(device)\n",
        "net.load_state_dict(torch.load('./CIFAR10/'+Teacher+'-'+Student+'/Seed-'+seed+'/zero_shot_teacher_'+Teacher.lower()+'_student_'+Student.lower()+'-M-0-seed-'+seed+'-CIFAR10-dict.pth',map_location=device))\n",
        "accuracy = _test_set_eval(net, device, cifar_testloader)\n",
        "accuracy  "
      ],
      "execution_count": 16,
      "outputs": [
        {
          "output_type": "execute_result",
          "data": {
            "text/plain": [
              "85.18"
            ]
          },
          "metadata": {
            "tags": []
          },
          "execution_count": 16
        }
      ]
    },
    {
      "cell_type": "markdown",
      "metadata": {
        "colab_type": "text",
        "id": "J1gyKMXMskSI"
      },
      "source": [
        "#### Zero Shot - Teacher WRN-40-2  Student WRN-16-2"
      ]
    },
    {
      "cell_type": "markdown",
      "metadata": {
        "colab_type": "text",
        "id": "-4ICC_X1u4lI"
      },
      "source": [
        "#### Seed 0"
      ]
    },
    {
      "cell_type": "code",
      "metadata": {
        "colab_type": "code",
        "id": "lGdN4LHbvOC8",
        "outputId": "630d7d0e-b117-4daf-f53e-ed9a32d6dd9e",
        "colab": {
          "base_uri": "https://localhost:8080/",
          "height": 34
        }
      },
      "source": [
        "seed=\"0\"\n",
        "Teacher=\"WRN-40-2\"\n",
        "Student=\"WRN-16-2\"\n",
        "d = 16\n",
        "k = 2\n",
        "strides = [1, 1, 2, 2]\n",
        "net = WideResNet(d=d, k=k, n_classes=10, input_features=3, output_features=16, strides=strides).to(device)\n",
        "net.load_state_dict(torch.load('./CIFAR10/'+Teacher+'-'+Student+'/Seed-'+seed+'/zero_shot_teacher_'+Teacher.lower()+'_student_'+Student.lower()+'-M-0-seed-'+seed+'-CIFAR10-dict.pth',map_location=device))\n",
        "accuracy = _test_set_eval(net, device, cifar_testloader)\n",
        "accuracy  "
      ],
      "execution_count": 17,
      "outputs": [
        {
          "output_type": "execute_result",
          "data": {
            "text/plain": [
              "90.67"
            ]
          },
          "metadata": {
            "tags": []
          },
          "execution_count": 17
        }
      ]
    },
    {
      "cell_type": "markdown",
      "metadata": {
        "colab_type": "text",
        "id": "fN1TL9w-u4pJ"
      },
      "source": [
        "#### Seed 1"
      ]
    },
    {
      "cell_type": "code",
      "metadata": {
        "id": "YoJlhg8k8244",
        "colab_type": "code",
        "outputId": "52e495bb-0b8e-4cf5-c6d2-49996972251c",
        "colab": {
          "base_uri": "https://localhost:8080/",
          "height": 34
        }
      },
      "source": [
        "seed=\"1\"\n",
        "Teacher=\"WRN-40-2\"\n",
        "Student=\"WRN-16-2\"\n",
        "d = 16\n",
        "k = 2\n",
        "strides = [1, 1, 2, 2]\n",
        "net = WideResNet(d=d, k=k, n_classes=10, input_features=3, output_features=16, strides=strides).to(device)\n",
        "net.load_state_dict(torch.load('./CIFAR10/'+Teacher+'-'+Student+'/Seed-'+seed+'/zero_shot_teacher_'+Teacher.lower()+'_student_'+Student.lower()+'-M-0-seed-'+seed+'-CIFAR10-dict.pth',map_location=device))\n",
        "accuracy = _test_set_eval(net, device, cifar_testloader)\n",
        "accuracy  "
      ],
      "execution_count": 18,
      "outputs": [
        {
          "output_type": "execute_result",
          "data": {
            "text/plain": [
              "91.41"
            ]
          },
          "metadata": {
            "tags": []
          },
          "execution_count": 18
        }
      ]
    },
    {
      "cell_type": "markdown",
      "metadata": {
        "colab_type": "text",
        "id": "iDSkDdUMu4sr"
      },
      "source": [
        "#### Seed 2"
      ]
    },
    {
      "cell_type": "code",
      "metadata": {
        "id": "yM42eHSXQ0gE",
        "colab_type": "code",
        "outputId": "f6c24099-36b7-4224-89da-bd1c92c45154",
        "colab": {
          "base_uri": "https://localhost:8080/",
          "height": 34
        }
      },
      "source": [
        "seed=\"2\"\n",
        "Teacher=\"WRN-40-2\"\n",
        "Student=\"WRN-16-2\"\n",
        "d = 16\n",
        "k = 2\n",
        "strides = [1, 1, 2, 2]\n",
        "net = WideResNet(d=d, k=k, n_classes=10, input_features=3, output_features=16, strides=strides).to(device)\n",
        "net.load_state_dict(torch.load('./CIFAR10/'+Teacher+'-'+Student+'/Seed-'+seed+'/zero_shot_teacher_'+Teacher.lower()+'_student_'+Student.lower()+'-M-0-seed-'+seed+'-CIFAR10-dict.pth',map_location=device))\n",
        "accuracy = _test_set_eval(net, device, cifar_testloader)\n",
        "accuracy  "
      ],
      "execution_count": 19,
      "outputs": [
        {
          "output_type": "execute_result",
          "data": {
            "text/plain": [
              "91.27"
            ]
          },
          "metadata": {
            "tags": []
          },
          "execution_count": 19
        }
      ]
    },
    {
      "cell_type": "markdown",
      "metadata": {
        "colab_type": "text",
        "id": "Mh0l4h1_skcj"
      },
      "source": [
        "#### Zero Shot - Teacher WRN-40-2  Student WRN-40-1"
      ]
    },
    {
      "cell_type": "markdown",
      "metadata": {
        "colab_type": "text",
        "id": "URhlI9K9u48L"
      },
      "source": [
        "#### Seed 0"
      ]
    },
    {
      "cell_type": "code",
      "metadata": {
        "colab_type": "code",
        "id": "U1tDyRDMvO-9",
        "outputId": "42636681-cd65-4dac-f6b7-be29ef4b00db",
        "colab": {
          "base_uri": "https://localhost:8080/",
          "height": 34
        }
      },
      "source": [
        "seed=\"0\"\n",
        "Teacher=\"WRN-40-2\"\n",
        "Student=\"WRN-40-1\"\n",
        "d = 40\n",
        "k = 1\n",
        "strides = [1, 1, 2, 2]\n",
        "net = WideResNet(d=d, k=k, n_classes=10, input_features=3, output_features=16, strides=strides).to(device)\n",
        "net.load_state_dict(torch.load('./CIFAR10/'+Teacher+'-'+Student+'/Seed-'+seed+'/zero_shot_teacher_'+Teacher.lower()+'_student_'+Student.lower()+'-M-0-seed-'+seed+'-CIFAR10-dict.pth',map_location=device))\n",
        "accuracy = _test_set_eval(net, device, cifar_testloader)\n",
        "accuracy  "
      ],
      "execution_count": 20,
      "outputs": [
        {
          "output_type": "execute_result",
          "data": {
            "text/plain": [
              "90.08"
            ]
          },
          "metadata": {
            "tags": []
          },
          "execution_count": 20
        }
      ]
    },
    {
      "cell_type": "markdown",
      "metadata": {
        "colab_type": "text",
        "id": "-tvj0PA3u4_4"
      },
      "source": [
        "#### Seed 1"
      ]
    },
    {
      "cell_type": "code",
      "metadata": {
        "id": "-Za_MsB_8-Fk",
        "colab_type": "code",
        "outputId": "632b7f72-d22e-4ef4-dba9-76d29b4bd244",
        "colab": {
          "base_uri": "https://localhost:8080/",
          "height": 34
        }
      },
      "source": [
        "seed=\"1\"\n",
        "Teacher=\"WRN-40-2\"\n",
        "Student=\"WRN-40-1\"\n",
        "d = 40\n",
        "k = 1\n",
        "strides = [1, 1, 2, 2]\n",
        "net = WideResNet(d=d, k=k, n_classes=10, input_features=3, output_features=16, strides=strides).to(device)\n",
        "net.load_state_dict(torch.load('./CIFAR10/'+Teacher+'-'+Student+'/Seed-'+seed+'/zero_shot_teacher_'+Teacher.lower()+'_student_'+Student.lower()+'-M-0-seed-'+seed+'-CIFAR10-dict.pth',map_location=device))\n",
        "accuracy = _test_set_eval(net, device, cifar_testloader)\n",
        "accuracy  "
      ],
      "execution_count": 21,
      "outputs": [
        {
          "output_type": "execute_result",
          "data": {
            "text/plain": [
              "90.16"
            ]
          },
          "metadata": {
            "tags": []
          },
          "execution_count": 21
        }
      ]
    },
    {
      "cell_type": "markdown",
      "metadata": {
        "colab_type": "text",
        "id": "Fpz7VFsNu5Dn"
      },
      "source": [
        "#### Seed 2"
      ]
    },
    {
      "cell_type": "code",
      "metadata": {
        "id": "1cbv-_qPOLTm",
        "colab_type": "code",
        "outputId": "5b04c265-3673-49f5-ec62-f6a2c46461cf",
        "colab": {
          "base_uri": "https://localhost:8080/",
          "height": 34
        }
      },
      "source": [
        "seed=\"2\"\n",
        "Teacher=\"WRN-40-2\"\n",
        "Student=\"WRN-40-1\"\n",
        "d = 40\n",
        "k = 1\n",
        "strides = [1, 1, 2, 2]\n",
        "net = WideResNet(d=d, k=k, n_classes=10, input_features=3, output_features=16, strides=strides).to(device)\n",
        "net.load_state_dict(torch.load('./CIFAR10/'+Teacher+'-'+Student+'/Seed-'+seed+'/zero_shot_teacher_'+Teacher.lower()+'_student_'+Student.lower()+'-M-0-seed-'+seed+'-CIFAR10-dict.pth',map_location=device))\n",
        "accuracy = _test_set_eval(net, device, cifar_testloader)\n",
        "accuracy  "
      ],
      "execution_count": 22,
      "outputs": [
        {
          "output_type": "execute_result",
          "data": {
            "text/plain": [
              "90.59"
            ]
          },
          "metadata": {
            "tags": []
          },
          "execution_count": 22
        }
      ]
    },
    {
      "cell_type": "code",
      "metadata": {
        "id": "4TruYbmCOL5j",
        "colab_type": "code",
        "colab": {}
      },
      "source": [
        ""
      ],
      "execution_count": 0,
      "outputs": []
    }
  ]
}