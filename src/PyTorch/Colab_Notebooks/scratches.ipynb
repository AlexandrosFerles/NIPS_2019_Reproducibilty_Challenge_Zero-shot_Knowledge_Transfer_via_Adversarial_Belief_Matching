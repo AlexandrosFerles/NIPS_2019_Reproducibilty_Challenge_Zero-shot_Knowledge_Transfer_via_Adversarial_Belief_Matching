{
  "nbformat": 4,
  "nbformat_minor": 0,
  "metadata": {
    "colab": {
      "name": "scratches.ipynb",
      "provenance": [],
      "collapsed_sections": [],
      "toc_visible": true
    },
    "kernelspec": {
      "name": "python3",
      "display_name": "Python 3"
    },
    "accelerator": "GPU"
  },
  "cells": [
    {
      "cell_type": "markdown",
      "metadata": {
        "id": "VZrjOZodoSNw",
        "colab_type": "text"
      },
      "source": [
        "#### Get Scratches from Google Drive"
      ]
    },
    {
      "cell_type": "code",
      "metadata": {
        "id": "dHdhy4B4pdn8",
        "colab_type": "code",
        "collapsed": true,
        "outputId": "97509c0b-4b2a-4f75-bebf-be36a558e05a",
        "colab": {
          "base_uri": "https://localhost:8080/",
          "height": 1000
        }
      },
      "source": [
        "\n",
        "!wget -O scratches --no-check-certificate https://www.dropbox.com/sh/40jvboxt40w8pci/AAAfEpqX2w05ratJwgKMZ4Sda?dl=0\n",
        "!unzip scratches\n",
        "!rm scratches\n"
      ],
      "execution_count": 1,
      "outputs": [
        {
          "output_type": "stream",
          "text": [
            "--2019-11-06 19:05:35--  https://www.dropbox.com/sh/40jvboxt40w8pci/AAAfEpqX2w05ratJwgKMZ4Sda?dl=0\n",
            "Resolving www.dropbox.com (www.dropbox.com)... 162.125.8.1, 2620:100:6016:1::a27d:101\n",
            "Connecting to www.dropbox.com (www.dropbox.com)|162.125.8.1|:443... connected.\n",
            "HTTP request sent, awaiting response... 301 Moved Permanently\n",
            "Location: /sh/raw/40jvboxt40w8pci/AAAfEpqX2w05ratJwgKMZ4Sda [following]\n",
            "--2019-11-06 19:05:35--  https://www.dropbox.com/sh/raw/40jvboxt40w8pci/AAAfEpqX2w05ratJwgKMZ4Sda\n",
            "Reusing existing connection to www.dropbox.com:443.\n",
            "HTTP request sent, awaiting response... 302 Found\n",
            "Location: https://uca64f81610846c3e9146dd08e45.dl.dropboxusercontent.com/zip_by_token_key?key=Ar3c5a31u15TeV4p5RQqilqh62kSlAZy2fwC2ZqqsDUkYLU03nV2fs7gmIwpjFvknfCSvFkI27dT9QKy-ugCKx-q3Kw0Myz9VNVn8XecvV0sAyD91p7CKwn1oD9Uv3_weIGEh3lSQKfu5EP0BbflAMlo6wznb5EsBBTNwHMugExI5skIh9VXYcVYqz_xaEn0FkWe77ndh50EIDMKnWUDsYPO5m8WN_0qtXdDMr2MpwXqBjO-ybjo4Z6hwjIwGH6Jdys [following]\n",
            "--2019-11-06 19:05:35--  https://uca64f81610846c3e9146dd08e45.dl.dropboxusercontent.com/zip_by_token_key?key=Ar3c5a31u15TeV4p5RQqilqh62kSlAZy2fwC2ZqqsDUkYLU03nV2fs7gmIwpjFvknfCSvFkI27dT9QKy-ugCKx-q3Kw0Myz9VNVn8XecvV0sAyD91p7CKwn1oD9Uv3_weIGEh3lSQKfu5EP0BbflAMlo6wznb5EsBBTNwHMugExI5skIh9VXYcVYqz_xaEn0FkWe77ndh50EIDMKnWUDsYPO5m8WN_0qtXdDMr2MpwXqBjO-ybjo4Z6hwjIwGH6Jdys\n",
            "Resolving uca64f81610846c3e9146dd08e45.dl.dropboxusercontent.com (uca64f81610846c3e9146dd08e45.dl.dropboxusercontent.com)... 162.125.8.6, 2620:100:6016:6::a27d:106\n",
            "Connecting to uca64f81610846c3e9146dd08e45.dl.dropboxusercontent.com (uca64f81610846c3e9146dd08e45.dl.dropboxusercontent.com)|162.125.8.6|:443... connected.\n",
            "HTTP request sent, awaiting response... 200 OK\n",
            "Length: unspecified [application/zip]\n",
            "Saving to: ‘scratches’\n",
            "\n",
            "scratches               [      <=>           ] 125.50M  13.6MB/s    in 9.5s    \n",
            "\n",
            "2019-11-06 19:05:46 (13.2 MB/s) - ‘scratches’ saved [131598572]\n",
            "\n",
            "Archive:  scratches\n",
            "warning:  stripped absolute path spec from /\n",
            "mapname:  conversion of  failed\n",
            "   creating: SVHN/\n",
            "   creating: CIFAR10/\n",
            "   creating: CIFAR10/old/\n",
            " extracting: CIFAR10/wrn-40-1-seed-0-dict.pth  \n",
            " extracting: CIFAR10/wrn-16-2-seed-0-dict.pth  \n",
            " extracting: CIFAR10/wrn-16-1-seed-0-dict.pth  \n",
            " extracting: CIFAR10/wrn-16-1-seed-2-dict.pth  \n",
            " extracting: CIFAR10/wrn-40-2-seed-1-dict.pth  \n",
            " extracting: CIFAR10/wrn-16-2-seed-2-dict.pth  \n",
            " extracting: CIFAR10/wrn-16-1-seed-1-dict.pth  \n",
            " extracting: CIFAR10/wrn-40-2-seed-2-dict.pth  \n",
            " extracting: CIFAR10/wrn-40-1-seed-2-dict.pth  \n",
            " extracting: CIFAR10/wrn-40-2-seed-0-dict.pth  \n",
            " extracting: CIFAR10/wrn-40-1-seed-1-dict.pth  \n",
            " extracting: CIFAR10/wrn-16-2-seed-1-dict.pth  \n",
            " extracting: SVHN/wrn-16-1-seed-svhn-1-dict.pth  \n",
            " extracting: SVHN/wrn-40-1-seed-svhn-2-dict.pth  \n",
            " extracting: SVHN/wrn-40-2-seed-svhn-2-dict.pth  \n",
            " extracting: SVHN/wrn-40-1-seed-svhn-1-dict.pth  \n",
            " extracting: SVHN/wrn-16-2-seed-svhn-0-dict.pth  \n",
            " extracting: SVHN/wrn-40-2-seed-svhn-1-dict.pth  \n",
            " extracting: SVHN/wrn-16-2-seed-svhn-2-dict.pth  \n",
            " extracting: SVHN/wrn-16-2-seed-svhn-1-dict.pth  \n",
            " extracting: SVHN/wrn-40-2-seed-svhn-0-dict.pth  \n",
            " extracting: SVHN/wrn-16-1-seed-svhn-0-dict.pth  \n",
            " extracting: SVHN/wrn-40-1-seed-svhn-0-dict.pth  \n",
            " extracting: SVHN/wrn-16-1-seed-svhn-2-dict.pth  \n",
            " extracting: CIFAR10/old/wrn-16-2-seed-0-dict.pth  \n",
            " extracting: CIFAR10/old/wrn-40-1-seed-1-dict.pth  \n",
            " extracting: CIFAR10/old/wrn-40-1-seed-2-dict.pth  \n",
            " extracting: CIFAR10/old/wrn-40-2-seed-0-dict.pth  \n",
            " extracting: CIFAR10/old/wrn-16-2-seed-2-dict.pth  \n",
            " extracting: CIFAR10/old/wrn-40-1-seed-0-dict.pth  \n",
            " extracting: CIFAR10/old/wrn-40-2-seed-1-dict.pth  \n",
            " extracting: CIFAR10/old/wrn-16-2-seed-1-dict.pth  \n",
            " extracting: CIFAR10/old/wrn-40-2-seed-2-dict.pth  \n"
          ],
          "name": "stdout"
        }
      ]
    },
    {
      "cell_type": "code",
      "metadata": {
        "id": "fyzdJlvY1f0b",
        "colab_type": "code",
        "colab": {}
      },
      "source": [
        "import torch\n",
        "import torchvision\n",
        "from torch import nn as nn\n",
        "from torchvision import transforms\n",
        "device = torch.device('cuda:0')"
      ],
      "execution_count": 0,
      "outputs": []
    },
    {
      "cell_type": "code",
      "metadata": {
        "id": "04rUOR8D2J8K",
        "colab_type": "code",
        "colab": {}
      },
      "source": [
        "class IndividualBlock1(nn.Module):\n",
        "\n",
        "    def __init__(self, input_features, output_features, stride, subsample_input=True, increase_filters=True):\n",
        "        super(IndividualBlock1, self).__init__()\n",
        "\n",
        "        self.activation = nn.ReLU(inplace=True)\n",
        "\n",
        "        self.batch_norm1 = nn.BatchNorm2d(input_features)\n",
        "        self.batch_norm2 = nn.BatchNorm2d(output_features)\n",
        "\n",
        "        self.conv1 = nn.Conv2d(input_features, output_features, kernel_size=3, stride=stride, padding=1, bias=False)\n",
        "        self.conv2 = nn.Conv2d(output_features, output_features, kernel_size=3, stride=1, padding=1, bias=False)\n",
        "\n",
        "        self.subsample_input = subsample_input\n",
        "        self.increase_filters = increase_filters\n",
        "        if subsample_input:\n",
        "            self.conv_inp = nn.Conv2d(input_features, output_features, kernel_size=1, stride=2, padding=0, bias=False)\n",
        "        elif increase_filters:\n",
        "            self.conv_inp = nn.Conv2d(input_features, output_features, kernel_size=1, stride=1, padding=0, bias=False)\n",
        "\n",
        "    def forward(self, x):\n",
        "\n",
        "        if self.subsample_input or self.increase_filters:\n",
        "            x = self.batch_norm1(x)\n",
        "            x = self.activation(x)\n",
        "            x1 = self.conv1(x)\n",
        "        else:\n",
        "            x1 = self.batch_norm1(x)\n",
        "            x1 = self.activation(x1)\n",
        "            x1 = self.conv1(x1)\n",
        "        x1 = self.batch_norm2(x1)\n",
        "        x1 = self.activation(x1)\n",
        "        x1 = self.conv2(x1)\n",
        "\n",
        "        if self.subsample_input or self.increase_filters:\n",
        "            return self.conv_inp(x) + x1\n",
        "        else:\n",
        "            return x + x1\n",
        "\n",
        "\n",
        "class IndividualBlockN(nn.Module):\n",
        "\n",
        "    def __init__(self, input_features, output_features, stride):\n",
        "        super(IndividualBlockN, self).__init__()\n",
        "\n",
        "        self.activation = nn.ReLU(inplace=True)\n",
        "\n",
        "        self.batch_norm1 = nn.BatchNorm2d(input_features)\n",
        "        self.batch_norm2 = nn.BatchNorm2d(output_features)\n",
        "\n",
        "        self.conv1 = nn.Conv2d(input_features, output_features, kernel_size=3, stride=stride, padding=1, bias=False)\n",
        "        self.conv2 = nn.Conv2d(output_features, output_features, kernel_size=3, stride=stride, padding=1, bias=False)\n",
        "\n",
        "    def forward(self, x):\n",
        "        x1 = self.batch_norm1(x)\n",
        "        x1 = self.activation(x1)\n",
        "        x1 = self.conv1(x1)\n",
        "        x1 = self.batch_norm2(x1)\n",
        "        x1 = self.activation(x1)\n",
        "        x1 = self.conv2(x1)\n",
        "\n",
        "        return x1 + x\n",
        "\n",
        "\n",
        "class Nblock(nn.Module):\n",
        "\n",
        "    def __init__(self, N, input_features, output_features, stride, subsample_input=True, increase_filters=True):\n",
        "        super(Nblock, self).__init__()\n",
        "\n",
        "        layers = []\n",
        "        for i in range(N):\n",
        "            if i == 0:\n",
        "                layers.append(IndividualBlock1(input_features, output_features, stride, subsample_input, increase_filters))\n",
        "            else:\n",
        "                layers.append(IndividualBlockN(output_features, output_features, stride=1))\n",
        "\n",
        "        self.nblockLayer = nn.Sequential(*layers)\n",
        "\n",
        "    def forward(self, x):\n",
        "        return self.nblockLayer(x)\n",
        "\n",
        "\n",
        "class WideResNet(nn.Module):\n",
        "\n",
        "    def __init__(self, d, k, n_classes, input_features, output_features, strides):\n",
        "        super(WideResNet, self).__init__()\n",
        "\n",
        "        self.conv1 = nn.Conv2d(input_features, output_features, kernel_size=3, stride=strides[0], padding=1, bias=False)\n",
        "\n",
        "        filters = [16 * k, 32 * k, 64 * k]\n",
        "        self.out_filters = filters[-1]\n",
        "        N = (d - 4) // 6\n",
        "        increase_filters = k > 1\n",
        "        self.block1 = Nblock(N, input_features=output_features, output_features=filters[0], stride=strides[1], subsample_input=False, increase_filters=increase_filters)\n",
        "        self.block2 = Nblock(N, input_features=filters[0], output_features=filters[1], stride=strides[2])\n",
        "        self.block3 = Nblock(N, input_features=filters[1], output_features=filters[2], stride=strides[3])\n",
        "\n",
        "        self.batch_norm = nn.BatchNorm2d(filters[-1])\n",
        "        self.activation = nn.ReLU(inplace=True)\n",
        "        self.avg_pool = nn.AvgPool2d(kernel_size=8)\n",
        "        self.fc = nn.Linear(filters[-1], n_classes)\n",
        "\n",
        "    def forward(self, x):\n",
        "\n",
        "        x = self.conv1(x)\n",
        "        attention1 = self.block1(x)\n",
        "        attention2 = self.block2(attention1)\n",
        "        attention3 = self.block3(attention2)\n",
        "        out = self.batch_norm(attention3)\n",
        "        out = self.activation(out)\n",
        "        out = self.avg_pool(out)\n",
        "        out = out.view(-1, self.out_filters)\n",
        "\n",
        "        return self.fc(out), attention1, attention2, attention3"
      ],
      "execution_count": 0,
      "outputs": []
    },
    {
      "cell_type": "code",
      "metadata": {
        "id": "uy3VXdQX2y_X",
        "colab_type": "code",
        "colab": {}
      },
      "source": [
        "def _test_set_eval(net, device, test_loader):\n",
        "    with torch.no_grad():\n",
        "        correct, total = 0, 0\n",
        "        net.eval()\n",
        "\n",
        "        for data in test_loader:\n",
        "            images, labels = data\n",
        "            images = images.to(device)\n",
        "            labels = labels.to(device)\n",
        "\n",
        "            outputs = net(images)[0]\n",
        "            _, predicted = torch.max(outputs.data, 1)\n",
        "            total += labels.size(0)\n",
        "            correct += (predicted == labels).sum().item()\n",
        "\n",
        "        accuracy = correct / total\n",
        "        accuracy = round(100 * accuracy, 2)\n",
        "\n",
        "        return accuracy"
      ],
      "execution_count": 0,
      "outputs": []
    },
    {
      "cell_type": "markdown",
      "metadata": {
        "id": "m_rP6paD6S_k",
        "colab_type": "text"
      },
      "source": [
        "# CIFAR10"
      ]
    },
    {
      "cell_type": "code",
      "metadata": {
        "id": "mIvlP9yx6WiV",
        "colab_type": "code",
        "outputId": "d851b71e-e87e-42b5-ccb3-6115653f0944",
        "colab": {
          "base_uri": "https://localhost:8080/",
          "height": 88
        }
      },
      "source": [
        "cifar_normalize = transforms.Normalize((0.4914, 0.4822, 0.4465), (0.2023, 0.1994, 0.2010))\n",
        "\n",
        "cifar_transform = transforms.Compose([\n",
        "  transforms.ToTensor(),\n",
        "  cifar_normalize,\n",
        "])\n",
        "\n",
        "cifar_testset = torchvision.datasets.CIFAR10(root='./data', train=False, download=True, transform=cifar_transform)\n",
        "cifar_testloader = torch.utils.data.DataLoader(cifar_testset, batch_size=100, shuffle=False, num_workers=0)"
      ],
      "execution_count": 5,
      "outputs": [
        {
          "output_type": "stream",
          "text": [
            "\r0it [00:00, ?it/s]"
          ],
          "name": "stderr"
        },
        {
          "output_type": "stream",
          "text": [
            "Downloading https://www.cs.toronto.edu/~kriz/cifar-10-python.tar.gz to ./data/cifar-10-python.tar.gz\n"
          ],
          "name": "stdout"
        },
        {
          "output_type": "stream",
          "text": [
            "170500096it [00:03, 43511181.06it/s]                               \n"
          ],
          "name": "stderr"
        },
        {
          "output_type": "stream",
          "text": [
            "Extracting ./data/cifar-10-python.tar.gz to ./data\n"
          ],
          "name": "stdout"
        }
      ]
    },
    {
      "cell_type": "markdown",
      "metadata": {
        "id": "8h3Aq-LasWZs",
        "colab_type": "text"
      },
      "source": [
        "#### WRN-16-1"
      ]
    },
    {
      "cell_type": "markdown",
      "metadata": {
        "id": "dIxYH1SXscsr",
        "colab_type": "text"
      },
      "source": [
        "#### Seed 0"
      ]
    },
    {
      "cell_type": "code",
      "metadata": {
        "id": "u9jxQeshtG9f",
        "colab_type": "code",
        "outputId": "fa158433-510b-421b-8506-9d519efadf48",
        "colab": {
          "base_uri": "https://localhost:8080/",
          "height": 34
        }
      },
      "source": [
        "seed=\"0\"\n",
        "network=\"wrn-16-1\"\n",
        "d = 16\n",
        "k = 1\n",
        "strides = [1, 1, 2, 2]\n",
        "net = WideResNet(d=d, k=k, n_classes=10, input_features=3, output_features=16, strides=strides).to(device)\n",
        "net.load_state_dict(torch.load('./CIFAR10/'+network+'-seed-'+seed+'-dict.pth',map_location=device))\n",
        "accuracy = _test_set_eval(net, device, cifar_testloader)\n",
        "accuracy  "
      ],
      "execution_count": 6,
      "outputs": [
        {
          "output_type": "execute_result",
          "data": {
            "text/plain": [
              "90.97"
            ]
          },
          "metadata": {
            "tags": []
          },
          "execution_count": 6
        }
      ]
    },
    {
      "cell_type": "markdown",
      "metadata": {
        "colab_type": "text",
        "id": "HiDRFpisHT3D"
      },
      "source": [
        "#### Seed 1"
      ]
    },
    {
      "cell_type": "code",
      "metadata": {
        "id": "vcuWjcToH2F5",
        "colab_type": "code",
        "outputId": "382a7de6-ab13-4e62-c6e4-aaefa3a213c0",
        "colab": {
          "base_uri": "https://localhost:8080/",
          "height": 34
        }
      },
      "source": [
        "seed=\"1\"\n",
        "network=\"wrn-16-1\"\n",
        "d = 16\n",
        "k = 1\n",
        "strides = [1, 1, 2, 2]\n",
        "net = WideResNet(d=d, k=k, n_classes=10, input_features=3, output_features=16, strides=strides).to(device)\n",
        "net.load_state_dict(torch.load('./CIFAR10/'+network+'-seed-'+seed+'-dict.pth',map_location=device))\n",
        "accuracy = _test_set_eval(net, device, cifar_testloader)\n",
        "accuracy  "
      ],
      "execution_count": 7,
      "outputs": [
        {
          "output_type": "execute_result",
          "data": {
            "text/plain": [
              "91.41"
            ]
          },
          "metadata": {
            "tags": []
          },
          "execution_count": 7
        }
      ]
    },
    {
      "cell_type": "markdown",
      "metadata": {
        "colab_type": "text",
        "id": "GVaPZMR9HTbU"
      },
      "source": [
        "#### Seed 2"
      ]
    },
    {
      "cell_type": "code",
      "metadata": {
        "id": "qCAROXRrH3aN",
        "colab_type": "code",
        "outputId": "40073655-2b1c-4aee-a1c3-17765c2048d1",
        "colab": {
          "base_uri": "https://localhost:8080/",
          "height": 34
        }
      },
      "source": [
        "seed=\"2\"\n",
        "network=\"wrn-16-1\"\n",
        "d = 16\n",
        "k = 1\n",
        "strides = [1, 1, 2, 2]\n",
        "net = WideResNet(d=d, k=k, n_classes=10, input_features=3, output_features=16, strides=strides).to(device)\n",
        "net.load_state_dict(torch.load('./CIFAR10/'+network+'-seed-'+seed+'-dict.pth',map_location=device))\n",
        "accuracy = _test_set_eval(net, device, cifar_testloader)\n",
        "accuracy  "
      ],
      "execution_count": 8,
      "outputs": [
        {
          "output_type": "execute_result",
          "data": {
            "text/plain": [
              "91.78"
            ]
          },
          "metadata": {
            "tags": []
          },
          "execution_count": 8
        }
      ]
    },
    {
      "cell_type": "markdown",
      "metadata": {
        "colab_type": "text",
        "id": "_r79JuMssjZW"
      },
      "source": [
        "#### WRN-16-2"
      ]
    },
    {
      "cell_type": "markdown",
      "metadata": {
        "id": "rQanqeOfuzUC",
        "colab_type": "text"
      },
      "source": [
        "#### Seed 0"
      ]
    },
    {
      "cell_type": "code",
      "metadata": {
        "colab_type": "code",
        "id": "NUFsE9FxvLcg",
        "outputId": "a29f87ae-e44d-464f-afe0-b23a90ec3634",
        "colab": {
          "base_uri": "https://localhost:8080/",
          "height": 34
        }
      },
      "source": [
        "seed=\"0\"\n",
        "network=\"wrn-16-2\"\n",
        "d = 16\n",
        "k = 2\n",
        "strides = [1, 1, 2, 2]\n",
        "net = WideResNet(d=d, k=k, n_classes=10, input_features=3, output_features=16, strides=strides).to(device)\n",
        "net.load_state_dict(torch.load('./CIFAR10/'+network+'-seed-'+seed+'-dict.pth',map_location=device))\n",
        "accuracy = _test_set_eval(net, device, cifar_testloader)\n",
        "accuracy  "
      ],
      "execution_count": 9,
      "outputs": [
        {
          "output_type": "execute_result",
          "data": {
            "text/plain": [
              "94.21"
            ]
          },
          "metadata": {
            "tags": []
          },
          "execution_count": 9
        }
      ]
    },
    {
      "cell_type": "markdown",
      "metadata": {
        "colab_type": "text",
        "id": "ur3wSt8hu3Yp"
      },
      "source": [
        "#### Seed 1"
      ]
    },
    {
      "cell_type": "code",
      "metadata": {
        "id": "z0GEMJAOH92J",
        "colab_type": "code",
        "outputId": "a5de19e8-d6f4-46f7-adf4-25b9f8b73433",
        "colab": {
          "base_uri": "https://localhost:8080/",
          "height": 34
        }
      },
      "source": [
        "seed=\"1\"\n",
        "network=\"wrn-16-2\"\n",
        "d = 16\n",
        "k = 2\n",
        "strides = [1, 1, 2, 2]\n",
        "net = WideResNet(d=d, k=k, n_classes=10, input_features=3, output_features=16, strides=strides).to(device)\n",
        "net.load_state_dict(torch.load('./CIFAR10/'+network+'-seed-'+seed+'-dict.pth',map_location=device))\n",
        "accuracy = _test_set_eval(net, device, cifar_testloader)\n",
        "accuracy  "
      ],
      "execution_count": 10,
      "outputs": [
        {
          "output_type": "execute_result",
          "data": {
            "text/plain": [
              "94.27"
            ]
          },
          "metadata": {
            "tags": []
          },
          "execution_count": 10
        }
      ]
    },
    {
      "cell_type": "markdown",
      "metadata": {
        "colab_type": "text",
        "id": "JGlO3o13u3iR"
      },
      "source": [
        "#### Seed 2"
      ]
    },
    {
      "cell_type": "code",
      "metadata": {
        "id": "K65Z7oZ4H-2Z",
        "colab_type": "code",
        "outputId": "8e555eda-8c23-4b8e-a878-e6079f1d66d6",
        "colab": {
          "base_uri": "https://localhost:8080/",
          "height": 34
        }
      },
      "source": [
        "seed=\"2\"\n",
        "network=\"wrn-16-2\"\n",
        "d = 16\n",
        "k = 2\n",
        "strides = [1, 1, 2, 2]\n",
        "net = WideResNet(d=d, k=k, n_classes=10, input_features=3, output_features=16, strides=strides).to(device)\n",
        "net.load_state_dict(torch.load('./CIFAR10/'+network+'-seed-'+seed+'-dict.pth',map_location=device))\n",
        "accuracy = _test_set_eval(net, device, cifar_testloader)\n",
        "accuracy  "
      ],
      "execution_count": 11,
      "outputs": [
        {
          "output_type": "execute_result",
          "data": {
            "text/plain": [
              "94.18"
            ]
          },
          "metadata": {
            "tags": []
          },
          "execution_count": 11
        }
      ]
    },
    {
      "cell_type": "markdown",
      "metadata": {
        "colab_type": "text",
        "id": "hlulwynoskDF"
      },
      "source": [
        "#### WRN-40-1"
      ]
    },
    {
      "cell_type": "markdown",
      "metadata": {
        "colab_type": "text",
        "id": "l87AUnzIu3yx"
      },
      "source": [
        "#### Seed 0"
      ]
    },
    {
      "cell_type": "code",
      "metadata": {
        "colab_type": "code",
        "id": "ZkO0m0yevMZA",
        "outputId": "ca82b1d5-cef4-4778-d2c0-56ac07345e01",
        "colab": {
          "base_uri": "https://localhost:8080/",
          "height": 34
        }
      },
      "source": [
        "seed=\"0\"\n",
        "network=\"wrn-40-1\"\n",
        "d = 40\n",
        "k = 1\n",
        "strides = [1, 1, 2, 2]\n",
        "net = WideResNet(d=d, k=k, n_classes=10, input_features=3, output_features=16, strides=strides).to(device)\n",
        "net.load_state_dict(torch.load('./CIFAR10/'+network+'-seed-'+seed+'-dict.pth',map_location=device))\n",
        "accuracy = _test_set_eval(net, device, cifar_testloader)\n",
        "accuracy  "
      ],
      "execution_count": 12,
      "outputs": [
        {
          "output_type": "execute_result",
          "data": {
            "text/plain": [
              "93.52"
            ]
          },
          "metadata": {
            "tags": []
          },
          "execution_count": 12
        }
      ]
    },
    {
      "cell_type": "markdown",
      "metadata": {
        "colab_type": "text",
        "id": "WaEcYDfDu343"
      },
      "source": [
        "#### Seed 1"
      ]
    },
    {
      "cell_type": "code",
      "metadata": {
        "id": "XOby6NksIIKz",
        "colab_type": "code",
        "outputId": "41a617a0-5e10-453e-e9f7-049d07d08400",
        "colab": {
          "base_uri": "https://localhost:8080/",
          "height": 34
        }
      },
      "source": [
        "seed=\"1\"\n",
        "network=\"wrn-40-1\"\n",
        "d = 40\n",
        "k = 1\n",
        "strides = [1, 1, 2, 2]\n",
        "net = WideResNet(d=d, k=k, n_classes=10, input_features=3, output_features=16, strides=strides).to(device)\n",
        "net.load_state_dict(torch.load('./CIFAR10/'+network+'-seed-'+seed+'-dict.pth',map_location=device))\n",
        "accuracy = _test_set_eval(net, device, cifar_testloader)\n",
        "accuracy  "
      ],
      "execution_count": 13,
      "outputs": [
        {
          "output_type": "execute_result",
          "data": {
            "text/plain": [
              "94.04"
            ]
          },
          "metadata": {
            "tags": []
          },
          "execution_count": 13
        }
      ]
    },
    {
      "cell_type": "markdown",
      "metadata": {
        "colab_type": "text",
        "id": "QZ2JxbDGu38x"
      },
      "source": [
        "#### Seed 2"
      ]
    },
    {
      "cell_type": "code",
      "metadata": {
        "id": "4LXOQcFqILMj",
        "colab_type": "code",
        "outputId": "abf82cd7-8c44-4f55-9e67-97c65ad0486f",
        "colab": {
          "base_uri": "https://localhost:8080/",
          "height": 34
        }
      },
      "source": [
        "seed=\"2\"\n",
        "network=\"wrn-40-1\"\n",
        "d = 40\n",
        "k = 1\n",
        "strides = [1, 1, 2, 2]\n",
        "net = WideResNet(d=d, k=k, n_classes=10, input_features=3, output_features=16, strides=strides).to(device)\n",
        "net.load_state_dict(torch.load('./CIFAR10/'+network+'-seed-'+seed+'-dict.pth',map_location=device))\n",
        "accuracy = _test_set_eval(net, device, cifar_testloader)\n",
        "accuracy  "
      ],
      "execution_count": 14,
      "outputs": [
        {
          "output_type": "execute_result",
          "data": {
            "text/plain": [
              "93.94"
            ]
          },
          "metadata": {
            "tags": []
          },
          "execution_count": 14
        }
      ]
    },
    {
      "cell_type": "markdown",
      "metadata": {
        "colab_type": "text",
        "id": "UGJW-oqHskK1"
      },
      "source": [
        "#### WRN-40-2"
      ]
    },
    {
      "cell_type": "markdown",
      "metadata": {
        "colab_type": "text",
        "id": "XiFa_M3bu4LY"
      },
      "source": [
        "#### Seed 0"
      ]
    },
    {
      "cell_type": "code",
      "metadata": {
        "colab_type": "code",
        "id": "nFszJ1hBkLXr",
        "outputId": "064d05a2-32a3-4b71-e48e-404f67cf5715",
        "colab": {
          "base_uri": "https://localhost:8080/",
          "height": 34
        }
      },
      "source": [
        "seed=\"0\"\n",
        "network=\"wrn-40-2\"\n",
        "d = 40\n",
        "k = 2\n",
        "strides = [1, 1, 2, 2]\n",
        "net = WideResNet(d=d, k=k, n_classes=10, input_features=3, output_features=16, strides=strides).to(device)\n",
        "net.load_state_dict(torch.load('./CIFAR10/'+network+'-seed-'+seed+'-dict.pth',map_location=device))\n",
        "accuracy = _test_set_eval(net, device, cifar_testloader)\n",
        "accuracy  "
      ],
      "execution_count": 15,
      "outputs": [
        {
          "output_type": "execute_result",
          "data": {
            "text/plain": [
              "95.14"
            ]
          },
          "metadata": {
            "tags": []
          },
          "execution_count": 15
        }
      ]
    },
    {
      "cell_type": "markdown",
      "metadata": {
        "colab_type": "text",
        "id": "PGVx8TGau4Pg"
      },
      "source": [
        "#### Seed 1"
      ]
    },
    {
      "cell_type": "code",
      "metadata": {
        "id": "LiPLriuBIPnQ",
        "colab_type": "code",
        "outputId": "8b018618-b4e0-4b8b-d851-febae3751bcf",
        "colab": {
          "base_uri": "https://localhost:8080/",
          "height": 34
        }
      },
      "source": [
        "seed=\"1\"\n",
        "network=\"wrn-40-2\"\n",
        "d = 40\n",
        "k = 2\n",
        "strides = [1, 1, 2, 2]\n",
        "net = WideResNet(d=d, k=k, n_classes=10, input_features=3, output_features=16, strides=strides).to(device)\n",
        "net.load_state_dict(torch.load('./CIFAR10/'+network+'-seed-'+seed+'-dict.pth',map_location=device))\n",
        "accuracy = _test_set_eval(net, device, cifar_testloader)\n",
        "accuracy  "
      ],
      "execution_count": 16,
      "outputs": [
        {
          "output_type": "execute_result",
          "data": {
            "text/plain": [
              "95.12"
            ]
          },
          "metadata": {
            "tags": []
          },
          "execution_count": 16
        }
      ]
    },
    {
      "cell_type": "markdown",
      "metadata": {
        "colab_type": "text",
        "id": "8INjPBlsu4TL"
      },
      "source": [
        "#### Seed 2"
      ]
    },
    {
      "cell_type": "code",
      "metadata": {
        "id": "TW3myRc3IQez",
        "colab_type": "code",
        "outputId": "8d85edf9-79bd-4e7e-cf60-3e39fc648a1a",
        "colab": {
          "base_uri": "https://localhost:8080/",
          "height": 34
        }
      },
      "source": [
        "seed=\"2\"\n",
        "network=\"wrn-40-2\"\n",
        "d = 40\n",
        "k = 2\n",
        "strides = [1, 1, 2, 2]\n",
        "net = WideResNet(d=d, k=k, n_classes=10, input_features=3, output_features=16, strides=strides).to(device)\n",
        "net.load_state_dict(torch.load('./CIFAR10/'+network+'-seed-'+seed+'-dict.pth',map_location=device))\n",
        "accuracy = _test_set_eval(net, device, cifar_testloader)\n",
        "accuracy  "
      ],
      "execution_count": 17,
      "outputs": [
        {
          "output_type": "execute_result",
          "data": {
            "text/plain": [
              "95.23"
            ]
          },
          "metadata": {
            "tags": []
          },
          "execution_count": 17
        }
      ]
    },
    {
      "cell_type": "markdown",
      "metadata": {
        "colab_type": "text",
        "id": "J1gyKMXMskSI"
      },
      "source": [
        "# SVHN"
      ]
    },
    {
      "cell_type": "code",
      "metadata": {
        "id": "T2ALXPVnM8ew",
        "colab_type": "code",
        "outputId": "c2c4ebef-6456-41b2-fe9f-ef8ba5c23df2",
        "colab": {
          "base_uri": "https://localhost:8080/",
          "height": 71
        }
      },
      "source": [
        "svhn_normalize = transforms.Normalize((0.4377, 0.4438, 0.4728), (0.1980, 0.2010, 0.1970))\n",
        "\n",
        "svhn_transform = transforms.Compose([\n",
        "    transforms.ToTensor(),\n",
        "    svhn_normalize,\n",
        "])\n",
        "\n",
        "svhn_test_set = torchvision.datasets.SVHN(root='./data', split='test', download=True, transform=svhn_transform)\n",
        "svhn_test_loader = testloader = torch.utils.data.DataLoader(svhn_test_set, batch_size=100, shuffle=False, num_workers=0)"
      ],
      "execution_count": 18,
      "outputs": [
        {
          "output_type": "stream",
          "text": [
            "  0%|          | 16384/64275384 [00:00<06:50, 156546.38it/s]"
          ],
          "name": "stderr"
        },
        {
          "output_type": "stream",
          "text": [
            "Downloading http://ufldl.stanford.edu/housenumbers/test_32x32.mat to ./data/test_32x32.mat\n"
          ],
          "name": "stdout"
        },
        {
          "output_type": "stream",
          "text": [
            "64282624it [00:01, 55477601.72it/s]                             \n"
          ],
          "name": "stderr"
        }
      ]
    },
    {
      "cell_type": "markdown",
      "metadata": {
        "id": "ZM65-qRpNAd9",
        "colab_type": "text"
      },
      "source": [
        "#### WRN-16-1"
      ]
    },
    {
      "cell_type": "markdown",
      "metadata": {
        "colab_type": "text",
        "id": "-4ICC_X1u4lI"
      },
      "source": [
        "#### Seed 0"
      ]
    },
    {
      "cell_type": "code",
      "metadata": {
        "colab_type": "code",
        "id": "lGdN4LHbvOC8",
        "outputId": "bc0c7216-6c33-4e7c-b17c-9ce85f328d25",
        "colab": {
          "base_uri": "https://localhost:8080/",
          "height": 34
        }
      },
      "source": [
        "seed=\"0\"\n",
        "network=\"wrn-16-1\"\n",
        "d = 16\n",
        "k = 1\n",
        "strides = [1, 1, 2, 2]\n",
        "net = WideResNet(d=d, k=k, n_classes=10, input_features=3, output_features=16, strides=strides).to(device)\n",
        "net.load_state_dict(torch.load('./SVHN/'+network+'-seed-svhn-'+seed+'-dict.pth',map_location=device))\n",
        "accuracy = _test_set_eval(net, device, svhn_test_loader)\n",
        "accuracy  "
      ],
      "execution_count": 19,
      "outputs": [
        {
          "output_type": "execute_result",
          "data": {
            "text/plain": [
              "95.52"
            ]
          },
          "metadata": {
            "tags": []
          },
          "execution_count": 19
        }
      ]
    },
    {
      "cell_type": "markdown",
      "metadata": {
        "colab_type": "text",
        "id": "fN1TL9w-u4pJ"
      },
      "source": [
        "#### Seed 1"
      ]
    },
    {
      "cell_type": "code",
      "metadata": {
        "id": "nQk_WMsLNh1_",
        "colab_type": "code",
        "outputId": "0c7b7cd9-e3de-4f3e-e703-e93bc844c202",
        "colab": {
          "base_uri": "https://localhost:8080/",
          "height": 34
        }
      },
      "source": [
        "seed=\"1\"\n",
        "network=\"wrn-16-1\"\n",
        "d = 16\n",
        "k = 1\n",
        "strides = [1, 1, 2, 2]\n",
        "net = WideResNet(d=d, k=k, n_classes=10, input_features=3, output_features=16, strides=strides).to(device)\n",
        "net.load_state_dict(torch.load('./SVHN/'+network+'-seed-svhn-'+seed+'-dict.pth',map_location=device))\n",
        "accuracy = _test_set_eval(net, device, svhn_test_loader)\n",
        "accuracy  "
      ],
      "execution_count": 20,
      "outputs": [
        {
          "output_type": "execute_result",
          "data": {
            "text/plain": [
              "95.43"
            ]
          },
          "metadata": {
            "tags": []
          },
          "execution_count": 20
        }
      ]
    },
    {
      "cell_type": "markdown",
      "metadata": {
        "colab_type": "text",
        "id": "iDSkDdUMu4sr"
      },
      "source": [
        "#### Seed 2"
      ]
    },
    {
      "cell_type": "code",
      "metadata": {
        "id": "L5aCi_M3Nivu",
        "colab_type": "code",
        "outputId": "31274e4c-0206-46e1-fdff-476a24fb758d",
        "colab": {
          "base_uri": "https://localhost:8080/",
          "height": 34
        }
      },
      "source": [
        "seed=\"2\"\n",
        "network=\"wrn-16-1\"\n",
        "d = 16\n",
        "k = 1\n",
        "strides = [1, 1, 2, 2]\n",
        "net = WideResNet(d=d, k=k, n_classes=10, input_features=3, output_features=16, strides=strides).to(device)\n",
        "net.load_state_dict(torch.load('./SVHN/'+network+'-seed-svhn-'+seed+'-dict.pth',map_location=device))\n",
        "accuracy = _test_set_eval(net, device, svhn_test_loader)\n",
        "accuracy  "
      ],
      "execution_count": 21,
      "outputs": [
        {
          "output_type": "execute_result",
          "data": {
            "text/plain": [
              "95.47"
            ]
          },
          "metadata": {
            "tags": []
          },
          "execution_count": 21
        }
      ]
    },
    {
      "cell_type": "markdown",
      "metadata": {
        "colab_type": "text",
        "id": "Mh0l4h1_skcj"
      },
      "source": [
        "#### WRN 16-2"
      ]
    },
    {
      "cell_type": "markdown",
      "metadata": {
        "colab_type": "text",
        "id": "URhlI9K9u48L"
      },
      "source": [
        "#### Seed 0"
      ]
    },
    {
      "cell_type": "code",
      "metadata": {
        "colab_type": "code",
        "id": "U1tDyRDMvO-9",
        "outputId": "fcea9731-e4db-4900-bf9a-b062aabc6ddf",
        "colab": {
          "base_uri": "https://localhost:8080/",
          "height": 34
        }
      },
      "source": [
        "seed=\"0\"\n",
        "network=\"wrn-16-2\"\n",
        "d = 16\n",
        "k = 2\n",
        "strides = [1, 1, 2, 2]\n",
        "net = WideResNet(d=d, k=k, n_classes=10, input_features=3, output_features=16, strides=strides).to(device)\n",
        "net.load_state_dict(torch.load('./SVHN/'+network+'-seed-svhn-'+seed+'-dict.pth',map_location=device))\n",
        "accuracy = _test_set_eval(net, device, svhn_test_loader)\n",
        "accuracy  "
      ],
      "execution_count": 22,
      "outputs": [
        {
          "output_type": "execute_result",
          "data": {
            "text/plain": [
              "96.17"
            ]
          },
          "metadata": {
            "tags": []
          },
          "execution_count": 22
        }
      ]
    },
    {
      "cell_type": "markdown",
      "metadata": {
        "colab_type": "text",
        "id": "-tvj0PA3u4_4"
      },
      "source": [
        "#### Seed 1"
      ]
    },
    {
      "cell_type": "code",
      "metadata": {
        "id": "z_uSVjh9NoKa",
        "colab_type": "code",
        "outputId": "7b12eb70-2d60-41e3-d091-994862ca5ec3",
        "colab": {
          "base_uri": "https://localhost:8080/",
          "height": 34
        }
      },
      "source": [
        "seed=\"1\"\n",
        "network=\"wrn-16-2\"\n",
        "d = 16\n",
        "k = 2\n",
        "strides = [1, 1, 2, 2]\n",
        "net = WideResNet(d=d, k=k, n_classes=10, input_features=3, output_features=16, strides=strides).to(device)\n",
        "net.load_state_dict(torch.load('./SVHN/'+network+'-seed-svhn-'+seed+'-dict.pth',map_location=device))\n",
        "accuracy = _test_set_eval(net, device, svhn_test_loader)\n",
        "accuracy  "
      ],
      "execution_count": 23,
      "outputs": [
        {
          "output_type": "execute_result",
          "data": {
            "text/plain": [
              "96.09"
            ]
          },
          "metadata": {
            "tags": []
          },
          "execution_count": 23
        }
      ]
    },
    {
      "cell_type": "markdown",
      "metadata": {
        "colab_type": "text",
        "id": "Fpz7VFsNu5Dn"
      },
      "source": [
        "#### Seed 2"
      ]
    },
    {
      "cell_type": "code",
      "metadata": {
        "id": "bt6LzrPUNpfF",
        "colab_type": "code",
        "outputId": "f6f677ad-fcb3-42cb-b727-9f0ceb4bbdf3",
        "colab": {
          "base_uri": "https://localhost:8080/",
          "height": 34
        }
      },
      "source": [
        "seed=\"2\"\n",
        "network=\"wrn-16-2\"\n",
        "d = 16\n",
        "k = 2\n",
        "strides = [1, 1, 2, 2]\n",
        "net = WideResNet(d=d, k=k, n_classes=10, input_features=3, output_features=16, strides=strides).to(device)\n",
        "net.load_state_dict(torch.load('./SVHN/'+network+'-seed-svhn-'+seed+'-dict.pth',map_location=device))\n",
        "accuracy = _test_set_eval(net, device, svhn_test_loader)\n",
        "accuracy  "
      ],
      "execution_count": 24,
      "outputs": [
        {
          "output_type": "execute_result",
          "data": {
            "text/plain": [
              "96.03"
            ]
          },
          "metadata": {
            "tags": []
          },
          "execution_count": 24
        }
      ]
    },
    {
      "cell_type": "markdown",
      "metadata": {
        "id": "WhW2qkkmNqcf",
        "colab_type": "text"
      },
      "source": [
        "#### WRN 40-1"
      ]
    },
    {
      "cell_type": "markdown",
      "metadata": {
        "id": "Qd-ul23tNydk",
        "colab_type": "text"
      },
      "source": [
        "#### Seed 0"
      ]
    },
    {
      "cell_type": "code",
      "metadata": {
        "id": "uN1Y_dbqNrjh",
        "colab_type": "code",
        "outputId": "ed95fd98-ab46-4ce2-db6e-e2096a9b0bdf",
        "colab": {
          "base_uri": "https://localhost:8080/",
          "height": 34
        }
      },
      "source": [
        "seed=\"0\"\n",
        "network=\"wrn-40-1\"\n",
        "d = 40\n",
        "k = 1\n",
        "strides = [1, 1, 2, 2]\n",
        "net = WideResNet(d=d, k=k, n_classes=10, input_features=3, output_features=16, strides=strides).to(device)\n",
        "net.load_state_dict(torch.load('./SVHN/'+network+'-seed-svhn-'+seed+'-dict.pth',map_location=device))\n",
        "accuracy = _test_set_eval(net, device, svhn_test_loader)\n",
        "accuracy  "
      ],
      "execution_count": 25,
      "outputs": [
        {
          "output_type": "execute_result",
          "data": {
            "text/plain": [
              "96.07"
            ]
          },
          "metadata": {
            "tags": []
          },
          "execution_count": 25
        }
      ]
    },
    {
      "cell_type": "markdown",
      "metadata": {
        "id": "hN91JAc1Nuql",
        "colab_type": "text"
      },
      "source": [
        "#### Seed 1"
      ]
    },
    {
      "cell_type": "code",
      "metadata": {
        "id": "atlFq1dPNwIh",
        "colab_type": "code",
        "outputId": "284a2894-29d0-4aff-b5db-0b1c21ed13ff",
        "colab": {
          "base_uri": "https://localhost:8080/",
          "height": 34
        }
      },
      "source": [
        "seed=\"1\"\n",
        "network=\"wrn-40-1\"\n",
        "d = 40\n",
        "k = 1\n",
        "strides = [1, 1, 2, 2]\n",
        "net = WideResNet(d=d, k=k, n_classes=10, input_features=3, output_features=16, strides=strides).to(device)\n",
        "net.load_state_dict(torch.load('./SVHN/'+network+'-seed-svhn-'+seed+'-dict.pth',map_location=device))\n",
        "accuracy = _test_set_eval(net, device, svhn_test_loader)\n",
        "accuracy  "
      ],
      "execution_count": 26,
      "outputs": [
        {
          "output_type": "execute_result",
          "data": {
            "text/plain": [
              "96.14"
            ]
          },
          "metadata": {
            "tags": []
          },
          "execution_count": 26
        }
      ]
    },
    {
      "cell_type": "markdown",
      "metadata": {
        "id": "UDm0c7_QN0MF",
        "colab_type": "text"
      },
      "source": [
        "#### Seed 2"
      ]
    },
    {
      "cell_type": "code",
      "metadata": {
        "id": "hptFkjnqN1Gh",
        "colab_type": "code",
        "outputId": "5f6cd54d-04ae-4762-c2d5-ddd48a0d24e4",
        "colab": {
          "base_uri": "https://localhost:8080/",
          "height": 34
        }
      },
      "source": [
        "seed=\"2\"\n",
        "network=\"wrn-40-1\"\n",
        "d = 40\n",
        "k = 1\n",
        "strides = [1, 1, 2, 2]\n",
        "net = WideResNet(d=d, k=k, n_classes=10, input_features=3, output_features=16, strides=strides).to(device)\n",
        "net.load_state_dict(torch.load('./SVHN/'+network+'-seed-svhn-'+seed+'-dict.pth',map_location=device))\n",
        "accuracy = _test_set_eval(net, device, svhn_test_loader)\n",
        "accuracy  "
      ],
      "execution_count": 27,
      "outputs": [
        {
          "output_type": "execute_result",
          "data": {
            "text/plain": [
              "96.19"
            ]
          },
          "metadata": {
            "tags": []
          },
          "execution_count": 27
        }
      ]
    },
    {
      "cell_type": "markdown",
      "metadata": {
        "colab_type": "text",
        "id": "ISg1_7DMN3ev"
      },
      "source": [
        "#### WRN 40-2"
      ]
    },
    {
      "cell_type": "markdown",
      "metadata": {
        "colab_type": "text",
        "id": "eiw27C-WN5rD"
      },
      "source": [
        "#### Seed 0"
      ]
    },
    {
      "cell_type": "code",
      "metadata": {
        "id": "YqY3XIMoN9Mv",
        "colab_type": "code",
        "outputId": "4b01f623-2dd9-43b3-d58c-4cf77cb62584",
        "colab": {
          "base_uri": "https://localhost:8080/",
          "height": 34
        }
      },
      "source": [
        "seed=\"0\"\n",
        "network=\"wrn-40-2\"\n",
        "d = 40\n",
        "k = 2\n",
        "strides = [1, 1, 2, 2]\n",
        "net = WideResNet(d=d, k=k, n_classes=10, input_features=3, output_features=16, strides=strides).to(device)\n",
        "net.load_state_dict(torch.load('./SVHN/'+network+'-seed-svhn-'+seed+'-dict.pth',map_location=device))\n",
        "accuracy = _test_set_eval(net, device, svhn_test_loader)\n",
        "accuracy  "
      ],
      "execution_count": 28,
      "outputs": [
        {
          "output_type": "execute_result",
          "data": {
            "text/plain": [
              "96.14"
            ]
          },
          "metadata": {
            "tags": []
          },
          "execution_count": 28
        }
      ]
    },
    {
      "cell_type": "markdown",
      "metadata": {
        "colab_type": "text",
        "id": "ZbVKVjLRN5xP"
      },
      "source": [
        "#### Seed 1"
      ]
    },
    {
      "cell_type": "code",
      "metadata": {
        "id": "yuOEFxuRN81C",
        "colab_type": "code",
        "outputId": "54828d7e-6a1a-4322-d73f-f0f952bb1fd0",
        "colab": {
          "base_uri": "https://localhost:8080/",
          "height": 34
        }
      },
      "source": [
        "seed=\"1\"\n",
        "network=\"wrn-40-2\"\n",
        "d = 40\n",
        "k = 2\n",
        "strides = [1, 1, 2, 2]\n",
        "net = WideResNet(d=d, k=k, n_classes=10, input_features=3, output_features=16, strides=strides).to(device)\n",
        "net.load_state_dict(torch.load('./SVHN/'+network+'-seed-svhn-'+seed+'-dict.pth',map_location=device))\n",
        "accuracy = _test_set_eval(net, device, svhn_test_loader)\n",
        "accuracy  "
      ],
      "execution_count": 29,
      "outputs": [
        {
          "output_type": "execute_result",
          "data": {
            "text/plain": [
              "96.13"
            ]
          },
          "metadata": {
            "tags": []
          },
          "execution_count": 29
        }
      ]
    },
    {
      "cell_type": "markdown",
      "metadata": {
        "colab_type": "text",
        "id": "p1aIJSmrN52f"
      },
      "source": [
        "#### Seed 2"
      ]
    },
    {
      "cell_type": "code",
      "metadata": {
        "id": "_kpRolGiN4GJ",
        "colab_type": "code",
        "outputId": "4b1b3ec1-9bf4-43d9-9ec6-af201af0881f",
        "colab": {
          "base_uri": "https://localhost:8080/",
          "height": 34
        }
      },
      "source": [
        "seed=\"2\"\n",
        "network=\"wrn-40-2\"\n",
        "d = 40\n",
        "k = 2\n",
        "strides = [1, 1, 2, 2]\n",
        "net = WideResNet(d=d, k=k, n_classes=10, input_features=3, output_features=16, strides=strides).to(device)\n",
        "net.load_state_dict(torch.load('./SVHN/'+network+'-seed-svhn-'+seed+'-dict.pth',map_location=device))\n",
        "accuracy = _test_set_eval(net, device, svhn_test_loader)\n",
        "accuracy  "
      ],
      "execution_count": 30,
      "outputs": [
        {
          "output_type": "execute_result",
          "data": {
            "text/plain": [
              "96.37"
            ]
          },
          "metadata": {
            "tags": []
          },
          "execution_count": 30
        }
      ]
    },
    {
      "cell_type": "code",
      "metadata": {
        "id": "4Df3J6MWPPMl",
        "colab_type": "code",
        "colab": {}
      },
      "source": [
        ""
      ],
      "execution_count": 0,
      "outputs": []
    }
  ]
}